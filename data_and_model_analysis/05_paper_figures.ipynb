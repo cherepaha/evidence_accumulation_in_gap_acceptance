{
 "cells": [
  {
   "cell_type": "code",
   "execution_count": null,
   "outputs": [],
   "source": [
    "import numpy as np\n",
    "import pandas as pd\n",
    "import matplotlib.pyplot as plt\n",
    "import seaborn as sns\n",
    "import helper\n",
    "import os\n",
    "from matplotlib.lines import Line2D\n",
    "import matplotlib.ticker as ticker"
   ],
   "metadata": {
    "collapsed": false,
    "pycharm": {
     "name": "#%%\n"
    }
   }
  },
  {
   "cell_type": "code",
   "execution_count": null,
   "outputs": [],
   "source": [
    "exp_measures = pd.read_csv(\"../data/measures.csv\")\n",
    "exp_data = pd.read_csv(\"../data/processed_data.csv\", index_col=[\"subj_id\", \"session\", \"route\", \"intersection_no\"])\n",
    "model_params = pd.read_csv(\"../model_fit_results/model_1/best_fit_parameters/full_data_parameters_fitted.csv\")\n",
    "simulation_results_path = \"../model_fit_results/model_1/simulation_results/\""
   ],
   "metadata": {
    "collapsed": false,
    "pycharm": {
     "name": "#%%\n"
    }
   }
  },
  {
   "cell_type": "markdown",
   "source": [
    "# Main paper figures"
   ],
   "metadata": {
    "collapsed": false,
    "pycharm": {
     "name": "#%% md\n"
    }
   }
  },
  {
   "cell_type": "markdown",
   "source": [
    "### Model diagram"
   ],
   "metadata": {
    "collapsed": false
   }
  },
  {
   "cell_type": "code",
   "execution_count": null,
   "outputs": [],
   "source": [
    "def get_trace(t, dt, tta, d, model_params):  \n",
    "    noise = np.random.randn(len(t))\n",
    "    drift = model_params[\"alpha\"]*(tta+ model_params[\"beta\"]*d - model_params[\"theta\"])\n",
    "    dx = drift * simulation_params[\"dt\"] +  model_params[\"noise\"] * noise * np.sqrt(simulation_params[\"dt\"])\n",
    "    x = np.append([0], np.cumsum(dx)[:-1])    \n",
    "    boundary = model_params[\"b_0\"]/(1+np.exp(-model_params[\"k\"]*(tta-model_params[\"tta_crit\"])))\n",
    "    response_time_idx = np.where(abs(x)>boundary)\n",
    "    if len(response_time_idx[0])>0:\n",
    "        return(x[:response_time_idx[0][0]+1])\n",
    "    else:\n",
    "        return(x)\n",
    "    \n",
    "def generate_model_traces(t, dt, tta, d, model_params):\n",
    "    is_two_correct = False\n",
    "    is_rt_ok = False\n",
    "    while not(is_two_correct) or not(is_rt_ok):\n",
    "        trials = [get_trace(t, dt, tta, d, model_params) for i in range(3)]\n",
    "        is_two_correct = (np.sum([1 if x[-1]>0 else 0 for x in trials]) == 2)\n",
    "        rts = [model_params[\"ndt_location\"]+len(trial)*dt for trial in trials]\n",
    "        is_rt_ok = all([(rt>0.4) & (rt<0.7) for rt in rts])\n",
    "    pd.DataFrame(trials).to_csv(\"ddm_traces.csv\")"
   ],
   "metadata": {
    "collapsed": false,
    "pycharm": {
     "name": "#%%\n"
    }
   }
  },
  {
   "cell_type": "code",
   "execution_count": null,
   "outputs": [],
   "source": [
    "def plot_model_traces(model_params, simulation_params, generate_new=False):\n",
    "    colors = {\"go\": \"#4052ac\", \"stay\": \"#e6263d\", \"equation\": \"#50596A\"}\n",
    "    condition = {\"tta\": 6, \"d\": 120}\n",
    "    dt = simulation_params[\"dt\"]\n",
    "    t = np.arange(0, simulation_params[\"duration\"], dt)\n",
    "    d = condition[\"d\"] - (condition[\"d\"] / condition[\"tta\"])*t\n",
    "    tta = condition[\"tta\"] - t\n",
    "    ndt = model_params[\"ndt_location\"]\n",
    "\n",
    "    if generate_new:\n",
    "        generate_model_traces(t, dt, tta, d, model_params)        \n",
    "    trials = [x[1][~x[1].isna()].values[1:] for x in pd.read_csv(\"ddm_traces.csv\").iterrows()]\n",
    "    \n",
    "    fig, (ax_rate, ax) = plt.subplots(2, 1, figsize=(8,6), gridspec_kw={\"height_ratios\": [1, 3]}, dpi=150, sharex=True)\n",
    "    \n",
    "    for x in trials:\n",
    "        color = colors[\"go\"] if x[-1]>0 else colors[\"stay\"]\n",
    "        ax.plot(t[:len(x)]+ndt, x, lw=1.0, alpha=0.4, color=color)\n",
    "        ax.plot(t[len(x)]+ndt, x[-1], ls=\"\", alpha=0.8, marker=\"o\", ms=4, color=color)\n",
    "\n",
    "    for tta_condition in [4, 6]:\n",
    "        boundary = model_params[\"b_0\"]/(1+np.exp(-model_params[\"k\"]*(tta_condition-t-model_params[\"tta_crit\"])))\n",
    "        ax.plot(t+ndt, boundary, ls=\"--\", color=\"gray\", alpha=0.6)\n",
    "        ax.plot(t+ndt, -boundary, ls=\"--\", color=\"gray\", alpha=0.6)\n",
    "        ax.text(0.78, 0.3+0.15*(tta_condition-4), r\"TTA$|_{t=0}$=%is\" % (tta_condition),\n",
    "                color=colors[\"equation\"], alpha=0.6, fontsize=16)\n",
    "        \n",
    "        # Add extra markers to illustrate what would happen if the boundary was lower (TTA condition is 4s)\n",
    "        if tta_condition==4:\n",
    "            for x in trials:\n",
    "                color = colors[\"go\"] if x[-1]>0 else colors[\"stay\"]\n",
    "                response_time_idx = np.where(abs(x)>boundary[:len(x)])[0][0]\n",
    "                ax.plot(t[response_time_idx]+ndt, x[response_time_idx], ls=\"\", alpha=0.5,\n",
    "                        marker=\"o\", ms=4, color=color)\n",
    "\n",
    "    ax.text(0.01, 0.04, \"Non-decision time\", color=colors[\"equation\"], fontsize=13)\n",
    "    ax.plot([0, ndt], [0,0], lw=1, color=colors[\"equation\"])\n",
    "    ax.vlines(x=[0, ndt-0.002], ymin=-0.02, ymax=0.09, ls=\"--\", color=colors[\"equation\"], lw=1)\n",
    "\n",
    "    ax.annotate(\"\", xy=(ndt,0), xytext=(ndt+0.2, 0.15),\n",
    "                 arrowprops=dict(arrowstyle=\"<-\", connectionstyle=\"arc3\", color=colors[\"equation\"], linewidth=2))\n",
    "    ax.text(0.43, 0.02, r\"$dx = \\alpha(TTA + \\beta d - \\theta_{crit}) dt + dW$\", color=colors[\"equation\"], fontsize=16)\n",
    "    \n",
    "    ax.text(0.47, 0.6, \"Go\", color=colors[\"go\"], alpha=0.7, fontsize=16)\n",
    "    ax.text(0.47, -0.65, \"Stay\", color=colors[\"stay\"], alpha=0.7, fontsize=16)\n",
    "\n",
    "    ax.set_xlabel(r\"Time $t$\", fontsize=14)\n",
    "    ax.set_ylabel(r\"Accumulated evidence $x$\", fontsize=14)\n",
    "    ax.set_yticks([-0.6, -0.3, 0, 0.3, 0.6])\n",
    "    ax.set_ylim((-0.7, 0.7))\n",
    "   \n",
    "    ax_rate.plot(t+ndt, tta+model_params[\"beta\"]*d, color=\"#50596A\", alpha=0.8)\n",
    "    ax_rate.axhline(model_params[\"theta\"], color=\"grey\", alpha=0.6, ls=\"--\", xmin=0.01, xmax=0.99)\n",
    "    ax_rate.set_ylabel(r\"$TTA + \\beta d$\", fontsize=16)\n",
    "    ax_rate.set_xlim((0,1))\n",
    "    ax_rate.set_ylim((8,12))\n",
    "    ax_rate.text(0.05, 9.5, r\"$\\theta_{crit}$\", color=\"grey\", alpha=0.7, fontsize=16)\n",
    "\n",
    "    sns.despine(offset=2, trim=True)\n",
    "    plt.tight_layout()"
   ],
   "metadata": {
    "collapsed": false,
    "pycharm": {
     "name": "#%%\n"
    }
   }
  },
  {
   "cell_type": "code",
   "execution_count": null,
   "outputs": [],
   "source": [
    "all_subj_params = model_params[model_params.subj_id==\"all\"].to_dict(\"records\")[0]\n",
    "all_subj_params[\"ndt_location\"] -= 0.1\n",
    "all_subj_params[\"theta\"] += 0.5\n",
    "simulation_params = {\"dt\": 0.0001, \"duration\": 1}\n",
    "\n",
    "plot_model_traces(all_subj_params, simulation_params, generate_new=False)\n",
    "plt.savefig(\"../output/fig_model_diagram.png\", bbox_inches=\"tight\")"
   ],
   "metadata": {
    "collapsed": false,
    "pycharm": {
     "name": "#%%\n"
    }
   }
  },
  {
   "cell_type": "markdown",
   "source": [
    "### Trial timeline"
   ],
   "metadata": {
    "collapsed": false,
    "pycharm": {
     "name": "#%% md\n"
    }
   }
  },
  {
   "cell_type": "code",
   "execution_count": null,
   "outputs": [],
   "source": [
    "traj_id = (129, 1, 2, 5)\n",
    "traj = exp_data.loc[traj_id].reset_index()"
   ],
   "metadata": {
    "collapsed": false,
    "pycharm": {
     "name": "#%%\n"
    }
   }
  },
  {
   "cell_type": "code",
   "execution_count": null,
   "outputs": [],
   "source": [
    "def plot_traj(traj, ax=None):\n",
    "    color = \"#50596A\"\n",
    "    font_size = 14\n",
    "    ms = 12\n",
    "    lw = 3\n",
    "    \n",
    "    idx_bot_spawn = int(traj.iloc[0].idx_bot_spawn)\n",
    "    idx_response = int(traj.iloc[0].idx_response)\n",
    "    idx_min_distance = int(traj.iloc[0].idx_min_distance)\n",
    "    tta = int(traj.iloc[0].tta_condition)\n",
    "    d = int(traj.iloc[0].d_condition)\n",
    "    \n",
    "    traj.loc[:, \"t\"] -= traj.t.values[idx_bot_spawn]\n",
    "    \n",
    "    fig, axes = plt.subplots(4, 1, figsize=(8,6), dpi=150, sharex=True)\n",
    "    axes[0].plot(traj.t, traj.ego_v, color=color, lw=lw)\n",
    "    axes[0].plot(traj.t[idx_bot_spawn], traj.ego_v[idx_bot_spawn], color=color, ls=\"\", marker=\"o\", ms=ms)\n",
    "    axes[0].plot(traj.t[idx_response], traj.ego_v[idx_response], color=color, ls=\"\", marker=\"x\", ms=ms)\n",
    "    axes[0].set_ylabel(\"Velocity, m/s\", fontsize=font_size)\n",
    "    axes[0].set_ylim((-1, 7))\n",
    "    \n",
    "    for x in [traj.t[idx_bot_spawn], traj.t[idx_response]]:\n",
    "        axes[0].axvline(x=x, ymin=-0.3, ymax=0.5, c=color, ls=\"--\", clip_on=False)\n",
    "        axes[1].axvline(x=x, ymin=-0.2, ymax=1, c=color, ls=\"--\", clip_on=False)\n",
    "    \n",
    "    axes[1].annotate(text=\"\", xy=(traj.t[idx_bot_spawn], 70), xytext=(traj.t[idx_response], 70),\n",
    "                     arrowprops=dict(arrowstyle=\"<->\", color=\"0.5\"))\n",
    "    axes[1].text(.21, .79, \"Response time (RT)\", transform=axes[1].transAxes, fontsize=font_size)\n",
    "    \n",
    "#     throttle_brake = traj.throttle-traj.brake\n",
    "    axes[1].plot(traj.t, 100*traj.throttle, color=color, lw=lw)\n",
    "    axes[1].plot(traj.t[idx_bot_spawn], 100*traj.throttle[idx_bot_spawn], color=color, ls=\"\", marker=\"o\", ms=ms)\n",
    "    axes[1].plot(traj.t[idx_response], 100*traj.throttle[idx_response], color=color, ls=\"\", marker=\"x\", ms=ms)\n",
    "    axes[1].set_ylabel(\"Gas pedal, %\", fontsize=font_size)\n",
    "    axes[1].set_ylim((-20, 120))\n",
    "    axes[1].set_yticks([0, 100])\n",
    "\n",
    "    axes[2].plot(traj.t[idx_bot_spawn:], traj.d_ego_bot[idx_bot_spawn:], color=color, lw=lw)\n",
    "    axes[2].plot(traj.t[idx_bot_spawn], traj.d_ego_bot[idx_bot_spawn], color=color, ls=\"\", marker=\"o\", ms=ms)\n",
    "    axes[2].plot(traj.t[idx_response], traj.d_ego_bot[idx_response], color=color, ls=\"\", marker=\"x\", ms=ms)\n",
    "    axes[2].set_ylabel(\"Distance, m\", fontsize=font_size)\n",
    "    axes[2].set_ylim((80, 122))\n",
    "\n",
    "    axes[3].plot(traj.t[idx_bot_spawn:], traj.tta[idx_bot_spawn:], color=color, lw=lw)\n",
    "    axes[3].plot(traj.t[idx_bot_spawn], traj.tta[idx_bot_spawn], color=color, ls=\"\", marker=\"o\",\n",
    "                 label=\"Velocity$=0$: oncoming car appears\", ms=ms)\n",
    "    axes[3].plot(traj.t[idx_response], traj.tta[idx_response], color=color, ls=\"\", marker=\"x\",\n",
    "                 label=\"Gas pedal$>0$: decision is made\", ms=ms)\n",
    "    axes[3].set_ylabel(\"TTA, s\", fontsize=font_size)\n",
    "    axes[3].set_ylim((3.5, 6.5))\n",
    "    axes[3].set_yticks([4, 5, 6])\n",
    "\n",
    "    axes[3].set_xlim((-0.3, 1.5))\n",
    "    axes[3].set_xticks(np.arange(0, 1.4, 0.3))\n",
    "    \n",
    "    axes[3].set_xlabel(\"Time $t$, s\", fontsize=font_size)\n",
    "\n",
    "    legend = fig.legend(loc=\"upper left\", fontsize=font_size, bbox_to_anchor=(0.4, 1.05), frameon=False)\n",
    "#     legend.get_title().set_fontsize(\"16\")\n",
    "    plt.tight_layout()"
   ],
   "metadata": {
    "collapsed": false,
    "pycharm": {
     "name": "#%%\n"
    }
   }
  },
  {
   "cell_type": "code",
   "execution_count": null,
   "outputs": [],
   "source": [
    "plot_traj(traj)\n",
    "plt.savefig(\"../output/fig_trial_timeline.png\", bbox_inches=\"tight\")"
   ],
   "metadata": {
    "collapsed": false,
    "pycharm": {
     "name": "#%%\n"
    }
   }
  },
  {
   "cell_type": "markdown",
   "source": [
    "### Model fit against data"
   ],
   "metadata": {
    "collapsed": false
   }
  },
  {
   "cell_type": "code",
   "execution_count": null,
   "outputs": [],
   "source": [
    "def plot_all_subj_p_go(ax, exp_data, d_condition, marker, color, marker_offset=0):\n",
    "    between_subj_mean = exp_data[(exp_data.d_condition==d_condition)].groupby([\"subj_id\", \"tta_condition\"]).mean()\n",
    "    data_subj_d_measures = helper.get_mean_sem(between_subj_mean.reset_index(), var=\"is_go_decision\", n_cutoff=2)\n",
    "    ax.errorbar(data_subj_d_measures.index+marker_offset, data_subj_d_measures[\"mean\"], yerr=data_subj_d_measures[\"sem\"],\n",
    "                    ls=\"\", marker=marker, ms=9, color=color)\n",
    "    \n",
    "def plot_subj_p_go(ax, exp_data, d_condition, subj_id, marker, color):\n",
    "    data_subj_d_measures = exp_data[(exp_data.subj_id==subj_id) & (exp_data.d_condition==d_condition)]\n",
    "    psf_ci = helper.get_psf_ci(data_subj_d_measures)\n",
    "    ax.plot(psf_ci.tta_condition, psf_ci.p_go, ls=\"\", marker=marker, ms=9, color=color, zorder=10)\n",
    "    ax.vlines(x=psf_ci.tta_condition, ymin=psf_ci.ci_l, ymax=psf_ci.ci_r, color=color, zorder=10)\n",
    "\n",
    "def plot_subj_rt(ax, exp_data, d_condition, subj_id, marker, color, marker_offset=0):\n",
    "    if subj_id==\"all\":\n",
    "        between_subj_mean = exp_data[(exp_data.d_condition==d_condition) & (exp_data.is_go_decision)].groupby([\"subj_id\", \"tta_condition\"]).mean()\n",
    "        measures = between_subj_mean.reset_index()\n",
    "    else:\n",
    "        measures = exp_data[(exp_data.subj_id==subj_id) & (exp_data.d_condition==d_condition) & (exp_data.is_go_decision)]\n",
    "\n",
    "    if len(measures)>0:\n",
    "        measures_mean_sem = helper.get_mean_sem(measures, var=\"RT\", n_cutoff=2)\n",
    "        ax.errorbar(measures_mean_sem.index+marker_offset, measures_mean_sem[\"mean\"], yerr=measures_mean_sem[\"sem\"],\n",
    "                        ls=\"\", marker=marker, ms=9, color=color)\n",
    "    \n",
    "def plot_compare_model_exp(var, exp_data, model_measures, ylabel):  \n",
    "    #because of the bug in matplotlib/pandas, we need to convert subj_id to str to avoid warnings\n",
    "    exp_data = exp_data.astype({\"subj_id\": str})\n",
    "    # group_rt_means = pd.read_csv(\"rt_group_means.csv\")\n",
    "    model_measures = model_measures[(model_measures.tta_condition>=4.0) & (model_measures.tta_condition<=6.0)]\n",
    "\n",
    "    d_conditions = [90, 120, 150]\n",
    "    markers=[\"o\", \"s\", \"^\"]\n",
    "    colors = [plt.cm.viridis(r) for r in np.linspace(0.1,0.7,len(d_conditions))]\n",
    "    \n",
    "    subjects = model_measures.subj_id.unique()\n",
    "    \n",
    "    fig, axes = plt.subplots(4, 5, figsize=(14,12), sharex=True, sharey=True)\n",
    "\n",
    "    axes_to_plot = np.concatenate([axes[:,:4].flatten(), [axes[0,4]]])\n",
    "    for subj_id, subj_idx, ax in zip(subjects, range(len(subjects)), axes_to_plot):\n",
    "        ax.set_title(\"All participants\" if subj_id==\"all\" else \"P%s\" % (subj_idx+1), fontsize=16)\n",
    "        for d_condition, color, marker in zip(d_conditions, colors, markers):\n",
    "            model_subj_d_measures = model_measures[(model_measures.subj_id==subj_id) \n",
    "                                                   & (model_measures.d_condition==d_condition)]         \n",
    "            \n",
    "            if var==\"is_go_decision\":\n",
    "                # Model\n",
    "                ax.plot(model_subj_d_measures.tta_condition, model_subj_d_measures[var], \n",
    "                    color=color, label=d_condition)\n",
    "                \n",
    "                # Data\n",
    "                # for all subjects, use scipy sem estimates, since we average over continuous measures (p_go)\n",
    "                if subj_id==\"all\":\n",
    "                    plot_all_subj_p_go(ax, exp_data, d_condition, marker, color)\n",
    "                # for individual subjects, use binomial proportion sem estimates, since we average over binary measures (p_go)\n",
    "                else:\n",
    "                    plot_subj_p_go(ax, exp_data, d_condition, subj_id, marker, color)\n",
    "\n",
    "            elif var==\"RT\":\n",
    "                # Model\n",
    "                ax.plot(model_subj_d_measures.tta_condition, model_subj_d_measures[var], color=color, label=d_condition)\n",
    "\n",
    "                # Data\n",
    "                plot_subj_rt(ax, exp_data, d_condition, subj_id, marker, color)\n",
    "                \n",
    "                # ax.set_xticklabels([4, 5, 6])\n",
    "                ax.set_yticks([0.3, 0.6, 0.9, 1.2])\n",
    "            else:\n",
    "                raise(ValueError)\n",
    "\n",
    "        ax.legend().remove()\n",
    "        ax.set_xlabel(\"\")\n",
    "        ax.set_ylabel(\"\")\n",
    "\n",
    "    sns.despine(offset=5, trim=True)\n",
    "\n",
    "    for ax in axes[1:,4]:\n",
    "        fig.delaxes(ax)\n",
    "\n",
    "    plt.tight_layout()\n",
    "\n",
    "    legend_elements = ([Line2D([0], [0], color=color, marker=marker, ms=9, lw=0, label=\"Data, d=%im\" % (d_condition))\n",
    "                       for d_condition, color, marker in zip(d_conditions, colors, markers)] \n",
    "                       + [Line2D([0], [0], color=\"grey\", label=\"Model\")])\n",
    "\n",
    "    fig.legend(handles=legend_elements, loc=\"center\", bbox_to_anchor=(0.9, 0.62), fontsize=16, frameon=False)\n",
    "\n",
    "    fig.text(0.35, -0.02, \"Time-to-arrival (TTA), s\", fontsize=18)\n",
    "    fig.text(-0.02, 0.39, ylabel, fontsize=18, rotation=90)"
   ],
   "metadata": {
    "collapsed": false,
    "pycharm": {
     "name": "#%%\n"
    }
   }
  },
  {
   "cell_type": "code",
   "execution_count": null,
   "outputs": [],
   "source": [
    "model_measures_all_conditions = pd.read_csv(os.path.join(simulation_results_path, \"full_data_measures.csv\"))\n",
    "\n",
    "plot_compare_model_exp(\"is_go_decision\", exp_measures, model_measures_all_conditions, \"Probability of go decision\")\n",
    "plt.savefig(\"../output/fig_p_go.png\", bbox_inches=\"tight\")\n",
    "\n",
    "plot_compare_model_exp(\"RT\", exp_measures, model_measures_all_conditions, \"Response time, s\")\n",
    "plt.savefig(\"../output/fig_RT.png\", bbox_inches=\"tight\")"
   ],
   "metadata": {
    "collapsed": false,
    "pycharm": {
     "name": "#%%\n"
    }
   }
  },
  {
   "cell_type": "markdown",
   "source": [
    "### RT distributions"
   ],
   "metadata": {
    "collapsed": false
   }
  },
  {
   "cell_type": "code",
   "execution_count": null,
   "outputs": [],
   "source": [
    "def plot_condition_vincentized_dist(ax, condition, condition_data, kind=\"cdf\"):\n",
    "    # colors = dict(zip([90,120,150], [plt.cm.viridis(r) for r in np.linspace(0.1,0.7,3)]))\n",
    "    # markers={90: \"o\", 120: \"s\", 150: \"^\"}\n",
    "#     q = [0.1, 0.3, 0.5, 0.7, 0.9]\n",
    "    q = np.linspace(0.01, 0.99, 15)\n",
    "    condition_quantiles = condition_data.groupby(\"subj_id\").apply(lambda d: np.quantile(a=d.RT, q=q)).mean()\n",
    "\n",
    "    rt_range = np.linspace(condition_quantiles.min(), condition_quantiles.max(), len(q))\n",
    "    step = rt_range[1] - rt_range[0]\n",
    "    rt_grid = np.concatenate([rt_range[:3]-3*step, rt_range, rt_range[-3:]+step*3])\n",
    "    vincentized_cdf = np.interp(rt_grid, condition_quantiles, q, left=0, right=1)\n",
    "    vincentized_pdf = helper.differentiate(rt_grid, vincentized_cdf)\n",
    "\n",
    "    ax.plot(rt_grid, vincentized_cdf, label=\"Data\", color=\"grey\", ls=\"\", ms=9, marker=\"*\")\n",
    "    ax.set_ylim([-0.05, 1.1])\n",
    "    ax.set_yticks([0.0, 0.5, 1.0])\n",
    "\n",
    "def decorate_axis(ax, condition):\n",
    "    if (((condition[\"d\"] == 90) & (condition[\"TTA\"] == 6))\n",
    "        | ((condition[\"d\"] == 90) & (condition[\"TTA\"] == 5))\n",
    "        | ((condition[\"d\"] == 120) & (condition[\"TTA\"] == 4))):\n",
    "        ax.text(0.5, 1.02, \"TTA=%is\" % condition[\"TTA\"], fontsize=16, transform=ax.transAxes,\n",
    "                    horizontalalignment=\"center\", verticalalignment=\"center\")\n",
    "\n",
    "    if condition[\"TTA\"] == 6:\n",
    "        ax.text(1.0, 0.5, \"d=%im\" % condition[\"d\"], fontsize=16, transform=ax.transAxes, rotation=-90,\n",
    "            horizontalalignment=\"center\", verticalalignment=\"center\")\n",
    "    \n",
    "def plot_vincentized_dist(fig, axes, exp_data, model_rts, model_no):\n",
    "    plot_data = True if model_no == 1 else False\n",
    "    conditions = [{\"d\": d, \"TTA\": TTA}\n",
    "                  for d in sorted(exp_data.d_condition.unique()) \n",
    "                  for TTA in sorted(exp_data.tta_condition.unique())]\n",
    "    \n",
    "    for (ax, condition) in zip(axes.flatten(), conditions):\n",
    "        condition_data = exp_data[(exp_data.is_go_decision)\n",
    "                            & (exp_data.d_condition==condition[\"d\"])\n",
    "                            & (exp_data.tta_condition==condition[\"TTA\"])]\n",
    "        if len(condition_data) >= 25:       \n",
    "            # Group-averaged data\n",
    "            if plot_data:\n",
    "                plot_condition_vincentized_dist(ax, condition, condition_data)\n",
    "            \n",
    "            # Model\n",
    "            if not model_rts is None:\n",
    "                condition_rts = model_rts[(model_rts.subj_id==\"all\")\n",
    "                                        & (model_rts.d_condition==condition[\"d\"])\n",
    "                                        & (model_rts.tta_condition==condition[\"TTA\"])]\n",
    "                ax.plot(condition_rts.t, condition_rts.rt_corr_distr, color=\"black\", alpha=0.8, lw=2)#, color=\"C%i\" % (model_no-1))\n",
    "        else:\n",
    "            ax.set_axis_off()\n",
    "\n",
    "        if plot_data:\n",
    "            decorate_axis(ax, condition)\n",
    "\n",
    "            ax.set_xlabel(\"\")\n",
    "            ax.set_xlim((0, 1.5))\n",
    "            sns.despine(offset=5, trim=True)\n",
    "\n",
    "    # if plot_data:\n",
    "    #     legend_elements = ([Line2D([0], [0], color=\"grey\", marker=\"*\", ms=9, lw=0, label=\"Group-averaged data\")]\n",
    "    #     + [Line2D([0], [0], color=\"C%i\" % (model_no-1), label=\"Model %i\" % model_no) for model_no in [1,2,3]])\n",
    "    #     fig.legend(handles=legend_elements, loc=\"center\", bbox_to_anchor=(0.25, 0.75), fontsize=16, frameon=True)\n",
    "    legend_elements = ([Line2D([0], [0], color='grey', marker='*', ms=9, lw=0, label='Group-averaged data'),\n",
    "                        Line2D([0], [0], color='grey', label='Model')])\n",
    "    fig.legend(handles=legend_elements, loc='center', bbox_to_anchor=(0.2, 0.75), fontsize=16, frameon=True)\n",
    "\n",
    "    fig.text(0.43, 0.04, \"Response time, s\", fontsize=16)\n",
    "    fig.text(0.04, 0.15, \"Cumulative distribution function\", fontsize=16, rotation=90)\n",
    "    \n",
    "    return fig, axes"
   ],
   "metadata": {
    "collapsed": false,
    "pycharm": {
     "name": "#%%\n"
    }
   }
  },
  {
   "cell_type": "code",
   "execution_count": null,
   "outputs": [],
   "source": [
    "fig, axes = plt.subplots(3, 3, figsize=(10,8), sharex=True, sharey=True)\n",
    "\n",
    "model_rts = pd.read_csv(os.path.join(simulation_results_path, \"full_data_rt_cdf.csv\"))\n",
    "plot_vincentized_dist(fig, axes, exp_measures, model_rts, model_no=1)\n",
    "# fig.suptitle(\"Model %i\" % model_no)\n",
    "plt.savefig(\"../output/fig_RT_dist.png\", bbox_inches=\"tight\")"
   ],
   "metadata": {
    "collapsed": false,
    "pycharm": {
     "name": "#%%\n"
    }
   }
  },
  {
   "cell_type": "markdown",
   "source": [
    "### Model cross-validation"
   ],
   "metadata": {
    "collapsed": false
   }
  },
  {
   "cell_type": "code",
   "execution_count": null,
   "outputs": [],
   "source": [
    "model_measures_cross_validation_8 = pd.read_csv(os.path.join(simulation_results_path, \"cross_validation_8_measures.csv\"))"
   ],
   "metadata": {
    "collapsed": false,
    "pycharm": {
     "name": "#%%\n"
    }
   }
  },
  {
   "cell_type": "code",
   "execution_count": null,
   "outputs": [],
   "source": [
    "def plot_cross_validation_per_subj(exp_data, model_measures, subj_id):\n",
    "    model_measures = model_measures[(model_measures.tta_condition>=4.0) & (model_measures.tta_condition<=6.0)]\n",
    "\n",
    "    d_conditions = [90, 120, 150]\n",
    "    colors = [plt.cm.viridis(r) for r in np.linspace(0.1,0.7,len(d_conditions))]\n",
    "    markers=[\"o\", \"s\", \"^\"]\n",
    "    marker_size=9\n",
    "    marker_offset = 0.05\n",
    "    \n",
    "    fig, (ax1, ax2) = plt.subplots(1, 2, figsize=(6,3))\n",
    "    \n",
    "    if not subj_id==\"all\":\n",
    "        fig.suptitle(\"P%s\" % (subj_id), fontsize=16)\n",
    "    \n",
    "    for d_condition, marker, color in zip(d_conditions, markers, colors):\n",
    "        model_subj_d_measures = model_measures[(model_measures.subj_id==subj_id) \n",
    "                                               & (model_measures.d_condition==d_condition)]\n",
    "        # Model\n",
    "        ax1.plot(model_subj_d_measures.tta_condition+marker_offset, model_subj_d_measures[\"is_go_decision\"],\n",
    "                    color=color, label=d_condition, ls=\"--\", lw=1, marker=marker, ms=marker_size, fillstyle=\"none\")\n",
    "        ax2.plot(model_subj_d_measures.tta_condition+marker_offset, model_subj_d_measures[\"RT\"],\n",
    "                color=color, label=d_condition, ls=\"--\", lw=1, marker=marker, ms=marker_size, fillstyle=\"none\")\n",
    "\n",
    "        # Data\n",
    "        plot_all_subj_p_go(ax1, exp_data, d_condition, marker, color, -marker_offset)\n",
    "        plot_subj_rt(ax2, exp_data, d_condition, subj_id, marker, color, -marker_offset)\n",
    "\n",
    "    fig.text(0.35, -0.05, \"Time-to-arrival (TTA), s\", fontsize=16)\n",
    "    \n",
    "    ax1.set_xticks([4, 5, 6])\n",
    "    ax2.set_xticks([4, 5, 6])\n",
    "    \n",
    "    ax1.legend().remove()\n",
    "    ax2.legend().remove()\n",
    "    \n",
    "    ax1.set_ylabel(\"Probability of go\", fontsize=16)\n",
    "    ax2.set_ylabel(\"Response time\", fontsize=16)\n",
    "\n",
    "    ax1.set_ylim((0.0, 1.0))\n",
    "    ax2.set_ylim((0.3, 0.8))\n",
    "    \n",
    "    sns.despine(offset=5, trim=True)\n",
    "    plt.tight_layout()\n",
    "\n",
    "    legend_elements = ([Line2D([0], [0], color=color, marker=marker, ms=marker_size, lw=1, ls=\"--\", fillstyle=\"none\", label=\"Model predictions,\")\n",
    "                           for d_condition, marker, color in zip(d_conditions, markers, colors)] \n",
    "                       + [Line2D([0], [0], color=color, marker=marker, ms=marker_size, lw=0, label=\"data, d=%im\" % (d_condition))\n",
    "                           for d_condition, marker, color in zip(d_conditions, markers, colors)])\n",
    "\n",
    "    fig.legend(handles=legend_elements, loc=\"center left\", bbox_to_anchor=(1.0, 0.5), fontsize=16, handlelength=1.5, columnspacing=0.2,\n",
    "               frameon=False, ncol=2)"
   ],
   "metadata": {
    "collapsed": false,
    "pycharm": {
     "name": "#%%\n"
    }
   }
  },
  {
   "cell_type": "code",
   "execution_count": null,
   "outputs": [],
   "source": [
    "plot_cross_validation_per_subj(exp_measures, model_measures_cross_validation_8, subj_id=\"all\")\n",
    "plt.savefig(\"../output/fig_cross_validation_8_vincent.png\", bbox_inches=\"tight\")"
   ],
   "metadata": {
    "collapsed": false,
    "pycharm": {
     "name": "#%%\n"
    }
   }
  },
  {
   "cell_type": "markdown",
   "source": [
    "# Supplementary figures\n"
   ],
   "metadata": {
    "collapsed": false
   }
  },
  {
   "cell_type": "markdown",
   "source": [
    "### ROC of p_go prediction for individual participants"
   ],
   "metadata": {
    "collapsed": false
   }
  },
  {
   "cell_type": "code",
   "execution_count": null,
   "outputs": [],
   "source": [
    "def get_RT_means_with_cutoff(data, groupby_cols, n_cutoff=2):\n",
    "    mean = data.groupby(groupby_cols)['RT'].mean()\n",
    "    # sem = data.groupby('tta_condition')[var].apply(lambda x: scipy.stats.sem(x, axis=None, ddof=0))\n",
    "    n = data.groupby(groupby_cols).size()\n",
    "    means = pd.DataFrame({'RT': mean, 'n': n}, index=mean.index)\n",
    "    return means[means.n>n_cutoff].RT"
   ],
   "metadata": {
    "collapsed": false,
    "pycharm": {
     "name": "#%%\n"
    }
   }
  },
  {
   "cell_type": "code",
   "execution_count": null,
   "outputs": [],
   "source": [
    "best_fit_params_path = '../model_fit_results/model_%i/best_fit_parameters/full_data_parameters_fitted.csv'\n",
    "fit_results_path = '../model_fit_results/model_%i/simulation_results/full_data_measures.csv'\n",
    "\n",
    "groupby_cols = ['subj_id', 'tta_condition', 'd_condition']\n",
    "\n",
    "exp_measures = pd.read_csv('../data/measures.csv')\n",
    "p_turn_by_condition = exp_measures.groupby(groupby_cols).mean().is_turn_decision\n",
    "# rt_by_condition = exp_measures[exp_measures.is_turn_decision].groupby(groupby_cols).mean().RT\n",
    "rt_by_condition = get_RT_means_with_cutoff(exp_measures[exp_measures.is_turn_decision], groupby_cols, n_cutoff=2)\n",
    "data_means = pd.DataFrame([p_turn_by_condition, rt_by_condition]).T\n",
    "print (len(data_means), len(p_turn_by_condition), len(rt_by_condition))"
   ],
   "metadata": {
    "collapsed": false,
    "pycharm": {
     "name": "#%%\n"
    }
   }
  },
  {
   "cell_type": "code",
   "execution_count": null,
   "outputs": [],
   "source": [
    "def get_data_vs_model_means(model_no, data_means):\n",
    "    model_measures = pd.read_csv(fit_results_path % model_no)\n",
    "    model_measures = model_measures[model_measures.tta_condition.isin([4, 5, 6])\n",
    "                                    & model_measures.d_condition.isin([90, 120, 150])\n",
    "                                    & ~(model_measures.subj_id=='all')]\n",
    "    model_measures['subj_id'] = pd.to_numeric(model_measures.subj_id)\n",
    "    model_measures.set_index(groupby_cols, inplace=True)\n",
    "\n",
    "    data_vs_model = data_means.join(model_measures, lsuffix='_data', rsuffix='_model').reset_index()\n",
    "    data_vs_model = data_vs_model.rename(columns={'is_turn_decision_data': 'p_turn_data',\n",
    "                                                  'is_turn_decision_model': 'p_turn_model'})\n",
    "    data_vs_model['subj_id'] =  data_vs_model['subj_id'].astype(int)\n",
    "    data_vs_model[['tta_condition', 'd_condition']] = data_vs_model[['tta_condition', 'd_condition']].astype(int)\n",
    "    data_vs_model['condition'] = data_vs_model[['tta_condition', 'd_condition']].astype(str).agg('_'.join, axis=1).astype(str)\n",
    "\n",
    "    return data_vs_model"
   ],
   "metadata": {
    "collapsed": false,
    "pycharm": {
     "name": "#%%\n"
    }
   }
  },
  {
   "cell_type": "code",
   "execution_count": null,
   "outputs": [],
   "source": [
    "def plot_data_vs_model(var, data_vs_model, model_no):\n",
    "    fig = plt.figure(dpi=300)\n",
    "    ax = fig.add_subplot(111)\n",
    "    ax.axes.set_aspect('equal')\n",
    "    g = sns.scatterplot(ax=ax, data=data_vs_model, x='%s_data' % var, y='%s_model' % var,\n",
    "                        hue='subj_id', style='condition', legend='full', palette='tab20')\n",
    "    g.legend(loc='center left', bbox_to_anchor=(1.25, 0.5), ncol=2)\n",
    "    control_x = np.linspace(data_vs_model.RT_data.min()-0.05, data_vs_model.RT_data.max()+0.05, 2) \\\n",
    "        if var=='RT' else np.linspace(0,1,2)\n",
    "    ax.plot(control_x, control_x, color='grey')\n",
    "    ax.xaxis.set_major_locator(ticker.MultipleLocator(0.2))\n",
    "    ax.yaxis.set_major_locator(ticker.MultipleLocator(0.2))\n",
    "    fit_metric = (1 - ((data_vs_model['%s_model' % var]-data_vs_model['%s_data' % var]).pow(2).sum())\n",
    "                  /(data_vs_model['%s_data' % var]-data_vs_model['%s_data' % var].mean()).pow(2).sum())\n",
    "\n",
    "    fig.suptitle(r'Model %i: not really $R^2=%.2f$' % (model_no, fit_metric))\n",
    "    fig.savefig('../output/%s_%i.png' % (var, model_no), bbox_inches='tight')"
   ],
   "metadata": {
    "collapsed": false,
    "pycharm": {
     "name": "#%%\n"
    }
   }
  },
  {
   "cell_type": "code",
   "execution_count": null,
   "outputs": [],
   "source": [
    "for model_no in [1,2,3]:\n",
    "    data_vs_model = get_data_vs_model_means(model_no=model_no, data_means=data_means)\n",
    "    plot_data_vs_model('p_turn', data_vs_model, model_no=model_no)\n",
    "    plot_data_vs_model('RT', data_vs_model, model_no=model_no)"
   ],
   "metadata": {
    "collapsed": false,
    "pycharm": {
     "name": "#%%\n"
    }
   }
  },
  {
   "cell_type": "markdown",
   "source": [
    "The best theoretically possible ROC can be obtained from the estimated probabilities. By the way, the nudge-based manipulation of p_turn in the follow-up work could be linked to pushing the limits of theoretically possible prediction - if we cannot really be sure what the human will do and it might affect safety, we better sacrifice the current comfort to increase our prediction accuracy"
   ],
   "metadata": {
    "collapsed": false
   }
  },
  {
   "cell_type": "code",
   "execution_count": null,
   "outputs": [],
   "source": [
    "def get_positive_rates(df, gamma):\n",
    "    df[\"model_is_turn_decision\"] = df[\"p_turn_model\"]>gamma\n",
    "    fpr = (len(df[~(df.is_turn_decision==df.model_is_turn_decision) & (df.model_is_turn_decision)])\n",
    "                   /len(df[~df.is_turn_decision]))\n",
    "    tpr = (len(df[(df.is_turn_decision==df.model_is_turn_decision) & (df.model_is_turn_decision)])\n",
    "                   /len(df[df.is_turn_decision]))\n",
    "\n",
    "    return (fpr, tpr)\n",
    "\n",
    "def get_roc_curve(data_means, exp_measures, subj_id, model_no=1):\n",
    "    subj_data_vs_model = exp_measures.loc[exp_measures.subj_id == subj_id,\n",
    "                                          [\"subj_id\", \"tta_condition\", \"d_condition\", \"is_turn_decision\"]]\n",
    "    if model_no == \"best_case\":\n",
    "        model_predictions = data_means.reset_index().rename(columns={\"is_turn_decision\": \"p_turn_model\"})\n",
    "    else:\n",
    "        data_vs_model = get_data_vs_model_means(model_no=model_no, data_means=data_means)\n",
    "        model_predictions = data_vs_model.loc[data_vs_model.subj_id == subj_id,\n",
    "                                              [\"subj_id\", \"tta_condition\", \"d_condition\", \"p_turn_model\"]]\n",
    "    subj_data_vs_model = (subj_data_vs_model.merge(model_predictions, on=[\"subj_id\", \"tta_condition\", \"d_condition\"])\n",
    "                 .reset_index(drop=True))\n",
    "\n",
    "    return np.array([get_positive_rates(subj_data_vs_model, gamma=gamma) for gamma in np.linspace(1.001, -0.001, 21)]).T"
   ],
   "metadata": {
    "collapsed": false,
    "pycharm": {
     "name": "#%%\n"
    }
   }
  },
  {
   "cell_type": "code",
   "execution_count": null,
   "outputs": [],
   "source": [
    "fig, ax = plt.subplots()\n",
    "for subj_id in exp_measures.subj_id.unique():\n",
    "    roc = get_roc_curve(data_means, exp_measures, subj_id, model_no=\"best_case\")\n",
    "    ax.plot(roc[0], roc[1])\n",
    "ax.set_aspect(\"equal\")"
   ],
   "metadata": {
    "collapsed": false,
    "pycharm": {
     "name": "#%%\n"
    }
   }
  },
  {
   "cell_type": "code",
   "execution_count": null,
   "outputs": [],
   "source": [
    "subjects = exp_measures.subj_id.unique()\n",
    "\n",
    "fig, axes = plt.subplots(4, 4, figsize=(12,14), sharex=True, sharey=True)\n",
    "\n",
    "for subj_id, subj_idx, ax in zip(subjects, range(len(subjects)), axes.flatten()):\n",
    "    ax.set_aspect(\"equal\")\n",
    "    for model_no in [1, 2, 3]:\n",
    "        model_roc = get_roc_curve(data_means, exp_measures, subj_id, model_no=model_no)\n",
    "        ax.plot(model_roc[0], model_roc[1], label=\"Model %i\" % model_no)\n",
    "\n",
    "    best_case_roc = get_roc_curve(data_means, exp_measures, subj_id, model_no=\"best_case\")\n",
    "    ax.plot(best_case_roc[0], best_case_roc[1], label=\"Best-case\", ls=\"--\", color=\"grey\")\n",
    "\n",
    "    ax.set_title(\"P%i\" % (subj_idx+1))\n",
    "    if subj_idx == 3:\n",
    "        ax.legend(loc='center left', bbox_to_anchor=(1, 0.5))"
   ],
   "metadata": {
    "collapsed": false,
    "pycharm": {
     "name": "#%%\n"
    }
   }
  },
  {
   "cell_type": "markdown",
   "source": [
    "## Pseudo-R^2 of RT for individual participants"
   ],
   "metadata": {
    "collapsed": false
   }
  },
  {
   "cell_type": "markdown",
   "source": [
    "## ROC and R^2 for cross-validation on vincentized data"
   ],
   "metadata": {
    "collapsed": false
   }
  },
  {
   "cell_type": "markdown",
   "source": [
    "# Comparison with simpler models"
   ],
   "metadata": {
    "collapsed": false
   }
  },
  {
   "cell_type": "markdown",
   "source": [
    "### p_go and RT figures per participant for three models"
   ],
   "metadata": {
    "collapsed": false
   }
  },
  {
   "cell_type": "code",
   "execution_count": null,
   "outputs": [],
   "source": [
    "for model_no in [1,2,3]:\n",
    "    model_measures_all_conditions = pd.read_csv(os.path.join(fit_results_path % model_no, \"full_data_measures.csv\"))\n",
    "\n",
    "    plot_compare_model_exp(\"is_go_decision\", exp_measures, model_measures_all_conditions, \"Probability of go\")\n",
    "    plt.savefig(\"../output/fig_p_go_model_%i.png\" % model_no, bbox_inches=\"tight\")\n",
    "\n",
    "    plot_compare_model_exp(\"RT\", exp_measures, model_measures_all_conditions, \"Response time, s\")\n",
    "    plt.savefig(\"../output/fig_RT_model_%i.png\" % model_no, bbox_inches=\"tight\")"
   ],
   "metadata": {
    "collapsed": false,
    "pycharm": {
     "name": "#%%\n"
    }
   }
  },
  {
   "cell_type": "markdown",
   "source": [
    "### Full RT distributions"
   ],
   "metadata": {
    "collapsed": false
   }
  },
  {
   "cell_type": "code",
   "execution_count": null,
   "outputs": [],
   "source": [
    "fig, axes = plt.subplots(3, 3, figsize=(10,8), sharex=True, sharey=True)\n",
    "for model_no in [1, 2, 3]:\n",
    "    model_rts = pd.read_csv(os.path.join(fit_results_path % model_no, \"full_data_rt_cdf.csv\"))\n",
    "    plot_vincentized_dist(fig, axes, exp_measures, model_rts, model_no)\n",
    "    # fig.suptitle(\"Model %i\" % model_no)\n",
    "    plt.savefig(\"../output/fig_RT_dist_all_models.png\", bbox_inches=\"tight\")"
   ],
   "metadata": {
    "collapsed": false,
    "pycharm": {
     "name": "#%%\n"
    }
   }
  },
  {
   "cell_type": "markdown",
   "source": [
    "- ROC and R^2 for individual participants for three models\n",
    "- ROC and R^2 for cross-validation on vincentized data for three models"
   ],
   "metadata": {
    "collapsed": false
   }
  },
  {
   "cell_type": "markdown",
   "source": [
    "### Fitted parameter values\n",
    "- swarmplot of parameter values per participant\n",
    "- table with fitted parameters"
   ],
   "metadata": {
    "collapsed": false
   }
  },
  {
   "cell_type": "markdown",
   "source": [
    "### Robustness of fit\n",
    "- swarmplot of repeated fits per two participants\n"
   ],
   "metadata": {
    "collapsed": false
   }
  }
 ],
 "metadata": {
  "kernelspec": {
   "display_name": "PyCharm (evidence_accumulation_in_gap_acceptance)",
   "language": "python",
   "name": "pycharm-e9c15276"
  },
  "language_info": {
   "codemirror_mode": {
    "name": "ipython",
    "version": 3
   },
   "file_extension": ".py",
   "mimetype": "text/x-python",
   "name": "python",
   "nbconvert_exporter": "python",
   "pygments_lexer": "ipython3",
   "version": "3.8.6"
  }
 },
 "nbformat": 4,
 "nbformat_minor": 4
}