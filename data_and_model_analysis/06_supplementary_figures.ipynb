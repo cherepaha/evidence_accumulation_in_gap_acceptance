{
 "cells": [
  {
   "cell_type": "code",
   "execution_count": 4,
   "metadata": {},
   "outputs": [],
   "source": [
    "import pandas as pd\n",
    "import helper\n",
    "import matplotlib.pyplot as plt\n",
    "import matplotlib.ticker as ticker\n",
    "import seaborn as sns"
   ]
  },
  {
   "cell_type": "markdown",
   "source": [
    "# Predictive metrics\n",
    "## ROC of p_go prediction for individual participants"
   ],
   "metadata": {
    "collapsed": false
   }
  },
  {
   "cell_type": "code",
   "execution_count": null,
   "outputs": [],
   "source": [
    "def get_RT_means_with_cutoff(data, groupby_cols, n_cutoff=2):\n",
    "    mean = data.groupby(groupby_cols)['RT'].mean()\n",
    "    # sem = data.groupby('tta_condition')[var].apply(lambda x: scipy.stats.sem(x, axis=None, ddof=0))\n",
    "    n = data.groupby(groupby_cols).size()\n",
    "    means = pd.DataFrame({'RT': mean, 'n': n}, index=mean.index)\n",
    "    return means[means.n>n_cutoff].RT"
   ],
   "metadata": {
    "collapsed": false,
    "pycharm": {
     "name": "#%%\n"
    }
   }
  },
  {
   "cell_type": "code",
   "execution_count": null,
   "outputs": [],
   "source": [
    "best_fit_params_path = '../model_fit_results/model_%i/best_fit_parameters/full_data_parameters_fitted.csv'\n",
    "fit_results_path = '../model_fit_results/model_%i/simulation_results/full_data_measures.csv'\n",
    "\n",
    "groupby_cols = ['subj_id', 'tta_condition', 'd_condition']\n",
    "\n",
    "exp_measures = pd.read_csv('../data/measures.csv')\n",
    "p_turn_by_condition = exp_measures.groupby(groupby_cols).mean().is_turn_decision\n",
    "# rt_by_condition = exp_measures[exp_measures.is_turn_decision].groupby(groupby_cols).mean().RT\n",
    "rt_by_condition = get_RT_means_with_cutoff(exp_measures[exp_measures.is_turn_decision], groupby_cols, n_cutoff=2)\n",
    "data_means = pd.DataFrame([p_turn_by_condition, rt_by_condition]).T\n",
    "print (len(data_means), len(p_turn_by_condition), len(rt_by_condition))"
   ],
   "metadata": {
    "collapsed": false,
    "pycharm": {
     "name": "#%%\n"
    }
   }
  },
  {
   "cell_type": "markdown",
   "source": [
    "### Scatterplot of model predictions - experimental measures per participant per condition.\n",
    "\n",
    "See how far from the y=x line the predictions are"
   ],
   "metadata": {
    "collapsed": false
   }
  },
  {
   "cell_type": "code",
   "execution_count": null,
   "outputs": [],
   "source": [
    "def get_data_vs_model_means(model_no, data_means):\n",
    "    model_measures = pd.read_csv(fit_results_path % model_no)\n",
    "    model_measures = model_measures[model_measures.tta_condition.isin([4, 5, 6])\n",
    "                                    & model_measures.d_condition.isin([90, 120, 150])\n",
    "                                    & ~(model_measures.subj_id=='all')]\n",
    "    model_measures['subj_id'] = pd.to_numeric(model_measures.subj_id)\n",
    "    model_measures.set_index(groupby_cols, inplace=True)\n",
    "\n",
    "    data_vs_model = data_means.join(model_measures, lsuffix='_data', rsuffix='_model').reset_index()\n",
    "    data_vs_model = data_vs_model.rename(columns={'is_turn_decision_data': 'p_turn_data',\n",
    "                                                  'is_turn_decision_model': 'p_turn_model'})\n",
    "    data_vs_model['subj_id'] =  data_vs_model['subj_id'].astype(int)\n",
    "    data_vs_model[['tta_condition', 'd_condition']] = data_vs_model[['tta_condition', 'd_condition']].astype(int)\n",
    "    data_vs_model['condition'] = data_vs_model[['tta_condition', 'd_condition']].astype(str).agg('_'.join, axis=1).astype(str)\n",
    "\n",
    "    return data_vs_model"
   ],
   "metadata": {
    "collapsed": false,
    "pycharm": {
     "name": "#%%\n"
    }
   }
  },
  {
   "cell_type": "code",
   "execution_count": null,
   "outputs": [],
   "source": [
    "def plot_data_vs_model(var, data_vs_model, model_no):\n",
    "    fig = plt.figure(dpi=300)\n",
    "    ax = fig.add_subplot(111)\n",
    "    ax.axes.set_aspect('equal')\n",
    "    g = sns.scatterplot(ax=ax, data=data_vs_model, x='%s_data' % var, y='%s_model' % var,\n",
    "                        hue='subj_id', style='condition', legend='full', palette='tab20')\n",
    "    g.legend(loc='center left', bbox_to_anchor=(1.25, 0.5), ncol=2)\n",
    "    control_x = np.linspace(data_vs_model.RT_data.min()-0.05, data_vs_model.RT_data.max()+0.05, 2) \\\n",
    "        if var=='RT' else np.linspace(0,1,2)\n",
    "    ax.plot(control_x, control_x, color='grey')\n",
    "    ax.xaxis.set_major_locator(ticker.MultipleLocator(0.2))\n",
    "    ax.yaxis.set_major_locator(ticker.MultipleLocator(0.2))\n",
    "    fit_metric = (1 - ((data_vs_model['%s_model' % var]-data_vs_model['%s_data' % var]).pow(2).sum())\n",
    "                  /(data_vs_model['%s_data' % var]-data_vs_model['%s_data' % var].mean()).pow(2).sum())\n",
    "\n",
    "    fig.suptitle(r'Model %i: not really $R^2=%.2f$' % (model_no, fit_metric))\n",
    "    fig.savefig('../output/%s_%i.png' % (var, model_no), bbox_inches='tight')"
   ],
   "metadata": {
    "collapsed": false,
    "pycharm": {
     "name": "#%%\n"
    }
   }
  },
  {
   "cell_type": "code",
   "execution_count": null,
   "outputs": [],
   "source": [
    "for model_no in [1,2,3]:\n",
    "    data_vs_model = get_data_vs_model_means(model_no=model_no, data_means=data_means)\n",
    "    plot_data_vs_model('p_turn', data_vs_model, model_no=model_no)\n",
    "    plot_data_vs_model('RT', data_vs_model, model_no=model_no)"
   ],
   "metadata": {
    "collapsed": false,
    "pycharm": {
     "name": "#%%\n"
    }
   }
  },
  {
   "cell_type": "markdown",
   "source": [
    "The best theoretically possible ROC can be obtained from the estimated probabilities. By the way, the nudge-based manipulation of p_turn in the follow-up work could be linked to pushing the limits of theoretically possible prediction - if we cannot really be sure what the human will do and it might affect safety, we better sacrifice the current comfort to increase our prediction accuracy"
   ],
   "metadata": {
    "collapsed": false
   }
  },
  {
   "cell_type": "code",
   "execution_count": null,
   "outputs": [],
   "source": [
    "def get_positive_rates(df, gamma):\n",
    "    df[\"model_is_turn_decision\"] = df[\"p_turn_model\"]>gamma\n",
    "    fpr = (len(df[~(df.is_turn_decision==df.model_is_turn_decision) & (df.model_is_turn_decision)])\n",
    "                   /len(df[~df.is_turn_decision]))\n",
    "    tpr = (len(df[(df.is_turn_decision==df.model_is_turn_decision) & (df.model_is_turn_decision)])\n",
    "                   /len(df[df.is_turn_decision]))\n",
    "\n",
    "    return (fpr, tpr)\n",
    "\n",
    "def get_roc_curve(data_means, exp_measures, subj_id, model_no=1):\n",
    "    subj_data_vs_model = exp_measures.loc[exp_measures.subj_id == subj_id,\n",
    "                                          [\"subj_id\", \"tta_condition\", \"d_condition\", \"is_turn_decision\"]]\n",
    "    if model_no == \"best_case\":\n",
    "        model_predictions = data_means.reset_index().rename(columns={\"is_turn_decision\": \"p_turn_model\"})\n",
    "    else:\n",
    "        data_vs_model = get_data_vs_model_means(model_no=model_no, data_means=data_means)\n",
    "        model_predictions = data_vs_model.loc[data_vs_model.subj_id == subj_id,\n",
    "                                              [\"subj_id\", \"tta_condition\", \"d_condition\", \"p_turn_model\"]]\n",
    "    subj_data_vs_model = (subj_data_vs_model.merge(model_predictions, on=[\"subj_id\", \"tta_condition\", \"d_condition\"])\n",
    "                 .reset_index(drop=True))\n",
    "\n",
    "    return np.array([get_positive_rates(subj_data_vs_model, gamma=gamma) for gamma in np.linspace(1.001, -0.001, 21)]).T"
   ],
   "metadata": {
    "collapsed": false,
    "pycharm": {
     "name": "#%%\n"
    }
   }
  },
  {
   "cell_type": "code",
   "execution_count": null,
   "outputs": [],
   "source": [
    "fig, ax = plt.subplots()\n",
    "for subj_id in exp_measures.subj_id.unique():\n",
    "    roc = get_roc_curve(data_means, exp_measures, subj_id, model_no=\"best_case\")\n",
    "    ax.plot(roc[0], roc[1])\n",
    "ax.set_aspect(\"equal\")"
   ],
   "metadata": {
    "collapsed": false,
    "pycharm": {
     "name": "#%%\n"
    }
   }
  },
  {
   "cell_type": "markdown",
   "source": [
    "TODO: How to translate the plot below to the cross-validation results?"
   ],
   "metadata": {
    "collapsed": false
   }
  },
  {
   "cell_type": "code",
   "execution_count": null,
   "outputs": [],
   "source": [
    "subjects = exp_measures.subj_id.unique()\n",
    "\n",
    "fig, axes = plt.subplots(4, 4, figsize=(12,14), sharex=True, sharey=True)\n",
    "\n",
    "for subj_id, subj_idx, ax in zip(subjects, range(len(subjects)), axes.flatten()):\n",
    "    ax.set_aspect(\"equal\")\n",
    "    for model_no in [1, 2, 3]:\n",
    "        model_roc = get_roc_curve(data_means, exp_measures, subj_id, model_no=model_no)\n",
    "        ax.plot(model_roc[0], model_roc[1], label=\"Model %i\" % model_no)\n",
    "\n",
    "    best_case_roc = get_roc_curve(data_means, exp_measures, subj_id, model_no=\"best_case\")\n",
    "    ax.plot(best_case_roc[0], best_case_roc[1], label=\"Best-case\", ls=\"--\", color=\"grey\")\n",
    "\n",
    "    ax.set_title(\"P%i\" % (subj_idx+1))\n",
    "    if subj_idx == 3:\n",
    "        ax.legend(loc='center left', bbox_to_anchor=(1, 0.5))"
   ],
   "metadata": {
    "collapsed": false,
    "pycharm": {
     "name": "#%%\n"
    }
   }
  },
  {
   "cell_type": "markdown",
   "source": [
    "## Pseudo-R^2 of RT for individual participants"
   ],
   "metadata": {
    "collapsed": false
   }
  },
  {
   "cell_type": "markdown",
   "source": [
    "## ROC and R^2 for cross-validation on vincentized data"
   ],
   "metadata": {
    "collapsed": false
   }
  },
  {
   "cell_type": "markdown",
   "source": [
    "# Comparison with simpler models"
   ],
   "metadata": {
    "collapsed": false
   }
  },
  {
   "cell_type": "markdown",
   "source": [
    "### p_go and RT figures per participant for three models"
   ],
   "metadata": {
    "collapsed": false,
    "pycharm": {
     "name": "#%% md\n"
    }
   }
  },
  {
   "cell_type": "code",
   "execution_count": null,
   "outputs": [],
   "source": [
    "for model_no in [1,2,3]:\n",
    "    model_measures_all_conditions = pd.read_csv(os.path.join(fit_results_path % model_no, \"full_data_measures.csv\"))\n",
    "\n",
    "    plot_compare_model_exp(\"is_go_decision\", exp_measures, model_measures_all_conditions, \"Probability of go\")\n",
    "    plt.savefig(\"../output/fig_p_go_model_%i.png\" % model_no, bbox_inches=\"tight\")\n",
    "\n",
    "    plot_compare_model_exp(\"RT\", exp_measures, model_measures_all_conditions, \"Response time, s\")\n",
    "    plt.savefig(\"../output/fig_RT_model_%i.png\" % model_no, bbox_inches=\"tight\")"
   ],
   "metadata": {
    "collapsed": false,
    "pycharm": {
     "name": "#%%\n"
    }
   }
  },
  {
   "cell_type": "markdown",
   "source": [
    "### Full RT distributions"
   ],
   "metadata": {
    "collapsed": false,
    "pycharm": {
     "name": "#%% md\n"
    }
   }
  },
  {
   "cell_type": "code",
   "execution_count": null,
   "outputs": [],
   "source": [
    "fig, axes = plt.subplots(3, 3, figsize=(10,8), sharex=True, sharey=True)\n",
    "for model_no in [1, 2, 3]:\n",
    "    model_rts = pd.read_csv(os.path.join(fit_results_path % model_no, \"full_data_rt_cdf.csv\"))\n",
    "    plot_vincentized_dist(fig, axes, exp_measures, model_rts, model_no)\n",
    "    # fig.suptitle(\"Model %i\" % model_no)\n",
    "    plt.savefig(\"../output/fig_RT_dist_all_models.png\", bbox_inches=\"tight\")"
   ],
   "metadata": {
    "collapsed": false,
    "pycharm": {
     "name": "#%%\n"
    }
   }
  },
  {
   "cell_type": "markdown",
   "source": [
    "- ROC and R^2 for individual participants for three models\n",
    "- ROC and R^2 for cross-validation on vincentized data for three models"
   ],
   "metadata": {
    "collapsed": false
   }
  },
  {
   "cell_type": "markdown",
   "source": [
    "# Fitted parameter values\n",
    "- swarmplot of parameter values per participant"
   ],
   "metadata": {
    "collapsed": false
   }
  },
  {
   "cell_type": "markdown",
   "source": [
    "# Robustness of fit\n",
    "- swarmplot of repeated fits per two participants"
   ],
   "metadata": {
    "collapsed": false,
    "pycharm": {
     "name": "#%% md\n"
    }
   }
  }
 ],
 "metadata": {
  "kernelspec": {
   "display_name": "Python 3",
   "language": "python",
   "name": "python3"
  },
  "language_info": {
   "codemirror_mode": {
    "name": "ipython",
    "version": 3
   },
   "file_extension": ".py",
   "mimetype": "text/x-python",
   "name": "python",
   "nbconvert_exporter": "python",
   "pygments_lexer": "ipython3",
   "version": "3.7.4"
  }
 },
 "nbformat": 4,
 "nbformat_minor": 1
}