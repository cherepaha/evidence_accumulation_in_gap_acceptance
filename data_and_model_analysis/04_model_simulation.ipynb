{
 "cells": [
  {
   "cell_type": "code",
   "execution_count": 2,
   "metadata": {},
   "outputs": [],
   "source": [
    "import numpy as np\n",
    "import pandas as pd\n",
    "import ddm\n",
    "import os \n",
    "import helper\n",
    "import models"
   ]
  },
  {
   "cell_type": "code",
   "execution_count": 10,
   "metadata": {
    "scrolled": true
   },
   "outputs": [
    {
     "name": "stdout",
     "output_type": "stream",
     "text": [
      "../model_fit_results/model_1/best_fit_parameters/full_data\\subj_129.csv\n",
      "../model_fit_results/model_1/best_fit_parameters/full_data\\subj_280.csv\n",
      "../model_fit_results/model_1/best_fit_parameters/full_data\\subj_389.csv\n",
      "../model_fit_results/model_1/best_fit_parameters/full_data\\subj_421.csv\n",
      "../model_fit_results/model_1/best_fit_parameters/full_data\\subj_525.csv\n",
      "../model_fit_results/model_1/best_fit_parameters/full_data\\subj_616.csv\n",
      "../model_fit_results/model_1/best_fit_parameters/full_data\\subj_618.csv\n",
      "../model_fit_results/model_1/best_fit_parameters/full_data\\subj_642.csv\n",
      "../model_fit_results/model_1/best_fit_parameters/full_data\\subj_652.csv\n",
      "../model_fit_results/model_1/best_fit_parameters/full_data\\subj_755.csv\n",
      "../model_fit_results/model_1/best_fit_parameters/full_data\\subj_776.csv\n",
      "../model_fit_results/model_1/best_fit_parameters/full_data\\subj_827.csv\n",
      "../model_fit_results/model_1/best_fit_parameters/full_data\\subj_853.csv\n",
      "../model_fit_results/model_1/best_fit_parameters/full_data\\subj_913.csv\n",
      "../model_fit_results/model_1/best_fit_parameters/full_data\\subj_969.csv\n",
      "../model_fit_results/model_1/best_fit_parameters/full_data\\subj_996.csv\n",
      "../model_fit_results/model_1/best_fit_parameters/full_data\\subj_all.csv\n",
      "../model_fit_results/model_1/best_fit_parameters/cross_validation_8\\subj_all.csv\n",
      "../model_fit_results/model_2/best_fit_parameters/full_data\\subj_129.csv\n",
      "../model_fit_results/model_2/best_fit_parameters/full_data\\subj_280.csv\n",
      "../model_fit_results/model_2/best_fit_parameters/full_data\\subj_389.csv\n",
      "../model_fit_results/model_2/best_fit_parameters/full_data\\subj_421.csv\n",
      "../model_fit_results/model_2/best_fit_parameters/full_data\\subj_525.csv\n",
      "../model_fit_results/model_2/best_fit_parameters/full_data\\subj_616.csv\n",
      "../model_fit_results/model_2/best_fit_parameters/full_data\\subj_618.csv\n",
      "../model_fit_results/model_2/best_fit_parameters/full_data\\subj_642.csv\n",
      "../model_fit_results/model_2/best_fit_parameters/full_data\\subj_652.csv\n",
      "../model_fit_results/model_2/best_fit_parameters/full_data\\subj_755.csv\n",
      "../model_fit_results/model_2/best_fit_parameters/full_data\\subj_776.csv\n",
      "../model_fit_results/model_2/best_fit_parameters/full_data\\subj_827.csv\n",
      "../model_fit_results/model_2/best_fit_parameters/full_data\\subj_853.csv\n",
      "../model_fit_results/model_2/best_fit_parameters/full_data\\subj_913.csv\n",
      "../model_fit_results/model_2/best_fit_parameters/full_data\\subj_969.csv\n",
      "../model_fit_results/model_2/best_fit_parameters/full_data\\subj_996.csv\n",
      "../model_fit_results/model_2/best_fit_parameters/full_data\\subj_all.csv\n",
      "../model_fit_results/model_2/best_fit_parameters/cross_validation_8\\subj_all.csv\n",
      "../model_fit_results/model_3/best_fit_parameters/full_data\\subj_129.csv\n",
      "../model_fit_results/model_3/best_fit_parameters/full_data\\subj_280.csv\n",
      "../model_fit_results/model_3/best_fit_parameters/full_data\\subj_389.csv\n",
      "../model_fit_results/model_3/best_fit_parameters/full_data\\subj_421.csv\n",
      "../model_fit_results/model_3/best_fit_parameters/full_data\\subj_525.csv\n",
      "../model_fit_results/model_3/best_fit_parameters/full_data\\subj_616.csv\n",
      "../model_fit_results/model_3/best_fit_parameters/full_data\\subj_618.csv\n",
      "../model_fit_results/model_3/best_fit_parameters/full_data\\subj_642.csv\n",
      "../model_fit_results/model_3/best_fit_parameters/full_data\\subj_652.csv\n",
      "../model_fit_results/model_3/best_fit_parameters/full_data\\subj_755.csv\n",
      "../model_fit_results/model_3/best_fit_parameters/full_data\\subj_776.csv\n",
      "../model_fit_results/model_3/best_fit_parameters/full_data\\subj_827.csv\n",
      "../model_fit_results/model_3/best_fit_parameters/full_data\\subj_853.csv\n",
      "../model_fit_results/model_3/best_fit_parameters/full_data\\subj_913.csv\n",
      "../model_fit_results/model_3/best_fit_parameters/full_data\\subj_969.csv\n",
      "../model_fit_results/model_3/best_fit_parameters/full_data\\subj_996.csv\n",
      "../model_fit_results/model_3/best_fit_parameters/full_data\\subj_all.csv\n",
      "../model_fit_results/model_3/best_fit_parameters/cross_validation_8\\subj_all.csv\n"
     ]
    }
   ],
   "source": [
    "for model in [1, 2, 3]:\n",
    "    for folder in [\"full_data\", \"cross_validation_8\"]:\n",
    "        helper.merge_csv(\"../model_fit_results/model_%i/best_fit_parameters/%s\" % (model, folder))"
   ]
  },
  {
   "cell_type": "code",
   "execution_count": 4,
   "metadata": {},
   "outputs": [],
   "source": [
    "def get_model_measures(model, condition):\n",
    "    sol = model.solve(condition)\n",
    "    return condition[\"tta_condition\"], condition[\"d_condition\"], sol.prob_correct(), sol.mean_decision_time()\n",
    "\n",
    "def get_model_rt_distr(model, condition, kind=\"cdf\"):\n",
    "    sol = model.solve(condition)\n",
    "    return pd.DataFrame({\"tta_condition\": condition[\"tta_condition\"],\n",
    "                         \"d_condition\":  condition[\"d_condition\"],\n",
    "                         \"t\": model.t_domain(),\n",
    "                         \"rt_corr_distr\": (sol.cdf_corr() if kind==\"cdf\" else sol.pdf_corr())/sol.prob_correct()})\n",
    "\n",
    "def initialize_model(model_no, param_set):\n",
    "    # all three models use Gaussian non-decision time\n",
    "    overlay = models.OverlayNonDecisionGaussian(ndt_location=param_set.ndt_location, ndt_scale=param_set.ndt_scale)\n",
    "\n",
    "    # model 1 uses collapsing bound, the other two use static bound\n",
    "    if model_no == 1:\n",
    "        bound = models.BoundCollapsingTta(b_0=param_set.b_0, k=param_set.k, tta_crit=param_set.tta_crit)\n",
    "    else:\n",
    "        bound = ddm.BoundConstant(B=param_set.b)\n",
    "\n",
    "    # model 3 uses static drift, the other two use dynamic drift\n",
    "    if model_no == 3:\n",
    "        drift = models.DriftTtaDistanceStatic(alpha=param_set.alpha, beta=param_set.beta, theta=param_set.theta)\n",
    "    else:\n",
    "        drift = models.DriftTtaDistanceDynamic(alpha=param_set.alpha, beta=param_set.beta, theta=param_set.theta)\n",
    "\n",
    "    model = ddm.Model(name=\"Model %i\" % model_no, drift=drift, bound=bound, overlay=overlay,\n",
    "                      noise=ddm.NoiseConstant(noise=1), T_dur=models.ModelStaticDriftFixedBounds.T_dur)\n",
    "\n",
    "    return model\n",
    "\n",
    "def simulate_model(model_no, param_set, conditions, ret=\"measures\"):\n",
    "    \"\"\"\n",
    "    Set ret to \"measures\" or \"rt_cdf\" or \"rt_pdf\" for saving p_turn and mean RT or RT CDF or RT PDF\n",
    "    \"\"\"\n",
    "    model = initialize_model(model_no, param_set)\n",
    "\n",
    "    if ret==\"measures\":\n",
    "        sim_result = pd.DataFrame([get_model_measures(model, condition) for condition in conditions],\n",
    "                                  columns=[\"tta_condition\", \"d_condition\", \"is_go_decision\", \"RT\"])\n",
    "    else:\n",
    "        sim_result = pd.concat([get_model_rt_distr(model, condition, kind=ret[-3:]) for condition in conditions])\n",
    "    sim_result[\"subj_id\"] = param_set.subj_id\n",
    "    return sim_result"
   ]
  },
  {
   "cell_type": "code",
   "execution_count": 5,
   "metadata": {},
   "outputs": [],
   "source": [
    "def save_sim_results(model_no, file_name, conditions=None, cross_validation=False, ret=\"measures\"):\n",
    "    path = \"../model_fit_results/model_%i/best_fit_parameters/\" % model_no\n",
    "    file_path = os.path.join(path, file_name)\n",
    "    parameters = pd.read_csv(file_path).rename(columns={\"tta\": \"tta_condition\", \"d\": \"d_condition\"})\n",
    "\n",
    "    # print(parameters)\n",
    "\n",
    "    sim_results = [simulate_model(model_no, param_set,\n",
    "                                  [param_set[[\"tta_condition\", \"d_condition\"]].to_dict()] if cross_validation else conditions,\n",
    "                                  ret=ret)\n",
    "                   for idx, param_set in parameters.iterrows()]\n",
    "\n",
    "    sim_results = pd.concat(sim_results)\n",
    "    sim_results.to_csv(os.path.join(\"../model_fit_results/model_%i/simulation_results/\" % model_no,\n",
    "                                    file_name.replace(\"parameters_fitted\", ret)),\n",
    "                       index=False)"
   ]
  },
  {
   "cell_type": "markdown",
   "metadata": {},
   "source": [
    "# Simulate model trained on full data"
   ]
  },
  {
   "cell_type": "code",
   "execution_count": 6,
   "metadata": {},
   "outputs": [],
   "source": [
    "conditions = [{\"tta_condition\": tta, \"d_condition\": d}\n",
    "                       for tta in np.linspace(2,8,13)\n",
    "                       for d in np.linspace(60,180,13)]"
   ]
  },
  {
   "cell_type": "code",
   "execution_count": null,
   "metadata": {
    "pycharm": {
     "is_executing": true
    }
   },
   "outputs": [],
   "source": [
    "for model_no in [1, 2, 3]:\n",
    "    save_sim_results(model_no, \"full_data_parameters_fitted.csv\", conditions, cross_validation=False, ret=\"measures\")"
   ]
  },
  {
   "cell_type": "code",
   "execution_count": null,
   "metadata": {
    "scrolled": true,
    "pycharm": {
     "is_executing": true
    }
   },
   "outputs": [],
   "source": [
    "for model_no in [1, 2, 3]:\n",
    "    save_sim_results(model_no, \"full_data_parameters_fitted.csv\", conditions, cross_validation=False, ret=\"rt_cdf\")"
   ]
  },
  {
   "cell_type": "markdown",
   "metadata": {},
   "source": [
    "# Simulating cross-validated model"
   ]
  },
  {
   "cell_type": "code",
   "execution_count": 13,
   "metadata": {},
   "outputs": [],
   "source": [
    "conditions = [{\"tta_condition\": tta, \"d_condition\": d}\n",
    "                       for tta in [4,5,6]\n",
    "                       for d in [90,120,150]]"
   ]
  },
  {
   "cell_type": "code",
   "execution_count": 14,
   "metadata": {
    "scrolled": true,
    "pycharm": {
     "name": "#%%\n"
    }
   },
   "outputs": [],
   "source": [
    "for model_no in [1, 2, 3]:\n",
    "    save_sim_results(model_no, \"cross_validation_8_parameters_fitted.csv\", cross_validation=True, ret=\"measures\", conditions=conditions)"
   ]
  }
 ],
 "metadata": {
  "kernelspec": {
   "display_name": "Python 3",
   "language": "python",
   "name": "python3"
  },
  "language_info": {
   "codemirror_mode": {
    "name": "ipython",
    "version": 3
   },
   "file_extension": ".py",
   "mimetype": "text/x-python",
   "name": "python",
   "nbconvert_exporter": "python",
   "pygments_lexer": "ipython3",
   "version": "3.7.4"
  }
 },
 "nbformat": 4,
 "nbformat_minor": 4
}