{
 "cells": [
  {
   "cell_type": "code",
   "execution_count": 1,
   "metadata": {},
   "outputs": [],
   "source": [
    "import numpy as np\n",
    "import pandas as pd\n",
    "import ddm\n",
    "import os \n",
    "import helper\n",
    "import models"
   ]
  },
  {
   "cell_type": "code",
   "execution_count": 8,
   "metadata": {
    "scrolled": true
   },
   "outputs": [
    {
     "name": "stdout",
     "output_type": "stream",
     "text": [
      "../model_fit_results/model_3/best_fit_parameters/full_data\\subj_129.csv\n",
      "../model_fit_results/model_3/best_fit_parameters/full_data\\subj_280.csv\n",
      "../model_fit_results/model_3/best_fit_parameters/full_data\\subj_389.csv\n",
      "../model_fit_results/model_3/best_fit_parameters/full_data\\subj_421.csv\n",
      "../model_fit_results/model_3/best_fit_parameters/full_data\\subj_525.csv\n",
      "../model_fit_results/model_3/best_fit_parameters/full_data\\subj_616.csv\n",
      "../model_fit_results/model_3/best_fit_parameters/full_data\\subj_618.csv\n",
      "../model_fit_results/model_3/best_fit_parameters/full_data\\subj_642.csv\n",
      "../model_fit_results/model_3/best_fit_parameters/full_data\\subj_652.csv\n",
      "../model_fit_results/model_3/best_fit_parameters/full_data\\subj_755.csv\n",
      "../model_fit_results/model_3/best_fit_parameters/full_data\\subj_776.csv\n",
      "../model_fit_results/model_3/best_fit_parameters/full_data\\subj_827.csv\n",
      "../model_fit_results/model_3/best_fit_parameters/full_data\\subj_853.csv\n",
      "../model_fit_results/model_3/best_fit_parameters/full_data\\subj_913.csv\n",
      "../model_fit_results/model_3/best_fit_parameters/full_data\\subj_969.csv\n",
      "../model_fit_results/model_3/best_fit_parameters/full_data\\subj_980.csv\n",
      "../model_fit_results/model_3/best_fit_parameters/full_data\\subj_996.csv\n",
      "../model_fit_results/model_3/best_fit_parameters/full_data\\subj_all.csv\n"
     ]
    }
   ],
   "source": [
    "for model in [1, 2, 3]:\n",
    "    for folder in ['full_data']:#, 'cross_validation_8', 'cross_validation_4']:\n",
    "        helper.merge_csv('../model_fit_results/model_%i/best_fit_parameters/%s' % (model, folder))"
   ]
  },
  {
   "cell_type": "code",
   "execution_count": 3,
   "metadata": {},
   "outputs": [],
   "source": [
    "def get_model_measures(model, condition):\n",
    "    sol = model.solve(condition)\n",
    "    return condition['tta_condition'], condition['d_condition'], sol.prob_correct(), sol.mean_decision_time()\n",
    "\n",
    "def get_model_rt_distr(model, condition, kind='cdf'):\n",
    "    sol = model.solve(condition)\n",
    "    return pd.DataFrame({'tta_condition': condition['tta_condition'],\n",
    "                         'd_condition':  condition['d_condition'],\n",
    "                         't': model.t_domain(),\n",
    "                         'rt_corr_distr': (sol.cdf_corr() if kind=='cdf' else sol.pdf_corr())/sol.prob_correct()})\n",
    "\n",
    "def initialize_model(model_no, param_set):\n",
    "    # all three models use Gaussian non-decision time\n",
    "    overlay = models.OverlayNonDecisionGaussian(ndt_location=param_set.ndt_location, ndt_scale=param_set.ndt_scale)\n",
    "\n",
    "    # model 1 uses collapsing bound, the other two use static bound\n",
    "    if model_no == 1:\n",
    "        bound = models.BoundCollapsingTta(b_0=param_set.b_0, k=param_set.k, tta_crit=param_set.tta_crit)\n",
    "    else:\n",
    "        bound = ddm.BoundConstant(B=param_set.b)\n",
    "\n",
    "    # model 3 uses static drift, the other two use dynamic drift\n",
    "    if model_no == 3:\n",
    "        drift = models.DriftTtaDistanceStatic(alpha=param_set.alpha, beta=param_set.beta, theta=param_set.theta)\n",
    "    else:\n",
    "        drift = models.DriftTtaDistanceDynamic(alpha=param_set.alpha, beta=param_set.beta, theta=param_set.theta)\n",
    "\n",
    "    model = ddm.Model(name='Model %i' % model_no, drift=drift, bound=bound, overlay=overlay,\n",
    "                      noise=ddm.NoiseConstant(noise=1), T_dur=models.ModelStaticDriftFixedBounds.T_dur)\n",
    "\n",
    "    return model\n",
    "\n",
    "def simulate_model(model_no, param_set, conditions, ret='measures'):\n",
    "    '''\n",
    "    Set ret to 'measures' or 'rt_cdf' or 'rt_pdf' for saving p_turn and mean RT or RT CDF or RT PDF\n",
    "    '''\n",
    "    model = initialize_model(model_no, param_set)\n",
    "\n",
    "    # print(param_set)\n",
    "\n",
    "    if ret=='measures':\n",
    "        sim_result = pd.DataFrame([get_model_measures(model, condition) for condition in conditions],\n",
    "                                  columns=['tta_condition', 'd_condition', 'is_turn_decision', 'RT'])\n",
    "    else:\n",
    "        sim_result = pd.concat([get_model_rt_distr(model, condition, kind=ret[-3:]) for condition in conditions])\n",
    "    sim_result['subj_id'] = param_set.subj_id\n",
    "    return sim_result"
   ]
  },
  {
   "cell_type": "code",
   "execution_count": 4,
   "metadata": {},
   "outputs": [],
   "source": [
    "def save_sim_results(model_no, file_name, conditions=None, cross_validation=False, ret='measures'):\n",
    "    path = '../model_fit_results/model_%i/best_fit_parameters/' % model_no\n",
    "    file_path = os.path.join(path, file_name)\n",
    "    parameters = pd.read_csv(file_path).rename(columns={'tta': 'tta_condition', 'd': 'd_condition'})\n",
    "\n",
    "    # print(parameters)\n",
    "\n",
    "    sim_results = [simulate_model(model_no, param_set,\n",
    "                                  [param_set[['tta_condition', 'd_condition']].to_dict()] if cross_validation else conditions,\n",
    "                                  ret=ret)\n",
    "                   for idx, param_set in parameters.iterrows()]\n",
    "\n",
    "    sim_results = pd.concat(sim_results)\n",
    "    sim_results.to_csv(os.path.join('../model_fit_results/model_%i/simulation_results/' % model_no,\n",
    "                                    file_name.replace('parameters_fitted', ret)),\n",
    "                       index=False)\n",
    "        # sim_results.to_csv(file_path.replace('parameters_fitted', ret), index=False)"
   ]
  },
  {
   "cell_type": "markdown",
   "metadata": {},
   "source": [
    "# Simulate model trained on full data"
   ]
  },
  {
   "cell_type": "code",
   "execution_count": 5,
   "metadata": {},
   "outputs": [],
   "source": [
    "conditions = [{'tta_condition': tta, 'd_condition': d} \n",
    "                       for tta in np.linspace(2,8,13)\n",
    "                       for d in np.linspace(60,180,13)]"
   ]
  },
  {
   "cell_type": "code",
   "execution_count": null,
   "metadata": {
    "pycharm": {
     "is_executing": true
    }
   },
   "outputs": [],
   "source": [
    "for model_no in [1, 2, 3]:\n",
    "    save_sim_results(model_no, 'full_data_parameters_fitted.csv', conditions, cross_validation=False, ret='measures')"
   ]
  },
  {
   "cell_type": "code",
   "execution_count": null,
   "metadata": {
    "scrolled": true,
    "pycharm": {
     "is_executing": true
    }
   },
   "outputs": [],
   "source": [
    "for model_no in [1, 2, 3]:\n",
    "    save_sim_results(model_no, 'full_data_parameters_fitted.csv', conditions, cross_validation=False, ret='rt_cdf')"
   ]
  },
  {
   "cell_type": "markdown",
   "metadata": {},
   "source": [
    "# Simulating cross-validated model"
   ]
  },
  {
   "cell_type": "code",
   "execution_count": 13,
   "metadata": {},
   "outputs": [],
   "source": [
    "conditions = [{'tta_condition': tta, 'd_condition': d} \n",
    "                       for tta in [4,5,6]\n",
    "                       for d in [90,120,150]]"
   ]
  },
  {
   "cell_type": "code",
   "execution_count": 27,
   "metadata": {
    "scrolled": true
   },
   "outputs": [
    {
     "ename": "KeyboardInterrupt",
     "evalue": "",
     "output_type": "error",
     "traceback": [
      "\u001B[1;31m---------------------------------------------------------------------------\u001B[0m",
      "\u001B[1;31mKeyboardInterrupt\u001B[0m                         Traceback (most recent call last)",
      "\u001B[1;32m~\\AppData\\Local\\Temp/ipykernel_8784/998725836.py\u001B[0m in \u001B[0;36m<module>\u001B[1;34m\u001B[0m\n\u001B[0;32m      1\u001B[0m \u001B[1;32mfor\u001B[0m \u001B[0mmodel_no\u001B[0m \u001B[1;32min\u001B[0m \u001B[1;33m[\u001B[0m\u001B[1;36m1\u001B[0m\u001B[1;33m,\u001B[0m\u001B[1;36m2\u001B[0m\u001B[1;33m,\u001B[0m\u001B[1;36m3\u001B[0m\u001B[1;33m]\u001B[0m\u001B[1;33m:\u001B[0m\u001B[1;33m\u001B[0m\u001B[1;33m\u001B[0m\u001B[0m\n\u001B[1;32m----> 2\u001B[1;33m     \u001B[0msave_sim_results\u001B[0m\u001B[1;33m(\u001B[0m\u001B[0mmodel_no\u001B[0m\u001B[1;33m,\u001B[0m \u001B[1;34m'cross_validation_8_parameters_fitted.csv'\u001B[0m\u001B[1;33m,\u001B[0m \u001B[0mconditions\u001B[0m\u001B[1;33m,\u001B[0m \u001B[0mret\u001B[0m\u001B[1;33m=\u001B[0m\u001B[1;34m'measures'\u001B[0m\u001B[1;33m)\u001B[0m\u001B[1;33m\u001B[0m\u001B[1;33m\u001B[0m\u001B[0m\n\u001B[0m\u001B[0;32m      3\u001B[0m \u001B[1;33m\u001B[0m\u001B[0m\n",
      "\u001B[1;32m~\\AppData\\Local\\Temp/ipykernel_8784/406824886.py\u001B[0m in \u001B[0;36msave_sim_results\u001B[1;34m(model_no, file_name, conditions, cross_validation, ret)\u001B[0m\n\u001B[0;32m      6\u001B[0m     \u001B[1;31m# print(parameters)\u001B[0m\u001B[1;33m\u001B[0m\u001B[1;33m\u001B[0m\u001B[1;33m\u001B[0m\u001B[0m\n\u001B[0;32m      7\u001B[0m \u001B[1;33m\u001B[0m\u001B[0m\n\u001B[1;32m----> 8\u001B[1;33m     sim_results = [simulate_model(model_no, param_set,\n\u001B[0m\u001B[0;32m      9\u001B[0m                                   \u001B[1;33m[\u001B[0m\u001B[0mparam_set\u001B[0m\u001B[1;33m[\u001B[0m\u001B[1;33m[\u001B[0m\u001B[1;34m'tta_condition'\u001B[0m\u001B[1;33m,\u001B[0m \u001B[1;34m'd_condition'\u001B[0m\u001B[1;33m]\u001B[0m\u001B[1;33m]\u001B[0m\u001B[1;33m.\u001B[0m\u001B[0mto_dict\u001B[0m\u001B[1;33m(\u001B[0m\u001B[1;33m)\u001B[0m\u001B[1;33m]\u001B[0m \u001B[1;32mif\u001B[0m \u001B[0mcross_validation\u001B[0m \u001B[1;32melse\u001B[0m \u001B[0mconditions\u001B[0m\u001B[1;33m,\u001B[0m\u001B[1;33m\u001B[0m\u001B[1;33m\u001B[0m\u001B[0m\n\u001B[0;32m     10\u001B[0m                                   ret=ret)\n",
      "\u001B[1;32m~\\AppData\\Local\\Temp/ipykernel_8784/406824886.py\u001B[0m in \u001B[0;36m<listcomp>\u001B[1;34m(.0)\u001B[0m\n\u001B[0;32m      6\u001B[0m     \u001B[1;31m# print(parameters)\u001B[0m\u001B[1;33m\u001B[0m\u001B[1;33m\u001B[0m\u001B[1;33m\u001B[0m\u001B[0m\n\u001B[0;32m      7\u001B[0m \u001B[1;33m\u001B[0m\u001B[0m\n\u001B[1;32m----> 8\u001B[1;33m     sim_results = [simulate_model(model_no, param_set,\n\u001B[0m\u001B[0;32m      9\u001B[0m                                   \u001B[1;33m[\u001B[0m\u001B[0mparam_set\u001B[0m\u001B[1;33m[\u001B[0m\u001B[1;33m[\u001B[0m\u001B[1;34m'tta_condition'\u001B[0m\u001B[1;33m,\u001B[0m \u001B[1;34m'd_condition'\u001B[0m\u001B[1;33m]\u001B[0m\u001B[1;33m]\u001B[0m\u001B[1;33m.\u001B[0m\u001B[0mto_dict\u001B[0m\u001B[1;33m(\u001B[0m\u001B[1;33m)\u001B[0m\u001B[1;33m]\u001B[0m \u001B[1;32mif\u001B[0m \u001B[0mcross_validation\u001B[0m \u001B[1;32melse\u001B[0m \u001B[0mconditions\u001B[0m\u001B[1;33m,\u001B[0m\u001B[1;33m\u001B[0m\u001B[1;33m\u001B[0m\u001B[0m\n\u001B[0;32m     10\u001B[0m                                   ret=ret)\n",
      "\u001B[1;32m~\\AppData\\Local\\Temp/ipykernel_8784/19065344.py\u001B[0m in \u001B[0;36msimulate_model\u001B[1;34m(model_no, param_set, conditions, ret)\u001B[0m\n\u001B[0;32m     40\u001B[0m \u001B[1;33m\u001B[0m\u001B[0m\n\u001B[0;32m     41\u001B[0m     \u001B[1;32mif\u001B[0m \u001B[0mret\u001B[0m\u001B[1;33m==\u001B[0m\u001B[1;34m'measures'\u001B[0m\u001B[1;33m:\u001B[0m\u001B[1;33m\u001B[0m\u001B[1;33m\u001B[0m\u001B[0m\n\u001B[1;32m---> 42\u001B[1;33m         sim_result = pd.DataFrame([get_model_measures(model, condition) for condition in conditions],\n\u001B[0m\u001B[0;32m     43\u001B[0m                                   columns=['tta_condition', 'd_condition', 'is_turn_decision', 'RT'])\n\u001B[0;32m     44\u001B[0m     \u001B[1;32melse\u001B[0m\u001B[1;33m:\u001B[0m\u001B[1;33m\u001B[0m\u001B[1;33m\u001B[0m\u001B[0m\n",
      "\u001B[1;32m~\\AppData\\Local\\Temp/ipykernel_8784/19065344.py\u001B[0m in \u001B[0;36m<listcomp>\u001B[1;34m(.0)\u001B[0m\n\u001B[0;32m     40\u001B[0m \u001B[1;33m\u001B[0m\u001B[0m\n\u001B[0;32m     41\u001B[0m     \u001B[1;32mif\u001B[0m \u001B[0mret\u001B[0m\u001B[1;33m==\u001B[0m\u001B[1;34m'measures'\u001B[0m\u001B[1;33m:\u001B[0m\u001B[1;33m\u001B[0m\u001B[1;33m\u001B[0m\u001B[0m\n\u001B[1;32m---> 42\u001B[1;33m         sim_result = pd.DataFrame([get_model_measures(model, condition) for condition in conditions],\n\u001B[0m\u001B[0;32m     43\u001B[0m                                   columns=['tta_condition', 'd_condition', 'is_turn_decision', 'RT'])\n\u001B[0;32m     44\u001B[0m     \u001B[1;32melse\u001B[0m\u001B[1;33m:\u001B[0m\u001B[1;33m\u001B[0m\u001B[1;33m\u001B[0m\u001B[0m\n",
      "\u001B[1;32m~\\AppData\\Local\\Temp/ipykernel_8784/19065344.py\u001B[0m in \u001B[0;36mget_model_measures\u001B[1;34m(model, condition)\u001B[0m\n\u001B[0;32m      1\u001B[0m \u001B[1;32mdef\u001B[0m \u001B[0mget_model_measures\u001B[0m\u001B[1;33m(\u001B[0m\u001B[0mmodel\u001B[0m\u001B[1;33m,\u001B[0m \u001B[0mcondition\u001B[0m\u001B[1;33m)\u001B[0m\u001B[1;33m:\u001B[0m\u001B[1;33m\u001B[0m\u001B[1;33m\u001B[0m\u001B[0m\n\u001B[1;32m----> 2\u001B[1;33m     \u001B[0msol\u001B[0m \u001B[1;33m=\u001B[0m \u001B[0mmodel\u001B[0m\u001B[1;33m.\u001B[0m\u001B[0msolve\u001B[0m\u001B[1;33m(\u001B[0m\u001B[0mcondition\u001B[0m\u001B[1;33m)\u001B[0m\u001B[1;33m\u001B[0m\u001B[1;33m\u001B[0m\u001B[0m\n\u001B[0m\u001B[0;32m      3\u001B[0m     \u001B[1;32mreturn\u001B[0m \u001B[0mcondition\u001B[0m\u001B[1;33m[\u001B[0m\u001B[1;34m'tta_condition'\u001B[0m\u001B[1;33m]\u001B[0m\u001B[1;33m,\u001B[0m \u001B[0mcondition\u001B[0m\u001B[1;33m[\u001B[0m\u001B[1;34m'd_condition'\u001B[0m\u001B[1;33m]\u001B[0m\u001B[1;33m,\u001B[0m \u001B[0msol\u001B[0m\u001B[1;33m.\u001B[0m\u001B[0mprob_correct\u001B[0m\u001B[1;33m(\u001B[0m\u001B[1;33m)\u001B[0m\u001B[1;33m,\u001B[0m \u001B[0msol\u001B[0m\u001B[1;33m.\u001B[0m\u001B[0mmean_decision_time\u001B[0m\u001B[1;33m(\u001B[0m\u001B[1;33m)\u001B[0m\u001B[1;33m\u001B[0m\u001B[1;33m\u001B[0m\u001B[0m\n\u001B[0;32m      4\u001B[0m \u001B[1;33m\u001B[0m\u001B[0m\n\u001B[0;32m      5\u001B[0m \u001B[1;32mdef\u001B[0m \u001B[0mget_model_rt_distr\u001B[0m\u001B[1;33m(\u001B[0m\u001B[0mmodel\u001B[0m\u001B[1;33m,\u001B[0m \u001B[0mcondition\u001B[0m\u001B[1;33m,\u001B[0m \u001B[0mkind\u001B[0m\u001B[1;33m=\u001B[0m\u001B[1;34m'cdf'\u001B[0m\u001B[1;33m)\u001B[0m\u001B[1;33m:\u001B[0m\u001B[1;33m\u001B[0m\u001B[1;33m\u001B[0m\u001B[0m\n",
      "\u001B[1;32mE:\\source\\evidence_accumulation_in_gap_acceptance\\venv\\lib\\site-packages\\paranoid\\decorators.py\u001B[0m in \u001B[0;36m_decorated\u001B[1;34m(*args, **kwargs)\u001B[0m\n\u001B[0;32m    124\u001B[0m         \u001B[0m_check_accepts\u001B[0m\u001B[1;33m(\u001B[0m\u001B[0mfunc\u001B[0m\u001B[1;33m,\u001B[0m \u001B[0margvals\u001B[0m\u001B[1;33m)\u001B[0m\u001B[1;33m\u001B[0m\u001B[1;33m\u001B[0m\u001B[0m\n\u001B[0;32m    125\u001B[0m         \u001B[0m_check_requires\u001B[0m\u001B[1;33m(\u001B[0m\u001B[0mfunc\u001B[0m\u001B[1;33m,\u001B[0m \u001B[0margvals\u001B[0m\u001B[1;33m)\u001B[0m\u001B[1;33m\u001B[0m\u001B[1;33m\u001B[0m\u001B[0m\n\u001B[1;32m--> 126\u001B[1;33m         \u001B[0mreturnvalue\u001B[0m \u001B[1;33m=\u001B[0m \u001B[0mfunc\u001B[0m\u001B[1;33m(\u001B[0m\u001B[1;33m*\u001B[0m\u001B[0margs\u001B[0m\u001B[1;33m,\u001B[0m \u001B[1;33m**\u001B[0m\u001B[0mkwargs\u001B[0m\u001B[1;33m)\u001B[0m\u001B[1;33m\u001B[0m\u001B[1;33m\u001B[0m\u001B[0m\n\u001B[0m\u001B[0;32m    127\u001B[0m         \u001B[0m_check_returns\u001B[0m\u001B[1;33m(\u001B[0m\u001B[0mfunc\u001B[0m\u001B[1;33m,\u001B[0m \u001B[0mreturnvalue\u001B[0m\u001B[1;33m)\u001B[0m\u001B[1;33m\u001B[0m\u001B[1;33m\u001B[0m\u001B[0m\n\u001B[0;32m    128\u001B[0m         \u001B[0m_check_ensures\u001B[0m\u001B[1;33m(\u001B[0m\u001B[0mfunc\u001B[0m\u001B[1;33m,\u001B[0m \u001B[0mreturnvalue\u001B[0m\u001B[1;33m,\u001B[0m \u001B[0margvals\u001B[0m\u001B[1;33m)\u001B[0m\u001B[1;33m\u001B[0m\u001B[1;33m\u001B[0m\u001B[0m\n",
      "\u001B[1;32mE:\\source\\evidence_accumulation_in_gap_acceptance\\venv\\lib\\site-packages\\ddm\\model.py\u001B[0m in \u001B[0;36msolve\u001B[1;34m(self, conditions, return_evolution)\u001B[0m\n\u001B[0;32m    491\u001B[0m             \u001B[1;32mreturn\u001B[0m \u001B[0mself\u001B[0m\u001B[1;33m.\u001B[0m\u001B[0msolve_numerical_cn\u001B[0m\u001B[1;33m(\u001B[0m\u001B[0mconditions\u001B[0m\u001B[1;33m=\u001B[0m\u001B[0mconditions\u001B[0m\u001B[1;33m)\u001B[0m\u001B[1;33m\u001B[0m\u001B[1;33m\u001B[0m\u001B[0m\n\u001B[0;32m    492\u001B[0m         \u001B[1;32melse\u001B[0m\u001B[1;33m:\u001B[0m\u001B[1;33m\u001B[0m\u001B[1;33m\u001B[0m\u001B[0m\n\u001B[1;32m--> 493\u001B[1;33m             \u001B[1;32mreturn\u001B[0m \u001B[0mself\u001B[0m\u001B[1;33m.\u001B[0m\u001B[0msolve_numerical_implicit\u001B[0m\u001B[1;33m(\u001B[0m\u001B[0mconditions\u001B[0m\u001B[1;33m=\u001B[0m\u001B[0mconditions\u001B[0m\u001B[1;33m,\u001B[0m \u001B[0mreturn_evolution\u001B[0m\u001B[1;33m=\u001B[0m\u001B[0mreturn_evolution\u001B[0m\u001B[1;33m)\u001B[0m\u001B[1;33m\u001B[0m\u001B[1;33m\u001B[0m\u001B[0m\n\u001B[0m\u001B[0;32m    494\u001B[0m \u001B[1;33m\u001B[0m\u001B[0m\n\u001B[0;32m    495\u001B[0m     \u001B[1;33m@\u001B[0m\u001B[0maccepts\u001B[0m\u001B[1;33m(\u001B[0m\u001B[0mSelf\u001B[0m\u001B[1;33m,\u001B[0m \u001B[0mconditions\u001B[0m\u001B[1;33m=\u001B[0m\u001B[0mConditions\u001B[0m\u001B[1;33m)\u001B[0m\u001B[1;33m\u001B[0m\u001B[1;33m\u001B[0m\u001B[0m\n",
      "\u001B[1;32mE:\\source\\evidence_accumulation_in_gap_acceptance\\venv\\lib\\site-packages\\paranoid\\decorators.py\u001B[0m in \u001B[0;36m_decorated\u001B[1;34m(*args, **kwargs)\u001B[0m\n\u001B[0;32m    124\u001B[0m         \u001B[0m_check_accepts\u001B[0m\u001B[1;33m(\u001B[0m\u001B[0mfunc\u001B[0m\u001B[1;33m,\u001B[0m \u001B[0margvals\u001B[0m\u001B[1;33m)\u001B[0m\u001B[1;33m\u001B[0m\u001B[1;33m\u001B[0m\u001B[0m\n\u001B[0;32m    125\u001B[0m         \u001B[0m_check_requires\u001B[0m\u001B[1;33m(\u001B[0m\u001B[0mfunc\u001B[0m\u001B[1;33m,\u001B[0m \u001B[0margvals\u001B[0m\u001B[1;33m)\u001B[0m\u001B[1;33m\u001B[0m\u001B[1;33m\u001B[0m\u001B[0m\n\u001B[1;32m--> 126\u001B[1;33m         \u001B[0mreturnvalue\u001B[0m \u001B[1;33m=\u001B[0m \u001B[0mfunc\u001B[0m\u001B[1;33m(\u001B[0m\u001B[1;33m*\u001B[0m\u001B[0margs\u001B[0m\u001B[1;33m,\u001B[0m \u001B[1;33m**\u001B[0m\u001B[0mkwargs\u001B[0m\u001B[1;33m)\u001B[0m\u001B[1;33m\u001B[0m\u001B[1;33m\u001B[0m\u001B[0m\n\u001B[0m\u001B[0;32m    127\u001B[0m         \u001B[0m_check_returns\u001B[0m\u001B[1;33m(\u001B[0m\u001B[0mfunc\u001B[0m\u001B[1;33m,\u001B[0m \u001B[0mreturnvalue\u001B[0m\u001B[1;33m)\u001B[0m\u001B[1;33m\u001B[0m\u001B[1;33m\u001B[0m\u001B[0m\n\u001B[0;32m    128\u001B[0m         \u001B[0m_check_ensures\u001B[0m\u001B[1;33m(\u001B[0m\u001B[0mfunc\u001B[0m\u001B[1;33m,\u001B[0m \u001B[0mreturnvalue\u001B[0m\u001B[1;33m,\u001B[0m \u001B[0margvals\u001B[0m\u001B[1;33m)\u001B[0m\u001B[1;33m\u001B[0m\u001B[1;33m\u001B[0m\u001B[0m\n",
      "\u001B[1;32mE:\\source\\evidence_accumulation_in_gap_acceptance\\venv\\lib\\site-packages\\ddm\\model.py\u001B[0m in \u001B[0;36msolve_numerical_implicit\u001B[1;34m(self, conditions, **kwargs)\u001B[0m\n\u001B[0;32m    749\u001B[0m         \u001B[0mSee\u001B[0m \u001B[0mdocumentation\u001B[0m \u001B[1;32mfor\u001B[0m \u001B[0mthe\u001B[0m \u001B[0msolve_numerical\u001B[0m \u001B[0mmethod\u001B[0m\u001B[1;33m.\u001B[0m\u001B[1;33m\u001B[0m\u001B[1;33m\u001B[0m\u001B[0m\n\u001B[0;32m    750\u001B[0m         \"\"\"\n\u001B[1;32m--> 751\u001B[1;33m         \u001B[1;32mreturn\u001B[0m \u001B[0mself\u001B[0m\u001B[1;33m.\u001B[0m\u001B[0msolve_numerical\u001B[0m\u001B[1;33m(\u001B[0m\u001B[0mmethod\u001B[0m\u001B[1;33m=\u001B[0m\u001B[1;34m\"implicit\"\u001B[0m\u001B[1;33m,\u001B[0m \u001B[0mconditions\u001B[0m\u001B[1;33m=\u001B[0m\u001B[0mconditions\u001B[0m\u001B[1;33m,\u001B[0m \u001B[1;33m**\u001B[0m\u001B[0mkwargs\u001B[0m\u001B[1;33m)\u001B[0m\u001B[1;33m\u001B[0m\u001B[1;33m\u001B[0m\u001B[0m\n\u001B[0m\u001B[0;32m    752\u001B[0m \u001B[1;33m\u001B[0m\u001B[0m\n\u001B[0;32m    753\u001B[0m     \u001B[1;33m@\u001B[0m\u001B[0maccepts\u001B[0m\u001B[1;33m(\u001B[0m\u001B[0mSelf\u001B[0m\u001B[1;33m,\u001B[0m \u001B[0mconditions\u001B[0m\u001B[1;33m=\u001B[0m\u001B[0mConditions\u001B[0m\u001B[1;33m)\u001B[0m\u001B[1;33m\u001B[0m\u001B[1;33m\u001B[0m\u001B[0m\n",
      "\u001B[1;32mE:\\source\\evidence_accumulation_in_gap_acceptance\\venv\\lib\\site-packages\\paranoid\\decorators.py\u001B[0m in \u001B[0;36m_decorated\u001B[1;34m(*args, **kwargs)\u001B[0m\n\u001B[0;32m    124\u001B[0m         \u001B[0m_check_accepts\u001B[0m\u001B[1;33m(\u001B[0m\u001B[0mfunc\u001B[0m\u001B[1;33m,\u001B[0m \u001B[0margvals\u001B[0m\u001B[1;33m)\u001B[0m\u001B[1;33m\u001B[0m\u001B[1;33m\u001B[0m\u001B[0m\n\u001B[0;32m    125\u001B[0m         \u001B[0m_check_requires\u001B[0m\u001B[1;33m(\u001B[0m\u001B[0mfunc\u001B[0m\u001B[1;33m,\u001B[0m \u001B[0margvals\u001B[0m\u001B[1;33m)\u001B[0m\u001B[1;33m\u001B[0m\u001B[1;33m\u001B[0m\u001B[0m\n\u001B[1;32m--> 126\u001B[1;33m         \u001B[0mreturnvalue\u001B[0m \u001B[1;33m=\u001B[0m \u001B[0mfunc\u001B[0m\u001B[1;33m(\u001B[0m\u001B[1;33m*\u001B[0m\u001B[0margs\u001B[0m\u001B[1;33m,\u001B[0m \u001B[1;33m**\u001B[0m\u001B[0mkwargs\u001B[0m\u001B[1;33m)\u001B[0m\u001B[1;33m\u001B[0m\u001B[1;33m\u001B[0m\u001B[0m\n\u001B[0m\u001B[0;32m    127\u001B[0m         \u001B[0m_check_returns\u001B[0m\u001B[1;33m(\u001B[0m\u001B[0mfunc\u001B[0m\u001B[1;33m,\u001B[0m \u001B[0mreturnvalue\u001B[0m\u001B[1;33m)\u001B[0m\u001B[1;33m\u001B[0m\u001B[1;33m\u001B[0m\u001B[0m\n\u001B[0;32m    128\u001B[0m         \u001B[0m_check_ensures\u001B[0m\u001B[1;33m(\u001B[0m\u001B[0mfunc\u001B[0m\u001B[1;33m,\u001B[0m \u001B[0mreturnvalue\u001B[0m\u001B[1;33m,\u001B[0m \u001B[0margvals\u001B[0m\u001B[1;33m)\u001B[0m\u001B[1;33m\u001B[0m\u001B[1;33m\u001B[0m\u001B[0m\n",
      "\u001B[1;32mE:\\source\\evidence_accumulation_in_gap_acceptance\\venv\\lib\\site-packages\\ddm\\model.py\u001B[0m in \u001B[0;36msolve_numerical\u001B[1;34m(self, method, conditions, return_evolution)\u001B[0m\n\u001B[0;32m    638\u001B[0m             \u001B[0mnoise_matrix\u001B[0m \u001B[1;33m=\u001B[0m \u001B[0mself\u001B[0m\u001B[1;33m.\u001B[0m\u001B[0mget_dependence\u001B[0m\u001B[1;33m(\u001B[0m\u001B[1;34m'noise'\u001B[0m\u001B[1;33m)\u001B[0m\u001B[1;33m.\u001B[0m\u001B[0mget_matrix\u001B[0m\u001B[1;33m(\u001B[0m\u001B[0mx\u001B[0m\u001B[1;33m=\u001B[0m\u001B[0mx_list_inbounds\u001B[0m\u001B[1;33m,\u001B[0m \u001B[0mt\u001B[0m\u001B[1;33m=\u001B[0m\u001B[0mt\u001B[0m\u001B[1;33m,\u001B[0m \u001B[0mdt\u001B[0m\u001B[1;33m=\u001B[0m\u001B[0mself\u001B[0m\u001B[1;33m.\u001B[0m\u001B[0mdt\u001B[0m\u001B[1;33m,\u001B[0m \u001B[0mdx\u001B[0m\u001B[1;33m=\u001B[0m\u001B[0mself\u001B[0m\u001B[1;33m.\u001B[0m\u001B[0mdx\u001B[0m\u001B[1;33m,\u001B[0m \u001B[0mconditions\u001B[0m\u001B[1;33m=\u001B[0m\u001B[0mconditions\u001B[0m\u001B[1;33m)\u001B[0m\u001B[1;33m\u001B[0m\u001B[1;33m\u001B[0m\u001B[0m\n\u001B[0;32m    639\u001B[0m             \u001B[1;32mif\u001B[0m \u001B[0mmethod\u001B[0m \u001B[1;33m==\u001B[0m \u001B[1;34m\"implicit\"\u001B[0m\u001B[1;33m:\u001B[0m\u001B[1;33m\u001B[0m\u001B[1;33m\u001B[0m\u001B[0m\n\u001B[1;32m--> 640\u001B[1;33m                 \u001B[0mdiffusion_matrix\u001B[0m \u001B[1;33m=\u001B[0m \u001B[0mTriDiagMatrix\u001B[0m\u001B[1;33m.\u001B[0m\u001B[0meye\u001B[0m\u001B[1;33m(\u001B[0m\u001B[0mlen\u001B[0m\u001B[1;33m(\u001B[0m\u001B[0mx_list_inbounds\u001B[0m\u001B[1;33m)\u001B[0m\u001B[1;33m)\u001B[0m \u001B[1;33m+\u001B[0m \u001B[0mdrift_matrix\u001B[0m \u001B[1;33m+\u001B[0m \u001B[0mnoise_matrix\u001B[0m\u001B[1;33m\u001B[0m\u001B[1;33m\u001B[0m\u001B[0m\n\u001B[0m\u001B[0;32m    641\u001B[0m             \u001B[1;32melif\u001B[0m \u001B[0mmethod\u001B[0m \u001B[1;33m==\u001B[0m \u001B[1;34m\"explicit\"\u001B[0m\u001B[1;33m:\u001B[0m\u001B[1;33m\u001B[0m\u001B[1;33m\u001B[0m\u001B[0m\n\u001B[0;32m    642\u001B[0m                 \u001B[1;31m# Explicit method flips sign except for the identity matrix\u001B[0m\u001B[1;33m\u001B[0m\u001B[1;33m\u001B[0m\u001B[1;33m\u001B[0m\u001B[0m\n",
      "\u001B[1;32mE:\\source\\evidence_accumulation_in_gap_acceptance\\venv\\lib\\site-packages\\paranoid\\decorators.py\u001B[0m in \u001B[0;36m_decorated\u001B[1;34m(*args, **kwargs)\u001B[0m\n\u001B[0;32m    122\u001B[0m         \u001B[1;31m# Check entry conditions, run the function, check exit\u001B[0m\u001B[1;33m\u001B[0m\u001B[1;33m\u001B[0m\u001B[1;33m\u001B[0m\u001B[0m\n\u001B[0;32m    123\u001B[0m         \u001B[1;31m# conditions, and return the result of the function.\u001B[0m\u001B[1;33m\u001B[0m\u001B[1;33m\u001B[0m\u001B[1;33m\u001B[0m\u001B[0m\n\u001B[1;32m--> 124\u001B[1;33m         \u001B[0m_check_accepts\u001B[0m\u001B[1;33m(\u001B[0m\u001B[0mfunc\u001B[0m\u001B[1;33m,\u001B[0m \u001B[0margvals\u001B[0m\u001B[1;33m)\u001B[0m\u001B[1;33m\u001B[0m\u001B[1;33m\u001B[0m\u001B[0m\n\u001B[0m\u001B[0;32m    125\u001B[0m         \u001B[0m_check_requires\u001B[0m\u001B[1;33m(\u001B[0m\u001B[0mfunc\u001B[0m\u001B[1;33m,\u001B[0m \u001B[0margvals\u001B[0m\u001B[1;33m)\u001B[0m\u001B[1;33m\u001B[0m\u001B[1;33m\u001B[0m\u001B[0m\n\u001B[0;32m    126\u001B[0m         \u001B[0mreturnvalue\u001B[0m \u001B[1;33m=\u001B[0m \u001B[0mfunc\u001B[0m\u001B[1;33m(\u001B[0m\u001B[1;33m*\u001B[0m\u001B[0margs\u001B[0m\u001B[1;33m,\u001B[0m \u001B[1;33m**\u001B[0m\u001B[0mkwargs\u001B[0m\u001B[1;33m)\u001B[0m\u001B[1;33m\u001B[0m\u001B[1;33m\u001B[0m\u001B[0m\n",
      "\u001B[1;32mE:\\source\\evidence_accumulation_in_gap_acceptance\\venv\\lib\\site-packages\\paranoid\\decorators.py\u001B[0m in \u001B[0;36m_check_accepts\u001B[1;34m(func, argvals)\u001B[0m\n\u001B[0;32m     32\u001B[0m         \u001B[1;32mfor\u001B[0m \u001B[0mk\u001B[0m \u001B[1;32min\u001B[0m \u001B[0margtypes\u001B[0m\u001B[1;33m.\u001B[0m\u001B[0mkeys\u001B[0m\u001B[1;33m(\u001B[0m\u001B[1;33m)\u001B[0m\u001B[1;33m:\u001B[0m\u001B[1;33m\u001B[0m\u001B[1;33m\u001B[0m\u001B[0m\n\u001B[0;32m     33\u001B[0m             \u001B[1;32mtry\u001B[0m\u001B[1;33m:\u001B[0m\u001B[1;33m\u001B[0m\u001B[1;33m\u001B[0m\u001B[0m\n\u001B[1;32m---> 34\u001B[1;33m                 \u001B[0margtypes\u001B[0m\u001B[1;33m[\u001B[0m\u001B[0mk\u001B[0m\u001B[1;33m]\u001B[0m\u001B[1;33m.\u001B[0m\u001B[0mtest\u001B[0m\u001B[1;33m(\u001B[0m\u001B[0margvals\u001B[0m\u001B[1;33m[\u001B[0m\u001B[0mk\u001B[0m\u001B[1;33m]\u001B[0m\u001B[1;33m)\u001B[0m\u001B[1;33m\u001B[0m\u001B[1;33m\u001B[0m\u001B[0m\n\u001B[0m\u001B[0;32m     35\u001B[0m             \u001B[1;32mexcept\u001B[0m \u001B[0mAssertionError\u001B[0m \u001B[1;32mas\u001B[0m \u001B[0me\u001B[0m\u001B[1;33m:\u001B[0m\u001B[1;33m\u001B[0m\u001B[1;33m\u001B[0m\u001B[0m\n\u001B[0;32m     36\u001B[0m                 \u001B[1;32mraise\u001B[0m \u001B[0mE\u001B[0m\u001B[1;33m.\u001B[0m\u001B[0mArgumentTypeError\u001B[0m\u001B[1;33m(\u001B[0m\u001B[1;34m\"Invalid argument type: %s=%s is not of type %s in %s\"\u001B[0m \u001B[1;33m%\u001B[0m \u001B[1;33m(\u001B[0m\u001B[0mk\u001B[0m\u001B[1;33m,\u001B[0m \u001B[0margvals\u001B[0m\u001B[1;33m[\u001B[0m\u001B[0mk\u001B[0m\u001B[1;33m]\u001B[0m\u001B[1;33m,\u001B[0m \u001B[0margtypes\u001B[0m\u001B[1;33m[\u001B[0m\u001B[0mk\u001B[0m\u001B[1;33m]\u001B[0m\u001B[1;33m,\u001B[0m \u001B[0mfunc\u001B[0m\u001B[1;33m.\u001B[0m\u001B[0m__qualname__\u001B[0m\u001B[1;33m)\u001B[0m\u001B[1;33m)\u001B[0m\u001B[1;33m\u001B[0m\u001B[1;33m\u001B[0m\u001B[0m\n",
      "\u001B[1;32mE:\\source\\evidence_accumulation_in_gap_acceptance\\venv\\lib\\site-packages\\paranoid\\types\\base.py\u001B[0m in \u001B[0;36mtest\u001B[1;34m(self, v)\u001B[0m\n\u001B[0;32m    240\u001B[0m     \u001B[1;32mdef\u001B[0m \u001B[0mtest\u001B[0m\u001B[1;33m(\u001B[0m\u001B[0mself\u001B[0m\u001B[1;33m,\u001B[0m \u001B[0mv\u001B[0m\u001B[1;33m)\u001B[0m\u001B[1;33m:\u001B[0m\u001B[1;33m\u001B[0m\u001B[1;33m\u001B[0m\u001B[0m\n\u001B[0;32m    241\u001B[0m         \u001B[0mpassed\u001B[0m \u001B[1;33m=\u001B[0m \u001B[1;32mFalse\u001B[0m\u001B[1;33m\u001B[0m\u001B[1;33m\u001B[0m\u001B[0m\n\u001B[1;32m--> 242\u001B[1;33m         \u001B[1;32mif\u001B[0m \u001B[1;32mnot\u001B[0m \u001B[0many\u001B[0m\u001B[1;33m(\u001B[0m\u001B[0mv\u001B[0m \u001B[1;32min\u001B[0m \u001B[0mt\u001B[0m \u001B[1;32mfor\u001B[0m \u001B[0mt\u001B[0m \u001B[1;32min\u001B[0m \u001B[0mself\u001B[0m\u001B[1;33m.\u001B[0m\u001B[0mtypes\u001B[0m\u001B[1;33m)\u001B[0m\u001B[1;33m:\u001B[0m\u001B[1;33m\u001B[0m\u001B[1;33m\u001B[0m\u001B[0m\n\u001B[0m\u001B[0;32m    243\u001B[0m             \u001B[1;32mraise\u001B[0m \u001B[0mAssertionError\u001B[0m\u001B[1;33m(\u001B[0m\u001B[1;34m\"Neither type in Or holds\"\u001B[0m\u001B[1;33m)\u001B[0m\u001B[1;33m\u001B[0m\u001B[1;33m\u001B[0m\u001B[0m\n\u001B[0;32m    244\u001B[0m     \u001B[1;32mdef\u001B[0m \u001B[0mgenerate\u001B[0m\u001B[1;33m(\u001B[0m\u001B[0mself\u001B[0m\u001B[1;33m)\u001B[0m\u001B[1;33m:\u001B[0m\u001B[1;33m\u001B[0m\u001B[1;33m\u001B[0m\u001B[0m\n",
      "\u001B[1;32mE:\\source\\evidence_accumulation_in_gap_acceptance\\venv\\lib\\site-packages\\paranoid\\types\\base.py\u001B[0m in \u001B[0;36m<genexpr>\u001B[1;34m(.0)\u001B[0m\n\u001B[0;32m    240\u001B[0m     \u001B[1;32mdef\u001B[0m \u001B[0mtest\u001B[0m\u001B[1;33m(\u001B[0m\u001B[0mself\u001B[0m\u001B[1;33m,\u001B[0m \u001B[0mv\u001B[0m\u001B[1;33m)\u001B[0m\u001B[1;33m:\u001B[0m\u001B[1;33m\u001B[0m\u001B[1;33m\u001B[0m\u001B[0m\n\u001B[0;32m    241\u001B[0m         \u001B[0mpassed\u001B[0m \u001B[1;33m=\u001B[0m \u001B[1;32mFalse\u001B[0m\u001B[1;33m\u001B[0m\u001B[1;33m\u001B[0m\u001B[0m\n\u001B[1;32m--> 242\u001B[1;33m         \u001B[1;32mif\u001B[0m \u001B[1;32mnot\u001B[0m \u001B[0many\u001B[0m\u001B[1;33m(\u001B[0m\u001B[0mv\u001B[0m \u001B[1;32min\u001B[0m \u001B[0mt\u001B[0m \u001B[1;32mfor\u001B[0m \u001B[0mt\u001B[0m \u001B[1;32min\u001B[0m \u001B[0mself\u001B[0m\u001B[1;33m.\u001B[0m\u001B[0mtypes\u001B[0m\u001B[1;33m)\u001B[0m\u001B[1;33m:\u001B[0m\u001B[1;33m\u001B[0m\u001B[1;33m\u001B[0m\u001B[0m\n\u001B[0m\u001B[0;32m    243\u001B[0m             \u001B[1;32mraise\u001B[0m \u001B[0mAssertionError\u001B[0m\u001B[1;33m(\u001B[0m\u001B[1;34m\"Neither type in Or holds\"\u001B[0m\u001B[1;33m)\u001B[0m\u001B[1;33m\u001B[0m\u001B[1;33m\u001B[0m\u001B[0m\n\u001B[0;32m    244\u001B[0m     \u001B[1;32mdef\u001B[0m \u001B[0mgenerate\u001B[0m\u001B[1;33m(\u001B[0m\u001B[0mself\u001B[0m\u001B[1;33m)\u001B[0m\u001B[1;33m:\u001B[0m\u001B[1;33m\u001B[0m\u001B[1;33m\u001B[0m\u001B[0m\n",
      "\u001B[1;32mE:\\source\\evidence_accumulation_in_gap_acceptance\\venv\\lib\\site-packages\\paranoid\\types\\base.py\u001B[0m in \u001B[0;36m__contains__\u001B[1;34m(self, v)\u001B[0m\n\u001B[0;32m     70\u001B[0m     \u001B[1;32mdef\u001B[0m \u001B[0m__contains__\u001B[0m\u001B[1;33m(\u001B[0m\u001B[0mself\u001B[0m\u001B[1;33m,\u001B[0m \u001B[0mv\u001B[0m\u001B[1;33m)\u001B[0m\u001B[1;33m:\u001B[0m\u001B[1;33m\u001B[0m\u001B[1;33m\u001B[0m\u001B[0m\n\u001B[0;32m     71\u001B[0m         \u001B[1;32mtry\u001B[0m\u001B[1;33m:\u001B[0m\u001B[1;33m\u001B[0m\u001B[1;33m\u001B[0m\u001B[0m\n\u001B[1;32m---> 72\u001B[1;33m             \u001B[0mself\u001B[0m\u001B[1;33m.\u001B[0m\u001B[0mtest\u001B[0m\u001B[1;33m(\u001B[0m\u001B[0mv\u001B[0m\u001B[1;33m)\u001B[0m\u001B[1;33m\u001B[0m\u001B[1;33m\u001B[0m\u001B[0m\n\u001B[0m\u001B[0;32m     73\u001B[0m         \u001B[1;32mexcept\u001B[0m \u001B[0mAssertionError\u001B[0m\u001B[1;33m:\u001B[0m\u001B[1;33m\u001B[0m\u001B[1;33m\u001B[0m\u001B[0m\n\u001B[0;32m     74\u001B[0m             \u001B[1;32mreturn\u001B[0m \u001B[1;32mFalse\u001B[0m\u001B[1;33m\u001B[0m\u001B[1;33m\u001B[0m\u001B[0m\n",
      "\u001B[1;32mE:\\source\\evidence_accumulation_in_gap_acceptance\\venv\\lib\\site-packages\\paranoid\\types\\base.py\u001B[0m in \u001B[0;36mtest\u001B[1;34m(self, v)\u001B[0m\n\u001B[0;32m    122\u001B[0m         \u001B[1;32mfor\u001B[0m \u001B[0mt\u001B[0m \u001B[1;32min\u001B[0m \u001B[0mtype_and_parents\u001B[0m\u001B[1;33m:\u001B[0m\u001B[1;33m\u001B[0m\u001B[1;33m\u001B[0m\u001B[0m\n\u001B[0;32m    123\u001B[0m             \u001B[1;32mif\u001B[0m \u001B[0mhasattr\u001B[0m\u001B[1;33m(\u001B[0m\u001B[0mt\u001B[0m\u001B[1;33m,\u001B[0m \u001B[1;34m\"_test\"\u001B[0m\u001B[1;33m)\u001B[0m \u001B[1;32mand\u001B[0m \u001B[0mcallable\u001B[0m\u001B[1;33m(\u001B[0m\u001B[0mt\u001B[0m\u001B[1;33m.\u001B[0m\u001B[0m_test\u001B[0m\u001B[1;33m)\u001B[0m\u001B[1;33m:\u001B[0m\u001B[1;33m\u001B[0m\u001B[1;33m\u001B[0m\u001B[0m\n\u001B[1;32m--> 124\u001B[1;33m                 \u001B[0mt\u001B[0m\u001B[1;33m.\u001B[0m\u001B[0m_test\u001B[0m\u001B[1;33m(\u001B[0m\u001B[0mv\u001B[0m\u001B[1;33m)\u001B[0m\u001B[1;33m\u001B[0m\u001B[1;33m\u001B[0m\u001B[0m\n\u001B[0m\u001B[0;32m    125\u001B[0m     \u001B[1;32mdef\u001B[0m \u001B[0m__repr__\u001B[0m\u001B[1;33m(\u001B[0m\u001B[0mself\u001B[0m\u001B[1;33m)\u001B[0m\u001B[1;33m:\u001B[0m\u001B[1;33m\u001B[0m\u001B[1;33m\u001B[0m\u001B[0m\n\u001B[0;32m    126\u001B[0m         \u001B[1;32mreturn\u001B[0m \u001B[1;34m\"Generic(%s)\"\u001B[0m \u001B[1;33m%\u001B[0m \u001B[0mself\u001B[0m\u001B[1;33m.\u001B[0m\u001B[0mtype\u001B[0m\u001B[1;33m\u001B[0m\u001B[1;33m\u001B[0m\u001B[0m\n",
      "\u001B[1;32mE:\\source\\evidence_accumulation_in_gap_acceptance\\venv\\lib\\site-packages\\ddm\\tridiag.py\u001B[0m in \u001B[0;36m_test\u001B[1;34m(v)\u001B[0m\n\u001B[0;32m     35\u001B[0m         \u001B[1;32massert\u001B[0m \u001B[0mv\u001B[0m\u001B[1;33m.\u001B[0m\u001B[0mup\u001B[0m\u001B[1;33m.\u001B[0m\u001B[0mdtype\u001B[0m \u001B[1;33m==\u001B[0m \u001B[0mnp\u001B[0m\u001B[1;33m.\u001B[0m\u001B[0mdtype\u001B[0m\u001B[1;33m(\u001B[0m\u001B[1;34m'float64'\u001B[0m\u001B[1;33m)\u001B[0m\u001B[1;33m\u001B[0m\u001B[1;33m\u001B[0m\u001B[0m\n\u001B[0;32m     36\u001B[0m         \u001B[1;32massert\u001B[0m \u001B[0mv\u001B[0m\u001B[1;33m.\u001B[0m\u001B[0mdown\u001B[0m\u001B[1;33m.\u001B[0m\u001B[0mdtype\u001B[0m \u001B[1;33m==\u001B[0m \u001B[0mnp\u001B[0m\u001B[1;33m.\u001B[0m\u001B[0mdtype\u001B[0m\u001B[1;33m(\u001B[0m\u001B[1;34m'float64'\u001B[0m\u001B[1;33m)\u001B[0m\u001B[1;33m\u001B[0m\u001B[1;33m\u001B[0m\u001B[0m\n\u001B[1;32m---> 37\u001B[1;33m         \u001B[1;32massert\u001B[0m \u001B[1;32mnot\u001B[0m \u001B[0mnp\u001B[0m\u001B[1;33m.\u001B[0m\u001B[0many\u001B[0m\u001B[1;33m(\u001B[0m\u001B[0mnp\u001B[0m\u001B[1;33m.\u001B[0m\u001B[0misnan\u001B[0m\u001B[1;33m(\u001B[0m\u001B[0mv\u001B[0m\u001B[1;33m.\u001B[0m\u001B[0mdiag\u001B[0m\u001B[1;33m)\u001B[0m\u001B[1;33m)\u001B[0m\u001B[1;33m\u001B[0m\u001B[1;33m\u001B[0m\u001B[0m\n\u001B[0m\u001B[0;32m     38\u001B[0m         \u001B[1;32massert\u001B[0m \u001B[1;32mnot\u001B[0m \u001B[0mnp\u001B[0m\u001B[1;33m.\u001B[0m\u001B[0many\u001B[0m\u001B[1;33m(\u001B[0m\u001B[0mnp\u001B[0m\u001B[1;33m.\u001B[0m\u001B[0misnan\u001B[0m\u001B[1;33m(\u001B[0m\u001B[0mv\u001B[0m\u001B[1;33m.\u001B[0m\u001B[0mup\u001B[0m\u001B[1;33m)\u001B[0m\u001B[1;33m)\u001B[0m\u001B[1;33m\u001B[0m\u001B[1;33m\u001B[0m\u001B[0m\n\u001B[0;32m     39\u001B[0m         \u001B[1;32massert\u001B[0m \u001B[1;32mnot\u001B[0m \u001B[0mnp\u001B[0m\u001B[1;33m.\u001B[0m\u001B[0many\u001B[0m\u001B[1;33m(\u001B[0m\u001B[0mnp\u001B[0m\u001B[1;33m.\u001B[0m\u001B[0misnan\u001B[0m\u001B[1;33m(\u001B[0m\u001B[0mv\u001B[0m\u001B[1;33m.\u001B[0m\u001B[0mdown\u001B[0m\u001B[1;33m)\u001B[0m\u001B[1;33m)\u001B[0m\u001B[1;33m\u001B[0m\u001B[1;33m\u001B[0m\u001B[0m\n",
      "\u001B[1;31mKeyboardInterrupt\u001B[0m: "
     ]
    }
   ],
   "source": [
    "for model_no in [1,2,3]:\n",
    "    save_sim_results(model_no, 'cross_validation_8_parameters_fitted.csv', conditions, ret='measures')"
   ]
  },
  {
   "cell_type": "code",
   "execution_count": 15,
   "metadata": {
    "scrolled": true
   },
   "outputs": [],
   "source": [
    "for model_no in [1,2,3]:\n",
    "    save_sim_results(model_no, 'cross_validation_4_parameters_fitted.csv', conditions, ret='measures')"
   ]
  }
 ],
 "metadata": {
  "kernelspec": {
   "display_name": "Python 3",
   "language": "python",
   "name": "python3"
  },
  "language_info": {
   "codemirror_mode": {
    "name": "ipython",
    "version": 3
   },
   "file_extension": ".py",
   "mimetype": "text/x-python",
   "name": "python",
   "nbconvert_exporter": "python",
   "pygments_lexer": "ipython3",
   "version": "3.7.4"
  }
 },
 "nbformat": 4,
 "nbformat_minor": 4
}