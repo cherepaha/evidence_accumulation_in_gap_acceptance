{
 "cells": [
  {
   "cell_type": "code",
   "execution_count": 1,
   "metadata": {},
   "outputs": [],
   "source": [
    "import numpy as np\n",
    "import pandas as pd\n",
    "import matplotlib.pyplot as plt\n",
    "import seaborn as sns\n",
    "import ddm\n",
    "import os \n",
    "import csv\n",
    "import helper\n",
    "from model_definitions import ModelTtaBounds"
   ]
  },
  {
   "cell_type": "code",
   "execution_count": 2,
   "metadata": {
    "scrolled": true
   },
   "outputs": [
    {
     "name": "stdout",
     "output_type": "stream",
     "text": [
      "../model_fit_results/cross_validation_9\\subj_129.csv\n",
      "../model_fit_results/cross_validation_9\\subj_389.csv\n",
      "../model_fit_results/cross_validation_9\\subj_525.csv\n",
      "../model_fit_results/cross_validation_9\\subj_616.csv\n",
      "../model_fit_results/cross_validation_9\\subj_618.csv\n",
      "../model_fit_results/cross_validation_9\\subj_642.csv\n",
      "../model_fit_results/cross_validation_9\\subj_755.csv\n",
      "../model_fit_results/cross_validation_9\\subj_all.csv\n",
      "../model_fit_results/cross_validation_8\\subj_129.csv\n",
      "../model_fit_results/cross_validation_8\\subj_389.csv\n",
      "../model_fit_results/cross_validation_8\\subj_525.csv\n",
      "../model_fit_results/cross_validation_8\\subj_616.csv\n",
      "../model_fit_results/cross_validation_8\\subj_618.csv\n",
      "../model_fit_results/cross_validation_8\\subj_642.csv\n",
      "../model_fit_results/cross_validation_8\\subj_755.csv\n",
      "../model_fit_results/cross_validation_8\\subj_all.csv\n",
      "../model_fit_results/cross_validation_4\\subj_129.csv\n",
      "../model_fit_results/cross_validation_4\\subj_389.csv\n",
      "../model_fit_results/cross_validation_4\\subj_525.csv\n",
      "../model_fit_results/cross_validation_4\\subj_616.csv\n",
      "../model_fit_results/cross_validation_4\\subj_618.csv\n",
      "../model_fit_results/cross_validation_4\\subj_642.csv\n",
      "../model_fit_results/cross_validation_4\\subj_755.csv\n",
      "../model_fit_results/cross_validation_4\\subj_all.csv\n"
     ]
    }
   ],
   "source": [
    "for folder in ['cross_validation_9', 'cross_validation_8', 'cross_validation_4']:\n",
    "    helper.merge_csv('../model_fit_results/%s' % (folder))"
   ]
  },
  {
   "cell_type": "code",
   "execution_count": 3,
   "metadata": {},
   "outputs": [],
   "source": [
    "def get_model_measures(model, condition):\n",
    "    sol = model.solve(condition)\n",
    "    return(condition['tta_condition'], condition['d_condition'], sol.prob_correct(), sol.mean_decision_time())\n",
    "\n",
    "def get_model_rt_distr(model, condition, kind='cdf'):\n",
    "    sol = model.solve(condition)\n",
    "    return(pd.DataFrame({'tta_condition': condition['tta_condition'],\n",
    "                         'd_condition':  condition['d_condition'],\n",
    "                         't': model.t_domain(),\n",
    "                         'rt_corr_distr': (sol.cdf_corr() if kind=='cdf' else sol.pdf_corr())/sol.prob_correct()}))\n",
    "\n",
    "def initialize_model(param_set):\n",
    "    overlay = ModelTtaBounds.OverlayNonDecisionGaussian(nondectime=param_set.ndt_location, ndsigma=param_set.ndt_scale)\n",
    "    model = ddm.Model(name='TTA- and d-dependent drift and bounds and random nondecision time',\n",
    "                         drift=ModelTtaBounds.DriftTtaDistance(alpha=param_set.alpha, \n",
    "                                                               beta=param_set.beta, theta=param_set.theta),\n",
    "                         noise=ddm.NoiseConstant(noise=param_set.noise),\n",
    "                         bound=ModelTtaBounds.BoundCollapsingTta(b_0=param_set.b_0, \n",
    "                                                                 k=param_set.k, tta_crit=param_set.tta_crit),\n",
    "                         overlay=overlay, T_dur=ModelTtaBounds.T_dur)\n",
    "    return(model)\n",
    "\n",
    "def simulate_model(param_set, conditions, ret='measures'): \n",
    "    '''\n",
    "    Set ret to 'measures' or 'rt_cdf' or 'rt_pdf' for saving p_turn and mean RT or RT CDF or RT PDF\n",
    "    '''\n",
    "    model = initialize_model(param_set)\n",
    "    if ret=='measures':\n",
    "        sim_result = pd.DataFrame([get_model_measures(model, condition) for condition in conditions],\n",
    "                                  columns=['tta_condition', 'd_condition', 'is_turn_decision', 'RT'])\n",
    "    else:\n",
    "        sim_result = pd.concat([get_model_rt_distr(model, condition, kind=ret[-3:]) for condition in conditions])\n",
    "    sim_result['subj_id'] = param_set.subj_id\n",
    "    return sim_result"
   ]
  },
  {
   "cell_type": "code",
   "execution_count": 8,
   "metadata": {},
   "outputs": [],
   "source": [
    "def save_sim_results(file_name, conditions=None, cross_validation=False, ret='measures'):\n",
    "    path = '../model_fit_results/'\n",
    "    file_path = os.path.join(path, file_name)\n",
    "    parameters = pd.read_csv(file_path).rename(columns={'tta': 'tta_condition', 'd': 'd_condition'})\n",
    "    \n",
    "    if ret=='measures':\n",
    "        if cross_validation:\n",
    "            sim_results = [simulate_model(param_set, [param_set[['tta_condition', 'd_condition']].to_dict()]) \n",
    "                               for idx, param_set in parameters.iterrows()]\n",
    "        else:\n",
    "            sim_results = [simulate_model(param_set, conditions, ret='measures') \n",
    "                                  for idx, param_set in parameters.iterrows()]    \n",
    "        sim_results = pd.concat(sim_results)\n",
    "        sim_results.to_csv(file_path.replace('parameters_fitted', 'measures'), index=False)\n",
    "    else:\n",
    "        sim_results = [simulate_model(param_set, conditions, ret=ret) for idx, param_set in parameters.iterrows()]\n",
    "        sim_results = pd.concat(sim_results)\n",
    "        sim_results.to_csv(file_path.replace('parameters_fitted', ret), index=False)\n",
    "#     return sim_results"
   ]
  },
  {
   "cell_type": "markdown",
   "metadata": {},
   "source": [
    "# Simulate model trained on full data"
   ]
  },
  {
   "cell_type": "code",
   "execution_count": 9,
   "metadata": {},
   "outputs": [],
   "source": [
    "conditions = [{'tta_condition': tta, 'd_condition': d} \n",
    "                       for tta in np.linspace(2,8,13)\n",
    "                       for d in np.linspace(60,180,13)]"
   ]
  },
  {
   "cell_type": "code",
   "execution_count": 10,
   "metadata": {},
   "outputs": [],
   "source": [
    "save_sim_results('full_data_parameters_fitted.csv', conditions, cross_validation=False, ret='measures')"
   ]
  },
  {
   "cell_type": "code",
   "execution_count": 12,
   "metadata": {
    "scrolled": true
   },
   "outputs": [],
   "source": [
    "save_sim_results('full_data_parameters_fitted.csv', conditions, cross_validation=False, ret='rt_cdf')"
   ]
  },
  {
   "cell_type": "markdown",
   "metadata": {},
   "source": [
    "# Simulating cross-validated model"
   ]
  },
  {
   "cell_type": "code",
   "execution_count": 13,
   "metadata": {},
   "outputs": [],
   "source": [
    "conditions = [{'tta_condition': tta, 'd_condition': d} \n",
    "                       for tta in [4,5,6]\n",
    "                       for d in [90,120,150]]"
   ]
  },
  {
   "cell_type": "code",
   "execution_count": 14,
   "metadata": {
    "scrolled": true
   },
   "outputs": [],
   "source": [
    "save_sim_results('cross_validation_8_parameters_fitted.csv', conditions, ret='measures')"
   ]
  },
  {
   "cell_type": "code",
   "execution_count": 15,
   "metadata": {
    "scrolled": true
   },
   "outputs": [],
   "source": [
    "save_sim_results('cross_validation_4_parameters_fitted.csv', conditions, ret='measures')"
   ]
  }
 ],
 "metadata": {
  "kernelspec": {
   "display_name": "Python 3",
   "language": "python",
   "name": "python3"
  },
  "language_info": {
   "codemirror_mode": {
    "name": "ipython",
    "version": 3
   },
   "file_extension": ".py",
   "mimetype": "text/x-python",
   "name": "python",
   "nbconvert_exporter": "python",
   "pygments_lexer": "ipython3",
   "version": "3.7.4"
  }
 },
 "nbformat": 4,
 "nbformat_minor": 4
}
