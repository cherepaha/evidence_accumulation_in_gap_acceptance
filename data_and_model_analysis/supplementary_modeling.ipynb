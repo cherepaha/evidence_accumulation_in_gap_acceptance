{
 "cells": [
  {
   "cell_type": "code",
   "execution_count": 4,
   "metadata": {},
   "outputs": [],
   "source": [
    "import pandas as pd\n",
    "import helper\n",
    "import matplotlib.pyplot as plt\n"
   ]
  },
  {
   "cell_type": "code",
   "execution_count": 3,
   "metadata": {
    "pycharm": {
     "name": "#%%\n"
    }
   },
   "outputs": [
    {
     "name": "stderr",
     "output_type": "stream",
     "text": [
      "C:\\Users\\Arkady\\AppData\\Local\\Temp/ipykernel_8712/2748665510.py:2: PerformanceWarning: indexing past lexsort depth may impact performance.\n",
      "  data.loc[(642, 2, 6, 23)]\n"
     ]
    },
    {
     "data": {
      "text/plain": "                                       intersection_x  intersection_y  \\\nsubj_id session route intersection_no                                   \n642     2       6     23                          149               0   \n                      23                          149               0   \n                      23                          149               0   \n                      23                          149               0   \n                      23                          149               0   \n...                                               ...             ...   \n                      23                          149               0   \n                      23                          149               0   \n                      23                          149               0   \n                      23                          149               0   \n                      23                          149               0   \n\n                                       turn_direction        t  \\\nsubj_id session route intersection_no                            \n642     2       6     23                            1   0.0002   \n                      23                            1   0.0105   \n                      23                            1   0.0209   \n                      23                            1   0.0312   \n                      23                            1   0.0415   \n...                                               ...      ...   \n                      23                            1  12.4103   \n                      23                            1  12.4206   \n                      23                            1  12.4310   \n                      23                            1  12.4412   \n                      23                            1  12.4515   \n\n                                       ego_distance_to_intersection  \\\nsubj_id session route intersection_no                                 \n642     2       6     23                                   139.5720   \n                      23                                   139.5720   \n                      23                                   139.5720   \n                      23                                   139.1186   \n                      23                                   139.0272   \n...                                                             ...   \n                      23                                     9.9477   \n                      23                                     9.9477   \n                      23                                     9.9477   \n                      23                                     9.9477   \n                      23                                    10.4591   \n\n                                       tta_condition  d_condition  \\\nsubj_id session route intersection_no                               \n642     2       6     23                         5.0        150.0   \n                      23                         5.0        150.0   \n                      23                         5.0        150.0   \n                      23                         5.0        150.0   \n                      23                         5.0        150.0   \n...                                              ...          ...   \n                      23                         5.0        150.0   \n                      23                         5.0        150.0   \n                      23                         5.0        150.0   \n                      23                         5.0        150.0   \n                      23                         5.0        150.0   \n\n                                       v_condition     ego_x    ego_y  ...  \\\nsubj_id session route intersection_no                                  ...   \n642     2       6     23                      30.0   10.4466  -2.2775  ...   \n                      23                      30.0   10.4466  -2.2775  ...   \n                      23                      30.0   10.4466  -2.2775  ...   \n                      23                      30.0   10.8987  -2.1918  ...   \n                      23                      30.0   10.9898  -2.1733  ...   \n...                                            ...       ...      ...  ...   \n                      23                      30.0  152.6514   9.5878  ...   \n                      23                      30.0  152.6514   9.5878  ...   \n                      23                      30.0  152.6514   9.5878  ...   \n                      23                      30.0  152.6514   9.5878  ...   \n                      23                      30.0  152.7448  10.0925  ...   \n\n                                       bot_x  bot_y  bot_vx  bot_vy  bot_ax  \\\nsubj_id session route intersection_no                                         \n642     2       6     23                 0.0    0.0     0.0     0.0     0.0   \n                      23                 0.0    0.0     0.0     0.0     0.0   \n                      23                 0.0    0.0     0.0     0.0     0.0   \n                      23                 0.0    0.0     0.0     0.0     0.0   \n                      23                 0.0    0.0     0.0     0.0     0.0   \n...                                      ...    ...     ...     ...     ...   \n                      23                 0.0    0.0     0.0     0.0     0.0   \n                      23                 0.0    0.0     0.0     0.0     0.0   \n                      23                 0.0    0.0     0.0     0.0     0.0   \n                      23                 0.0    0.0     0.0     0.0     0.0   \n                      23                 0.0    0.0     0.0     0.0     0.0   \n\n                                       bot_ay  bot_yaw  throttle  brake  \\\nsubj_id session route intersection_no                                     \n642     2       6     23                  0.0      0.0       1.0    0.0   \n                      23                  0.0      0.0       1.0    0.0   \n                      23                  0.0      0.0       1.0    0.0   \n                      23                  0.0      0.0       1.0    0.0   \n                      23                  0.0      0.0       1.0    0.0   \n...                                       ...      ...       ...    ...   \n                      23                  0.0      0.0       1.0    0.0   \n                      23                  0.0      0.0       1.0    0.0   \n                      23                  0.0      0.0       1.0    0.0   \n                      23                  0.0      0.0       1.0    0.0   \n                      23                  0.0      0.0       1.0    0.0   \n\n                                        steer  \nsubj_id session route intersection_no          \n642     2       6     23              -0.4440  \n                      23              -0.4309  \n                      23              -0.3455  \n                      23              -0.3321  \n                      23              -0.3188  \n...                                       ...  \n                      23              -0.2659  \n                      23              -0.2537  \n                      23              -0.2435  \n                      23              -0.2333  \n                      23              -0.2235  \n\n[1212 rows x 25 columns]",
      "text/html": "<div>\n<style scoped>\n    .dataframe tbody tr th:only-of-type {\n        vertical-align: middle;\n    }\n\n    .dataframe tbody tr th {\n        vertical-align: top;\n    }\n\n    .dataframe thead th {\n        text-align: right;\n    }\n</style>\n<table border=\"1\" class=\"dataframe\">\n  <thead>\n    <tr style=\"text-align: right;\">\n      <th></th>\n      <th></th>\n      <th></th>\n      <th></th>\n      <th>intersection_x</th>\n      <th>intersection_y</th>\n      <th>turn_direction</th>\n      <th>t</th>\n      <th>ego_distance_to_intersection</th>\n      <th>tta_condition</th>\n      <th>d_condition</th>\n      <th>v_condition</th>\n      <th>ego_x</th>\n      <th>ego_y</th>\n      <th>...</th>\n      <th>bot_x</th>\n      <th>bot_y</th>\n      <th>bot_vx</th>\n      <th>bot_vy</th>\n      <th>bot_ax</th>\n      <th>bot_ay</th>\n      <th>bot_yaw</th>\n      <th>throttle</th>\n      <th>brake</th>\n      <th>steer</th>\n    </tr>\n    <tr>\n      <th>subj_id</th>\n      <th>session</th>\n      <th>route</th>\n      <th>intersection_no</th>\n      <th></th>\n      <th></th>\n      <th></th>\n      <th></th>\n      <th></th>\n      <th></th>\n      <th></th>\n      <th></th>\n      <th></th>\n      <th></th>\n      <th></th>\n      <th></th>\n      <th></th>\n      <th></th>\n      <th></th>\n      <th></th>\n      <th></th>\n      <th></th>\n      <th></th>\n      <th></th>\n      <th></th>\n    </tr>\n  </thead>\n  <tbody>\n    <tr>\n      <th rowspan=\"11\" valign=\"top\">642</th>\n      <th rowspan=\"11\" valign=\"top\">2</th>\n      <th rowspan=\"11\" valign=\"top\">6</th>\n      <th>23</th>\n      <td>149</td>\n      <td>0</td>\n      <td>1</td>\n      <td>0.0002</td>\n      <td>139.5720</td>\n      <td>5.0</td>\n      <td>150.0</td>\n      <td>30.0</td>\n      <td>10.4466</td>\n      <td>-2.2775</td>\n      <td>...</td>\n      <td>0.0</td>\n      <td>0.0</td>\n      <td>0.0</td>\n      <td>0.0</td>\n      <td>0.0</td>\n      <td>0.0</td>\n      <td>0.0</td>\n      <td>1.0</td>\n      <td>0.0</td>\n      <td>-0.4440</td>\n    </tr>\n    <tr>\n      <th>23</th>\n      <td>149</td>\n      <td>0</td>\n      <td>1</td>\n      <td>0.0105</td>\n      <td>139.5720</td>\n      <td>5.0</td>\n      <td>150.0</td>\n      <td>30.0</td>\n      <td>10.4466</td>\n      <td>-2.2775</td>\n      <td>...</td>\n      <td>0.0</td>\n      <td>0.0</td>\n      <td>0.0</td>\n      <td>0.0</td>\n      <td>0.0</td>\n      <td>0.0</td>\n      <td>0.0</td>\n      <td>1.0</td>\n      <td>0.0</td>\n      <td>-0.4309</td>\n    </tr>\n    <tr>\n      <th>23</th>\n      <td>149</td>\n      <td>0</td>\n      <td>1</td>\n      <td>0.0209</td>\n      <td>139.5720</td>\n      <td>5.0</td>\n      <td>150.0</td>\n      <td>30.0</td>\n      <td>10.4466</td>\n      <td>-2.2775</td>\n      <td>...</td>\n      <td>0.0</td>\n      <td>0.0</td>\n      <td>0.0</td>\n      <td>0.0</td>\n      <td>0.0</td>\n      <td>0.0</td>\n      <td>0.0</td>\n      <td>1.0</td>\n      <td>0.0</td>\n      <td>-0.3455</td>\n    </tr>\n    <tr>\n      <th>23</th>\n      <td>149</td>\n      <td>0</td>\n      <td>1</td>\n      <td>0.0312</td>\n      <td>139.1186</td>\n      <td>5.0</td>\n      <td>150.0</td>\n      <td>30.0</td>\n      <td>10.8987</td>\n      <td>-2.1918</td>\n      <td>...</td>\n      <td>0.0</td>\n      <td>0.0</td>\n      <td>0.0</td>\n      <td>0.0</td>\n      <td>0.0</td>\n      <td>0.0</td>\n      <td>0.0</td>\n      <td>1.0</td>\n      <td>0.0</td>\n      <td>-0.3321</td>\n    </tr>\n    <tr>\n      <th>23</th>\n      <td>149</td>\n      <td>0</td>\n      <td>1</td>\n      <td>0.0415</td>\n      <td>139.0272</td>\n      <td>5.0</td>\n      <td>150.0</td>\n      <td>30.0</td>\n      <td>10.9898</td>\n      <td>-2.1733</td>\n      <td>...</td>\n      <td>0.0</td>\n      <td>0.0</td>\n      <td>0.0</td>\n      <td>0.0</td>\n      <td>0.0</td>\n      <td>0.0</td>\n      <td>0.0</td>\n      <td>1.0</td>\n      <td>0.0</td>\n      <td>-0.3188</td>\n    </tr>\n    <tr>\n      <th>...</th>\n      <td>...</td>\n      <td>...</td>\n      <td>...</td>\n      <td>...</td>\n      <td>...</td>\n      <td>...</td>\n      <td>...</td>\n      <td>...</td>\n      <td>...</td>\n      <td>...</td>\n      <td>...</td>\n      <td>...</td>\n      <td>...</td>\n      <td>...</td>\n      <td>...</td>\n      <td>...</td>\n      <td>...</td>\n      <td>...</td>\n      <td>...</td>\n      <td>...</td>\n      <td>...</td>\n    </tr>\n    <tr>\n      <th>23</th>\n      <td>149</td>\n      <td>0</td>\n      <td>1</td>\n      <td>12.4103</td>\n      <td>9.9477</td>\n      <td>5.0</td>\n      <td>150.0</td>\n      <td>30.0</td>\n      <td>152.6514</td>\n      <td>9.5878</td>\n      <td>...</td>\n      <td>0.0</td>\n      <td>0.0</td>\n      <td>0.0</td>\n      <td>0.0</td>\n      <td>0.0</td>\n      <td>0.0</td>\n      <td>0.0</td>\n      <td>1.0</td>\n      <td>0.0</td>\n      <td>-0.2659</td>\n    </tr>\n    <tr>\n      <th>23</th>\n      <td>149</td>\n      <td>0</td>\n      <td>1</td>\n      <td>12.4206</td>\n      <td>9.9477</td>\n      <td>5.0</td>\n      <td>150.0</td>\n      <td>30.0</td>\n      <td>152.6514</td>\n      <td>9.5878</td>\n      <td>...</td>\n      <td>0.0</td>\n      <td>0.0</td>\n      <td>0.0</td>\n      <td>0.0</td>\n      <td>0.0</td>\n      <td>0.0</td>\n      <td>0.0</td>\n      <td>1.0</td>\n      <td>0.0</td>\n      <td>-0.2537</td>\n    </tr>\n    <tr>\n      <th>23</th>\n      <td>149</td>\n      <td>0</td>\n      <td>1</td>\n      <td>12.4310</td>\n      <td>9.9477</td>\n      <td>5.0</td>\n      <td>150.0</td>\n      <td>30.0</td>\n      <td>152.6514</td>\n      <td>9.5878</td>\n      <td>...</td>\n      <td>0.0</td>\n      <td>0.0</td>\n      <td>0.0</td>\n      <td>0.0</td>\n      <td>0.0</td>\n      <td>0.0</td>\n      <td>0.0</td>\n      <td>1.0</td>\n      <td>0.0</td>\n      <td>-0.2435</td>\n    </tr>\n    <tr>\n      <th>23</th>\n      <td>149</td>\n      <td>0</td>\n      <td>1</td>\n      <td>12.4412</td>\n      <td>9.9477</td>\n      <td>5.0</td>\n      <td>150.0</td>\n      <td>30.0</td>\n      <td>152.6514</td>\n      <td>9.5878</td>\n      <td>...</td>\n      <td>0.0</td>\n      <td>0.0</td>\n      <td>0.0</td>\n      <td>0.0</td>\n      <td>0.0</td>\n      <td>0.0</td>\n      <td>0.0</td>\n      <td>1.0</td>\n      <td>0.0</td>\n      <td>-0.2333</td>\n    </tr>\n    <tr>\n      <th>23</th>\n      <td>149</td>\n      <td>0</td>\n      <td>1</td>\n      <td>12.4515</td>\n      <td>10.4591</td>\n      <td>5.0</td>\n      <td>150.0</td>\n      <td>30.0</td>\n      <td>152.7448</td>\n      <td>10.0925</td>\n      <td>...</td>\n      <td>0.0</td>\n      <td>0.0</td>\n      <td>0.0</td>\n      <td>0.0</td>\n      <td>0.0</td>\n      <td>0.0</td>\n      <td>0.0</td>\n      <td>1.0</td>\n      <td>0.0</td>\n      <td>-0.2235</td>\n    </tr>\n  </tbody>\n</table>\n<p>1212 rows × 25 columns</p>\n</div>"
     },
     "execution_count": 3,
     "metadata": {},
     "output_type": "execute_result"
    }
   ],
   "source": [
    "data = pd.read_csv('../data/raw_data_merged.txt', sep='\\t', index_col=['subj_id', 'session', 'route', 'intersection_no'])"
   ]
  },
  {
   "cell_type": "code",
   "execution_count": 10,
   "outputs": [
    {
     "name": "stderr",
     "output_type": "stream",
     "text": [
      "C:\\Users\\Arkady\\AppData\\Local\\Temp/ipykernel_8712/790660478.py:1: PerformanceWarning: indexing past lexsort depth may impact performance.\n",
      "  traj = data.loc[(642, 2, 6, 23)]\n"
     ]
    },
    {
     "data": {
      "text/plain": "0"
     },
     "execution_count": 10,
     "metadata": {},
     "output_type": "execute_result"
    }
   ],
   "source": [
    "traj = data.loc[(642, 2, 6, 23)]\n",
    "sum(traj.bot_x>0.0)"
   ],
   "metadata": {
    "collapsed": false,
    "pycharm": {
     "name": "#%%\n"
    }
   }
  },
  {
   "cell_type": "code",
   "execution_count": 12,
   "metadata": {},
   "outputs": [
    {
     "data": {
      "text/plain": [
       "subj_id\n",
       "129    115\n",
       "280    113\n",
       "389    116\n",
       "421    106\n",
       "525    115\n",
       "616    119\n",
       "618    120\n",
       "642    116\n",
       "652     93\n",
       "755    110\n",
       "776    120\n",
       "827    112\n",
       "853    112\n",
       "913    115\n",
       "969    115\n",
       "980    112\n",
       "996    109\n",
       "dtype: int64"
      ]
     },
     "execution_count": 12,
     "metadata": {},
     "output_type": "execute_result"
    }
   ],
   "source": [
    "data.groupby([\"subj_id\"]).size()"
   ]
  },
  {
   "cell_type": "code",
   "execution_count": 8,
   "metadata": {},
   "outputs": [],
   "source": [
    "training_data = exp_data[(exp_data.subj_id == 389)]"
   ]
  },
  {
   "cell_type": "code",
   "execution_count": 10,
   "metadata": {},
   "outputs": [
    {
     "name": "stdout",
     "output_type": "stream",
     "text": [
      "differential_evolution step 1: f(x)= 1.74006\n",
      "differential_evolution step 2: f(x)= 1.48552\n",
      "differential_evolution step 3: f(x)= 0.577218\n",
      "differential_evolution step 4: f(x)= 0.577218\n",
      "differential_evolution step 5: f(x)= 0.577218\n",
      "differential_evolution step 6: f(x)= 0.577218\n",
      "differential_evolution step 7: f(x)= 0.330316\n",
      "differential_evolution step 8: f(x)= 0.330316\n",
      "differential_evolution step 9: f(x)= 0.330316\n",
      "differential_evolution step 10: f(x)= 0.248444\n",
      "differential_evolution step 11: f(x)= 0.248444\n",
      "differential_evolution step 12: f(x)= 0.248444\n",
      "differential_evolution step 13: f(x)= 0.248444\n",
      "differential_evolution step 14: f(x)= 0.248444\n",
      "differential_evolution step 15: f(x)= 0.248444\n",
      "differential_evolution step 16: f(x)= 0.248444\n",
      "differential_evolution step 17: f(x)= 0.248444\n",
      "differential_evolution step 18: f(x)= 0.223668\n",
      "differential_evolution step 19: f(x)= 0.223668\n",
      "differential_evolution step 20: f(x)= 0.223668\n",
      "differential_evolution step 21: f(x)= 0.223668\n",
      "differential_evolution step 22: f(x)= 0.223668\n",
      "differential_evolution step 23: f(x)= 0.194387\n",
      "differential_evolution step 24: f(x)= 0.194387\n",
      "differential_evolution step 25: f(x)= 0.194387\n",
      "differential_evolution step 26: f(x)= 0.194387\n",
      "differential_evolution step 27: f(x)= 0.188036\n",
      "differential_evolution step 28: f(x)= 0.188036\n",
      "differential_evolution step 29: f(x)= 0.179215\n",
      "differential_evolution step 30: f(x)= 0.179215\n",
      "differential_evolution step 31: f(x)= 0.179215\n",
      "differential_evolution step 32: f(x)= 0.174017\n",
      "differential_evolution step 33: f(x)= 0.145238\n",
      "differential_evolution step 34: f(x)= 0.145238\n",
      "differential_evolution step 35: f(x)= 0.145238\n",
      "differential_evolution step 36: f(x)= 0.145238\n",
      "differential_evolution step 37: f(x)= 0.143343\n",
      "differential_evolution step 38: f(x)= 0.132281\n",
      "differential_evolution step 39: f(x)= 0.132281\n",
      "differential_evolution step 40: f(x)= 0.132281\n",
      "differential_evolution step 41: f(x)= 0.12779\n",
      "differential_evolution step 42: f(x)= 0.124916\n",
      "differential_evolution step 43: f(x)= 0.124916\n",
      "differential_evolution step 44: f(x)= 0.124916\n",
      "differential_evolution step 45: f(x)= 0.124916\n",
      "differential_evolution step 46: f(x)= 0.124916\n",
      "differential_evolution step 47: f(x)= 0.124916\n",
      "differential_evolution step 48: f(x)= 0.124916\n",
      "differential_evolution step 49: f(x)= 0.122898\n",
      "differential_evolution step 50: f(x)= 0.122898\n",
      "differential_evolution step 51: f(x)= 0.122898\n",
      "differential_evolution step 52: f(x)= 0.122898\n",
      "differential_evolution step 53: f(x)= 0.122898\n",
      "differential_evolution step 54: f(x)= 0.119182\n",
      "differential_evolution step 55: f(x)= 0.119182\n",
      "differential_evolution step 56: f(x)= 0.119182\n",
      "differential_evolution step 57: f(x)= 0.119182\n",
      "differential_evolution step 58: f(x)= 0.119182\n",
      "differential_evolution step 59: f(x)= 0.119182\n",
      "differential_evolution step 60: f(x)= 0.119182\n",
      "differential_evolution step 61: f(x)= 0.119182\n",
      "differential_evolution step 62: f(x)= 0.119182\n",
      "differential_evolution step 63: f(x)= 0.119182\n",
      "differential_evolution step 64: f(x)= 0.114009\n",
      "differential_evolution step 65: f(x)= 0.114009\n",
      "differential_evolution step 66: f(x)= 0.113065\n",
      "differential_evolution step 67: f(x)= 0.113065\n",
      "differential_evolution step 68: f(x)= 0.113065\n",
      "differential_evolution step 69: f(x)= 0.113065\n",
      "differential_evolution step 70: f(x)= 0.112999\n",
      "differential_evolution step 71: f(x)= 0.112635\n",
      "differential_evolution step 72: f(x)= 0.112635\n",
      "differential_evolution step 73: f(x)= 0.110082\n",
      "differential_evolution step 74: f(x)= 0.109667\n",
      "differential_evolution step 75: f(x)= 0.109667\n",
      "differential_evolution step 76: f(x)= 0.107994\n",
      "differential_evolution step 77: f(x)= 0.106892\n",
      "differential_evolution step 78: f(x)= 0.106892\n",
      "differential_evolution step 79: f(x)= 0.106892\n",
      "differential_evolution step 80: f(x)= 0.106892\n",
      "differential_evolution step 81: f(x)= 0.106892\n",
      "differential_evolution step 82: f(x)= 0.106892\n",
      "differential_evolution step 83: f(x)= 0.106892\n",
      "differential_evolution step 84: f(x)= 0.106892\n",
      "differential_evolution step 85: f(x)= 0.105862\n",
      "differential_evolution step 86: f(x)= 0.105862\n",
      "differential_evolution step 87: f(x)= 0.105622\n",
      "differential_evolution step 88: f(x)= 0.105611\n",
      "differential_evolution step 89: f(x)= 0.105611\n",
      "differential_evolution step 90: f(x)= 0.105182\n",
      "differential_evolution step 91: f(x)= 0.105182\n",
      "differential_evolution step 92: f(x)= 0.103564\n",
      "differential_evolution step 93: f(x)= 0.103564\n",
      "differential_evolution step 94: f(x)= 0.103564\n",
      "differential_evolution step 95: f(x)= 0.103564\n",
      "differential_evolution step 96: f(x)= 0.103564\n",
      "differential_evolution step 97: f(x)= 0.103564\n",
      "differential_evolution step 98: f(x)= 0.103564\n",
      "differential_evolution step 99: f(x)= 0.103564\n",
      "differential_evolution step 100: f(x)= 0.103564\n",
      "differential_evolution step 101: f(x)= 0.103564\n",
      "differential_evolution step 102: f(x)= 0.103564\n",
      "differential_evolution step 103: f(x)= 0.103564\n",
      "differential_evolution step 104: f(x)= 0.103564\n",
      "differential_evolution step 105: f(x)= 0.103564\n",
      "differential_evolution step 106: f(x)= 0.103564\n",
      "differential_evolution step 107: f(x)= 0.103564\n",
      "differential_evolution step 108: f(x)= 0.102173\n",
      "differential_evolution step 109: f(x)= 0.102173\n",
      "differential_evolution step 110: f(x)= 0.102173\n",
      "differential_evolution step 111: f(x)= 0.102173\n",
      "differential_evolution step 112: f(x)= 0.102173\n",
      "differential_evolution step 113: f(x)= 0.102173\n",
      "differential_evolution step 114: f(x)= 0.102173\n",
      "differential_evolution step 115: f(x)= 0.102173\n",
      "differential_evolution step 116: f(x)= 0.102173\n",
      "differential_evolution step 117: f(x)= 0.102173\n",
      "differential_evolution step 118: f(x)= 0.102173\n",
      "differential_evolution step 119: f(x)= 0.102173\n",
      "differential_evolution step 120: f(x)= 0.102173\n",
      "differential_evolution step 121: f(x)= 0.102173\n",
      "differential_evolution step 122: f(x)= 0.102173\n",
      "Params [ 2.98993208  0.137454   21.04079676  0.51463332  1.99781224  4.68527778\n",
      "  0.47180152  0.10115749] gave 0.1021731779489719\n"
     ]
    }
   ],
   "source": [
    "fitted_model = helper.fit_model(modelTtaBounds.model, training_data, loss_function=model_definitions.LossWLS)"
   ]
  },
  {
   "cell_type": "code",
   "execution_count": 12,
   "metadata": {},
   "outputs": [
    {
     "data": {
      "text/plain": [
       "0.1021731779489719"
      ]
     },
     "execution_count": 12,
     "metadata": {},
     "output_type": "execute_result"
    }
   ],
   "source": [
    "fitted_model.get_fit_result().value()"
   ]
  },
  {
   "cell_type": "code",
   "execution_count": 11,
   "metadata": {},
   "outputs": [
    {
     "data": {
      "text/plain": [
       "[Fitted(2.989932081097238, minval=0.1, maxval=3),\n",
       " Fitted(0.13745399604617947, minval=0, maxval=1),\n",
       " Fitted(21.040796756053272, minval=4, maxval=40),\n",
       " 1,\n",
       " Fitted(0.5146333191234915, minval=0.5, maxval=5),\n",
       " Fitted(1.9978122368263591, minval=0.1, maxval=2),\n",
       " Fitted(4.685277779598648, minval=3, maxval=6),\n",
       " Fitted(0.47180151927999087, minval=0, maxval=0.6),\n",
       " Fitted(0.10115749244310684, minval=0.001, maxval=0.3)]"
      ]
     },
     "execution_count": 11,
     "metadata": {},
     "output_type": "execute_result"
    }
   ],
   "source": [
    "fitted_model.get_model_parameters()"
   ]
  },
  {
   "cell_type": "markdown",
   "metadata": {},
   "source": [
    "Another run, with wider boundaries"
   ]
  },
  {
   "cell_type": "code",
   "execution_count": 9,
   "metadata": {
    "scrolled": false
   },
   "outputs": [
    {
     "ename": "RuntimeError",
     "evalue": "The map-like callable must be of the form f(func, iterable), returning a sequence of numbers the same length as 'iterable'",
     "output_type": "error",
     "traceback": [
      "\u001B[1;31m---------------------------------------------------------------------------\u001B[0m",
      "\u001B[1;31mValueError\u001B[0m                                Traceback (most recent call last)",
      "\u001B[1;32mC:\\ProgramData\\Anaconda3\\lib\\site-packages\\scipy\\optimize\\_differentialevolution.py\u001B[0m in \u001B[0;36m_calculate_population_energies\u001B[1;34m(self, population)\u001B[0m\n\u001B[0;32m    966\u001B[0m             calc_energies = list(self._mapwrapper(self.func,\n\u001B[1;32m--> 967\u001B[1;33m                                                   parameters_pop[0:nfevs]))\n\u001B[0m\u001B[0;32m    968\u001B[0m             \u001B[0menergies\u001B[0m\u001B[1;33m[\u001B[0m\u001B[1;36m0\u001B[0m\u001B[1;33m:\u001B[0m\u001B[0mnfevs\u001B[0m\u001B[1;33m]\u001B[0m \u001B[1;33m=\u001B[0m \u001B[0mnp\u001B[0m\u001B[1;33m.\u001B[0m\u001B[0msqueeze\u001B[0m\u001B[1;33m(\u001B[0m\u001B[0mcalc_energies\u001B[0m\u001B[1;33m)\u001B[0m\u001B[1;33m\u001B[0m\u001B[1;33m\u001B[0m\u001B[0m\n",
      "\u001B[1;32mC:\\ProgramData\\Anaconda3\\lib\\site-packages\\scipy\\optimize\\_differentialevolution.py\u001B[0m in \u001B[0;36m__call__\u001B[1;34m(self, x)\u001B[0m\n\u001B[0;32m   1345\u001B[0m     \u001B[1;32mdef\u001B[0m \u001B[0m__call__\u001B[0m\u001B[1;33m(\u001B[0m\u001B[0mself\u001B[0m\u001B[1;33m,\u001B[0m \u001B[0mx\u001B[0m\u001B[1;33m)\u001B[0m\u001B[1;33m:\u001B[0m\u001B[1;33m\u001B[0m\u001B[1;33m\u001B[0m\u001B[0m\n\u001B[1;32m-> 1346\u001B[1;33m         \u001B[1;32mreturn\u001B[0m \u001B[0mself\u001B[0m\u001B[1;33m.\u001B[0m\u001B[0mf\u001B[0m\u001B[1;33m(\u001B[0m\u001B[0mx\u001B[0m\u001B[1;33m,\u001B[0m \u001B[1;33m*\u001B[0m\u001B[0mself\u001B[0m\u001B[1;33m.\u001B[0m\u001B[0margs\u001B[0m\u001B[1;33m)\u001B[0m\u001B[1;33m\u001B[0m\u001B[1;33m\u001B[0m\u001B[0m\n\u001B[0m\u001B[0;32m   1347\u001B[0m \u001B[1;33m\u001B[0m\u001B[0m\n",
      "\u001B[1;32mC:\\ProgramData\\Anaconda3\\lib\\site-packages\\pyddm-0.3.0-py3.7.egg\\ddm\\functions.py\u001B[0m in \u001B[0;36m_fit_model\u001B[1;34m(xs)\u001B[0m\n\u001B[0;32m    302\u001B[0m             \u001B[0ms\u001B[0m\u001B[1;33m(\u001B[0m\u001B[0mm\u001B[0m\u001B[1;33m,\u001B[0m \u001B[0mx\u001B[0m\u001B[1;33m)\u001B[0m\u001B[1;33m\u001B[0m\u001B[1;33m\u001B[0m\u001B[0m\n\u001B[1;32m--> 303\u001B[1;33m         \u001B[0mlossf\u001B[0m \u001B[1;33m=\u001B[0m \u001B[0mlf\u001B[0m\u001B[1;33m.\u001B[0m\u001B[0mloss\u001B[0m\u001B[1;33m(\u001B[0m\u001B[0mm\u001B[0m\u001B[1;33m)\u001B[0m\u001B[1;33m\u001B[0m\u001B[1;33m\u001B[0m\u001B[0m\n\u001B[0m\u001B[0;32m    304\u001B[0m         \u001B[1;32mif\u001B[0m \u001B[1;32mnot\u001B[0m \u001B[0msuppress_output\u001B[0m\u001B[1;33m:\u001B[0m\u001B[1;33m\u001B[0m\u001B[1;33m\u001B[0m\u001B[0m\n",
      "\u001B[1;32mD:\\source\\evidence_accumulation_in_gap_acceptance\\data_and_model_analysis\\model_definitions.py\u001B[0m in \u001B[0;36mloss\u001B[1;34m(self, model)\u001B[0m\n\u001B[0;32m     25\u001B[0m     \u001B[1;32mdef\u001B[0m \u001B[0mloss\u001B[0m\u001B[1;33m(\u001B[0m\u001B[0mself\u001B[0m\u001B[1;33m,\u001B[0m \u001B[0mmodel\u001B[0m\u001B[1;33m)\u001B[0m\u001B[1;33m:\u001B[0m\u001B[1;33m\u001B[0m\u001B[1;33m\u001B[0m\u001B[0m\n\u001B[1;32m---> 26\u001B[1;33m         \u001B[0msolultions\u001B[0m \u001B[1;33m=\u001B[0m \u001B[0mself\u001B[0m\u001B[1;33m.\u001B[0m\u001B[0mcache_by_conditions\u001B[0m\u001B[1;33m(\u001B[0m\u001B[0mmodel\u001B[0m\u001B[1;33m)\u001B[0m\u001B[1;33m\u001B[0m\u001B[1;33m\u001B[0m\u001B[0m\n\u001B[0m\u001B[0;32m     27\u001B[0m         \u001B[0mWLS\u001B[0m \u001B[1;33m=\u001B[0m \u001B[1;36m0\u001B[0m\u001B[1;33m\u001B[0m\u001B[1;33m\u001B[0m\u001B[0m\n",
      "\u001B[1;32mC:\\ProgramData\\Anaconda3\\lib\\site-packages\\pyddm-0.3.0-py3.7.egg\\ddm\\models\\loss.py\u001B[0m in \u001B[0;36mcache_by_conditions\u001B[1;34m(self, model)\u001B[0m\n\u001B[0;32m     95\u001B[0m         \u001B[1;32mfrom\u001B[0m \u001B[1;33m.\u001B[0m\u001B[1;33m.\u001B[0m\u001B[0mfunctions\u001B[0m \u001B[1;32mimport\u001B[0m \u001B[0msolve_all_conditions\u001B[0m\u001B[1;33m\u001B[0m\u001B[1;33m\u001B[0m\u001B[0m\n\u001B[1;32m---> 96\u001B[1;33m         \u001B[1;32mreturn\u001B[0m \u001B[0msolve_all_conditions\u001B[0m\u001B[1;33m(\u001B[0m\u001B[0mmodel\u001B[0m\u001B[1;33m,\u001B[0m \u001B[0mself\u001B[0m\u001B[1;33m.\u001B[0m\u001B[0msample\u001B[0m\u001B[1;33m,\u001B[0m \u001B[0mconditions\u001B[0m\u001B[1;33m=\u001B[0m\u001B[0mself\u001B[0m\u001B[1;33m.\u001B[0m\u001B[0mrequired_conditions\u001B[0m\u001B[1;33m,\u001B[0m \u001B[0mmethod\u001B[0m\u001B[1;33m=\u001B[0m\u001B[0mself\u001B[0m\u001B[1;33m.\u001B[0m\u001B[0mmethod\u001B[0m\u001B[1;33m)\u001B[0m\u001B[1;33m\u001B[0m\u001B[1;33m\u001B[0m\u001B[0m\n\u001B[0m\u001B[0;32m     97\u001B[0m \u001B[1;33m\u001B[0m\u001B[0m\n",
      "\u001B[1;32mC:\\ProgramData\\Anaconda3\\lib\\site-packages\\pyddm-0.3.0-py3.7.egg\\ddm\\functions.py\u001B[0m in \u001B[0;36msolve_all_conditions\u001B[1;34m(model, sample, conditions, method)\u001B[0m\n\u001B[0;32m    448\u001B[0m         \u001B[1;32mfor\u001B[0m \u001B[0mc\u001B[0m \u001B[1;32min\u001B[0m \u001B[0mconds\u001B[0m\u001B[1;33m:\u001B[0m\u001B[1;33m\u001B[0m\u001B[1;33m\u001B[0m\u001B[0m\n\u001B[1;32m--> 449\u001B[1;33m             \u001B[0mcache\u001B[0m\u001B[1;33m[\u001B[0m\u001B[0mfrozenset\u001B[0m\u001B[1;33m(\u001B[0m\u001B[0mc\u001B[0m\u001B[1;33m.\u001B[0m\u001B[0mitems\u001B[0m\u001B[1;33m(\u001B[0m\u001B[1;33m)\u001B[0m\u001B[1;33m)\u001B[0m\u001B[1;33m]\u001B[0m \u001B[1;33m=\u001B[0m \u001B[0mmeth\u001B[0m\u001B[1;33m(\u001B[0m\u001B[0mconditions\u001B[0m\u001B[1;33m=\u001B[0m\u001B[0mc\u001B[0m\u001B[1;33m)\u001B[0m\u001B[1;33m\u001B[0m\u001B[1;33m\u001B[0m\u001B[0m\n\u001B[0m\u001B[0;32m    450\u001B[0m         \u001B[1;32mreturn\u001B[0m \u001B[0mcache\u001B[0m\u001B[1;33m\u001B[0m\u001B[1;33m\u001B[0m\u001B[0m\n",
      "\u001B[1;32mC:\\ProgramData\\Anaconda3\\lib\\site-packages\\paranoid\\decorators.py\u001B[0m in \u001B[0;36m_decorated\u001B[1;34m(*args, **kwargs)\u001B[0m\n\u001B[0;32m    113\u001B[0m         \u001B[1;32mif\u001B[0m \u001B[0mSettings\u001B[0m\u001B[1;33m.\u001B[0m\u001B[0mget\u001B[0m\u001B[1;33m(\u001B[0m\u001B[1;34m\"enabled\"\u001B[0m\u001B[1;33m,\u001B[0m \u001B[0mfunction\u001B[0m\u001B[1;33m=\u001B[0m\u001B[0mfunc\u001B[0m\u001B[1;33m)\u001B[0m \u001B[1;33m==\u001B[0m \u001B[1;32mFalse\u001B[0m\u001B[1;33m:\u001B[0m\u001B[1;33m\u001B[0m\u001B[1;33m\u001B[0m\u001B[0m\n\u001B[1;32m--> 114\u001B[1;33m             \u001B[1;32mreturn\u001B[0m \u001B[0mfunc\u001B[0m\u001B[1;33m(\u001B[0m\u001B[1;33m*\u001B[0m\u001B[0margs\u001B[0m\u001B[1;33m,\u001B[0m \u001B[1;33m**\u001B[0m\u001B[0mkwargs\u001B[0m\u001B[1;33m)\u001B[0m\u001B[1;33m\u001B[0m\u001B[1;33m\u001B[0m\u001B[0m\n\u001B[0m\u001B[0;32m    115\u001B[0m         \u001B[1;31m# We only run this function once for performance reasons, and\u001B[0m\u001B[1;33m\u001B[0m\u001B[1;33m\u001B[0m\u001B[1;33m\u001B[0m\u001B[0m\n",
      "\u001B[1;32mC:\\ProgramData\\Anaconda3\\lib\\site-packages\\pyddm-0.3.0-py3.7.egg\\ddm\\model.py\u001B[0m in \u001B[0;36msolve\u001B[1;34m(self, conditions, return_evolution)\u001B[0m\n\u001B[0;32m    419\u001B[0m         \u001B[1;32melse\u001B[0m\u001B[1;33m:\u001B[0m\u001B[1;33m\u001B[0m\u001B[1;33m\u001B[0m\u001B[0m\n\u001B[1;32m--> 420\u001B[1;33m             \u001B[1;32mreturn\u001B[0m \u001B[0mself\u001B[0m\u001B[1;33m.\u001B[0m\u001B[0msolve_numerical_implicit\u001B[0m\u001B[1;33m(\u001B[0m\u001B[0mconditions\u001B[0m\u001B[1;33m=\u001B[0m\u001B[0mconditions\u001B[0m\u001B[1;33m,\u001B[0m \u001B[0mreturn_evolution\u001B[0m\u001B[1;33m=\u001B[0m\u001B[0mreturn_evolution\u001B[0m\u001B[1;33m)\u001B[0m\u001B[1;33m\u001B[0m\u001B[1;33m\u001B[0m\u001B[0m\n\u001B[0m\u001B[0;32m    421\u001B[0m \u001B[1;33m\u001B[0m\u001B[0m\n",
      "\u001B[1;32mC:\\ProgramData\\Anaconda3\\lib\\site-packages\\paranoid\\decorators.py\u001B[0m in \u001B[0;36m_decorated\u001B[1;34m(*args, **kwargs)\u001B[0m\n\u001B[0;32m    113\u001B[0m         \u001B[1;32mif\u001B[0m \u001B[0mSettings\u001B[0m\u001B[1;33m.\u001B[0m\u001B[0mget\u001B[0m\u001B[1;33m(\u001B[0m\u001B[1;34m\"enabled\"\u001B[0m\u001B[1;33m,\u001B[0m \u001B[0mfunction\u001B[0m\u001B[1;33m=\u001B[0m\u001B[0mfunc\u001B[0m\u001B[1;33m)\u001B[0m \u001B[1;33m==\u001B[0m \u001B[1;32mFalse\u001B[0m\u001B[1;33m:\u001B[0m\u001B[1;33m\u001B[0m\u001B[1;33m\u001B[0m\u001B[0m\n\u001B[1;32m--> 114\u001B[1;33m             \u001B[1;32mreturn\u001B[0m \u001B[0mfunc\u001B[0m\u001B[1;33m(\u001B[0m\u001B[1;33m*\u001B[0m\u001B[0margs\u001B[0m\u001B[1;33m,\u001B[0m \u001B[1;33m**\u001B[0m\u001B[0mkwargs\u001B[0m\u001B[1;33m)\u001B[0m\u001B[1;33m\u001B[0m\u001B[1;33m\u001B[0m\u001B[0m\n\u001B[0m\u001B[0;32m    115\u001B[0m         \u001B[1;31m# We only run this function once for performance reasons, and\u001B[0m\u001B[1;33m\u001B[0m\u001B[1;33m\u001B[0m\u001B[1;33m\u001B[0m\u001B[0m\n",
      "\u001B[1;32mC:\\ProgramData\\Anaconda3\\lib\\site-packages\\pyddm-0.3.0-py3.7.egg\\ddm\\model.py\u001B[0m in \u001B[0;36msolve_numerical_implicit\u001B[1;34m(self, conditions, **kwargs)\u001B[0m\n\u001B[0;32m    661\u001B[0m         \u001B[1;34m\"\"\"Solve the model using the implicit method (Backward Euler).\"\"\"\u001B[0m\u001B[1;33m\u001B[0m\u001B[1;33m\u001B[0m\u001B[0m\n\u001B[1;32m--> 662\u001B[1;33m         \u001B[1;32mreturn\u001B[0m \u001B[0mself\u001B[0m\u001B[1;33m.\u001B[0m\u001B[0msolve_numerical\u001B[0m\u001B[1;33m(\u001B[0m\u001B[0mmethod\u001B[0m\u001B[1;33m=\u001B[0m\u001B[1;34m\"implicit\"\u001B[0m\u001B[1;33m,\u001B[0m \u001B[0mconditions\u001B[0m\u001B[1;33m=\u001B[0m\u001B[0mconditions\u001B[0m\u001B[1;33m,\u001B[0m \u001B[1;33m**\u001B[0m\u001B[0mkwargs\u001B[0m\u001B[1;33m)\u001B[0m\u001B[1;33m\u001B[0m\u001B[1;33m\u001B[0m\u001B[0m\n\u001B[0m\u001B[0;32m    663\u001B[0m \u001B[1;33m\u001B[0m\u001B[0m\n",
      "\u001B[1;32mC:\\ProgramData\\Anaconda3\\lib\\site-packages\\paranoid\\decorators.py\u001B[0m in \u001B[0;36m_decorated\u001B[1;34m(*args, **kwargs)\u001B[0m\n\u001B[0;32m    113\u001B[0m         \u001B[1;32mif\u001B[0m \u001B[0mSettings\u001B[0m\u001B[1;33m.\u001B[0m\u001B[0mget\u001B[0m\u001B[1;33m(\u001B[0m\u001B[1;34m\"enabled\"\u001B[0m\u001B[1;33m,\u001B[0m \u001B[0mfunction\u001B[0m\u001B[1;33m=\u001B[0m\u001B[0mfunc\u001B[0m\u001B[1;33m)\u001B[0m \u001B[1;33m==\u001B[0m \u001B[1;32mFalse\u001B[0m\u001B[1;33m:\u001B[0m\u001B[1;33m\u001B[0m\u001B[1;33m\u001B[0m\u001B[0m\n\u001B[1;32m--> 114\u001B[1;33m             \u001B[1;32mreturn\u001B[0m \u001B[0mfunc\u001B[0m\u001B[1;33m(\u001B[0m\u001B[1;33m*\u001B[0m\u001B[0margs\u001B[0m\u001B[1;33m,\u001B[0m \u001B[1;33m**\u001B[0m\u001B[0mkwargs\u001B[0m\u001B[1;33m)\u001B[0m\u001B[1;33m\u001B[0m\u001B[1;33m\u001B[0m\u001B[0m\n\u001B[0m\u001B[0;32m    115\u001B[0m         \u001B[1;31m# We only run this function once for performance reasons, and\u001B[0m\u001B[1;33m\u001B[0m\u001B[1;33m\u001B[0m\u001B[1;33m\u001B[0m\u001B[0m\n",
      "\u001B[1;32mC:\\ProgramData\\Anaconda3\\lib\\site-packages\\pyddm-0.3.0-py3.7.egg\\ddm\\model.py\u001B[0m in \u001B[0;36msolve_numerical\u001B[1;34m(self, method, conditions, return_evolution)\u001B[0m\n\u001B[0;32m    575\u001B[0m                 \u001B[1;32mif\u001B[0m \u001B[0mmethod\u001B[0m \u001B[1;33m==\u001B[0m \u001B[1;34m\"implicit\"\u001B[0m\u001B[1;33m:\u001B[0m\u001B[1;33m\u001B[0m\u001B[1;33m\u001B[0m\u001B[0m\n\u001B[1;32m--> 576\u001B[1;33m                     \u001B[0mpdf_inner\u001B[0m \u001B[1;33m=\u001B[0m \u001B[0mdiffusion_matrix\u001B[0m\u001B[1;33m.\u001B[0m\u001B[0msplice\u001B[0m\u001B[1;33m(\u001B[0m\u001B[1;36m1\u001B[0m\u001B[1;33m,\u001B[0m\u001B[1;33m-\u001B[0m\u001B[1;36m1\u001B[0m\u001B[1;33m)\u001B[0m\u001B[1;33m.\u001B[0m\u001B[0mspsolve\u001B[0m\u001B[1;33m(\u001B[0m\u001B[0mpdf_prev\u001B[0m\u001B[1;33m[\u001B[0m\u001B[0mx_index_inner\u001B[0m\u001B[1;33m:\u001B[0m\u001B[0mlen\u001B[0m\u001B[1;33m(\u001B[0m\u001B[0mx_list\u001B[0m\u001B[1;33m)\u001B[0m\u001B[1;33m-\u001B[0m\u001B[0mx_index_inner\u001B[0m\u001B[1;33m]\u001B[0m\u001B[1;33m)\u001B[0m\u001B[1;33m\u001B[0m\u001B[1;33m\u001B[0m\u001B[0m\n\u001B[0m\u001B[0;32m    577\u001B[0m                 \u001B[1;32melif\u001B[0m \u001B[0mmethod\u001B[0m \u001B[1;33m==\u001B[0m \u001B[1;34m\"explicit\"\u001B[0m\u001B[1;33m:\u001B[0m\u001B[1;33m\u001B[0m\u001B[1;33m\u001B[0m\u001B[0m\n",
      "\u001B[1;32mC:\\ProgramData\\Anaconda3\\lib\\site-packages\\paranoid\\decorators.py\u001B[0m in \u001B[0;36m_decorated\u001B[1;34m(*args, **kwargs)\u001B[0m\n\u001B[0;32m    113\u001B[0m         \u001B[1;32mif\u001B[0m \u001B[0mSettings\u001B[0m\u001B[1;33m.\u001B[0m\u001B[0mget\u001B[0m\u001B[1;33m(\u001B[0m\u001B[1;34m\"enabled\"\u001B[0m\u001B[1;33m,\u001B[0m \u001B[0mfunction\u001B[0m\u001B[1;33m=\u001B[0m\u001B[0mfunc\u001B[0m\u001B[1;33m)\u001B[0m \u001B[1;33m==\u001B[0m \u001B[1;32mFalse\u001B[0m\u001B[1;33m:\u001B[0m\u001B[1;33m\u001B[0m\u001B[1;33m\u001B[0m\u001B[0m\n\u001B[1;32m--> 114\u001B[1;33m             \u001B[1;32mreturn\u001B[0m \u001B[0mfunc\u001B[0m\u001B[1;33m(\u001B[0m\u001B[1;33m*\u001B[0m\u001B[0margs\u001B[0m\u001B[1;33m,\u001B[0m \u001B[1;33m**\u001B[0m\u001B[0mkwargs\u001B[0m\u001B[1;33m)\u001B[0m\u001B[1;33m\u001B[0m\u001B[1;33m\u001B[0m\u001B[0m\n\u001B[0m\u001B[0;32m    115\u001B[0m         \u001B[1;31m# We only run this function once for performance reasons, and\u001B[0m\u001B[1;33m\u001B[0m\u001B[1;33m\u001B[0m\u001B[1;33m\u001B[0m\u001B[0m\n",
      "\u001B[1;32mC:\\ProgramData\\Anaconda3\\lib\\site-packages\\pyddm-0.3.0-py3.7.egg\\ddm\\tridiag.py\u001B[0m in \u001B[0;36mspsolve\u001B[1;34m(self, vec)\u001B[0m\n\u001B[0;32m    134\u001B[0m         \"\"\"\n\u001B[1;32m--> 135\u001B[1;33m         \u001B[1;33m(\u001B[0m\u001B[0m_\u001B[0m\u001B[1;33m,\u001B[0m \u001B[0m_\u001B[0m\u001B[1;33m,\u001B[0m \u001B[0m_\u001B[0m\u001B[1;33m,\u001B[0m \u001B[0mx\u001B[0m\u001B[1;33m,\u001B[0m \u001B[0m_\u001B[0m\u001B[1;33m)\u001B[0m \u001B[1;33m=\u001B[0m \u001B[0mlapack\u001B[0m\u001B[1;33m.\u001B[0m\u001B[0mdgtsv\u001B[0m\u001B[1;33m(\u001B[0m\u001B[0mself\u001B[0m\u001B[1;33m.\u001B[0m\u001B[0mdown\u001B[0m\u001B[1;33m,\u001B[0m \u001B[0mself\u001B[0m\u001B[1;33m.\u001B[0m\u001B[0mdiag\u001B[0m\u001B[1;33m,\u001B[0m \u001B[0mself\u001B[0m\u001B[1;33m.\u001B[0m\u001B[0mup\u001B[0m\u001B[1;33m,\u001B[0m \u001B[0mvec\u001B[0m\u001B[1;33m)\u001B[0m\u001B[1;33m\u001B[0m\u001B[1;33m\u001B[0m\u001B[0m\n\u001B[0m\u001B[0;32m    136\u001B[0m         \u001B[1;32mreturn\u001B[0m \u001B[0mx\u001B[0m\u001B[1;33m\u001B[0m\u001B[1;33m\u001B[0m\u001B[0m\n",
      "\u001B[1;31mValueError\u001B[0m: unexpected array size: new_size=1, got array with arr_size=0\n",
      "\nThe above exception was the direct cause of the following exception:\n",
      "\u001B[1;31mRuntimeError\u001B[0m                              Traceback (most recent call last)",
      "\u001B[1;32m<ipython-input-9-a0a5e9ffd72a>\u001B[0m in \u001B[0;36m<module>\u001B[1;34m\u001B[0m\n\u001B[0;32m      1\u001B[0m \u001B[0mmodel\u001B[0m \u001B[1;33m=\u001B[0m \u001B[0mmodel_definitions\u001B[0m\u001B[1;33m.\u001B[0m\u001B[0mModelDynamicDriftCollapsingBounds\u001B[0m\u001B[1;33m(\u001B[0m\u001B[1;33m)\u001B[0m\u001B[1;33m\u001B[0m\u001B[1;33m\u001B[0m\u001B[0m\n\u001B[1;32m----> 2\u001B[1;33m \u001B[0mfitted_model\u001B[0m \u001B[1;33m=\u001B[0m \u001B[0mhelper\u001B[0m\u001B[1;33m.\u001B[0m\u001B[0mfit_model\u001B[0m\u001B[1;33m(\u001B[0m\u001B[0mmodel\u001B[0m\u001B[1;33m.\u001B[0m\u001B[0mmodel\u001B[0m\u001B[1;33m,\u001B[0m \u001B[0mtraining_data\u001B[0m\u001B[1;33m,\u001B[0m \u001B[0mloss_function\u001B[0m\u001B[1;33m=\u001B[0m\u001B[0mmodel_definitions\u001B[0m\u001B[1;33m.\u001B[0m\u001B[0mLossWLS\u001B[0m\u001B[1;33m)\u001B[0m\u001B[1;33m\u001B[0m\u001B[1;33m\u001B[0m\u001B[0m\n\u001B[0m",
      "\u001B[1;32mD:\\source\\evidence_accumulation_in_gap_acceptance\\data_and_model_analysis\\helper.py\u001B[0m in \u001B[0;36mfit_model\u001B[1;34m(model, training_data, loss_function)\u001B[0m\n\u001B[0;32m    166\u001B[0m                                                        correct_column_name='is_turn_decision')\n\u001B[0;32m    167\u001B[0m     return(ddm.fit_adjust_model(sample=training_sample, model=model, \n\u001B[1;32m--> 168\u001B[1;33m                                 lossfunction=loss_function, suppress_output=True))\n\u001B[0m",
      "\u001B[1;32mC:\\ProgramData\\Anaconda3\\lib\\site-packages\\pyddm-0.3.0-py3.7.egg\\ddm\\functions.py\u001B[0m in \u001B[0;36mfit_adjust_model\u001B[1;34m(sample, model, fitparams, fitting_method, lossfunction, verify, method, suppress_output)\u001B[0m\n\u001B[0;32m    317\u001B[0m         \u001B[0mx_fit\u001B[0m \u001B[1;33m=\u001B[0m \u001B[0mbasinhopping\u001B[0m\u001B[1;33m(\u001B[0m\u001B[0m_fit_model\u001B[0m\u001B[1;33m,\u001B[0m \u001B[0mx_0\u001B[0m\u001B[1;33m,\u001B[0m \u001B[0mminimizer_kwargs\u001B[0m\u001B[1;33m=\u001B[0m\u001B[1;33m{\u001B[0m\u001B[1;34m\"bounds\"\u001B[0m \u001B[1;33m:\u001B[0m \u001B[0mconstraints\u001B[0m\u001B[1;33m,\u001B[0m \u001B[1;34m\"method\"\u001B[0m \u001B[1;33m:\u001B[0m \u001B[1;34m\"TNC\"\u001B[0m\u001B[1;33m}\u001B[0m\u001B[1;33m,\u001B[0m \u001B[0mdisp\u001B[0m\u001B[1;33m=\u001B[0m\u001B[1;32mTrue\u001B[0m\u001B[1;33m,\u001B[0m \u001B[1;33m**\u001B[0m\u001B[0mfitparams\u001B[0m\u001B[1;33m)\u001B[0m\u001B[1;33m\u001B[0m\u001B[1;33m\u001B[0m\u001B[0m\n\u001B[0;32m    318\u001B[0m     \u001B[1;32melif\u001B[0m \u001B[0mfitting_method\u001B[0m \u001B[1;33m==\u001B[0m \u001B[1;34m\"differential_evolution\"\u001B[0m\u001B[1;33m:\u001B[0m\u001B[1;33m\u001B[0m\u001B[1;33m\u001B[0m\u001B[0m\n\u001B[1;32m--> 319\u001B[1;33m         \u001B[0mx_fit\u001B[0m \u001B[1;33m=\u001B[0m \u001B[0mdifferential_evolution\u001B[0m\u001B[1;33m(\u001B[0m\u001B[0m_fit_model\u001B[0m\u001B[1;33m,\u001B[0m \u001B[0mconstraints\u001B[0m\u001B[1;33m,\u001B[0m \u001B[0mdisp\u001B[0m\u001B[1;33m=\u001B[0m\u001B[1;32mTrue\u001B[0m\u001B[1;33m,\u001B[0m \u001B[1;33m**\u001B[0m\u001B[0mfitparams\u001B[0m\u001B[1;33m)\u001B[0m\u001B[1;33m\u001B[0m\u001B[1;33m\u001B[0m\u001B[0m\n\u001B[0m\u001B[0;32m    320\u001B[0m     \u001B[1;32melif\u001B[0m \u001B[0mfitting_method\u001B[0m \u001B[1;33m==\u001B[0m \u001B[1;34m\"hillclimb\"\u001B[0m\u001B[1;33m:\u001B[0m\u001B[1;33m\u001B[0m\u001B[1;33m\u001B[0m\u001B[0m\n\u001B[0;32m    321\u001B[0m         \u001B[0mx_fit\u001B[0m \u001B[1;33m=\u001B[0m \u001B[0mevolution_strategy\u001B[0m\u001B[1;33m(\u001B[0m\u001B[0m_fit_model\u001B[0m\u001B[1;33m,\u001B[0m \u001B[0mx_0\u001B[0m\u001B[1;33m,\u001B[0m \u001B[1;33m**\u001B[0m\u001B[0mfitparams\u001B[0m\u001B[1;33m)\u001B[0m\u001B[1;33m\u001B[0m\u001B[1;33m\u001B[0m\u001B[0m\n",
      "\u001B[1;32mC:\\ProgramData\\Anaconda3\\lib\\site-packages\\scipy\\optimize\\_differentialevolution.py\u001B[0m in \u001B[0;36mdifferential_evolution\u001B[1;34m(func, bounds, args, strategy, maxiter, popsize, tol, mutation, recombination, seed, callback, disp, polish, init, atol, updating, workers, constraints, x0)\u001B[0m\n\u001B[0;32m    327\u001B[0m                                      \u001B[0mconstraints\u001B[0m\u001B[1;33m=\u001B[0m\u001B[0mconstraints\u001B[0m\u001B[1;33m,\u001B[0m\u001B[1;33m\u001B[0m\u001B[1;33m\u001B[0m\u001B[0m\n\u001B[0;32m    328\u001B[0m                                      x0=x0) as solver:\n\u001B[1;32m--> 329\u001B[1;33m         \u001B[0mret\u001B[0m \u001B[1;33m=\u001B[0m \u001B[0msolver\u001B[0m\u001B[1;33m.\u001B[0m\u001B[0msolve\u001B[0m\u001B[1;33m(\u001B[0m\u001B[1;33m)\u001B[0m\u001B[1;33m\u001B[0m\u001B[1;33m\u001B[0m\u001B[0m\n\u001B[0m\u001B[0;32m    330\u001B[0m \u001B[1;33m\u001B[0m\u001B[0m\n\u001B[0;32m    331\u001B[0m     \u001B[1;32mreturn\u001B[0m \u001B[0mret\u001B[0m\u001B[1;33m\u001B[0m\u001B[1;33m\u001B[0m\u001B[0m\n",
      "\u001B[1;32mC:\\ProgramData\\Anaconda3\\lib\\site-packages\\scipy\\optimize\\_differentialevolution.py\u001B[0m in \u001B[0;36msolve\u001B[1;34m(self)\u001B[0m\n\u001B[0;32m    842\u001B[0m             self.population_energies[self.feasible] = (\n\u001B[0;32m    843\u001B[0m                 self._calculate_population_energies(\n\u001B[1;32m--> 844\u001B[1;33m                     self.population[self.feasible]))\n\u001B[0m\u001B[0;32m    845\u001B[0m \u001B[1;33m\u001B[0m\u001B[0m\n\u001B[0;32m    846\u001B[0m             \u001B[0mself\u001B[0m\u001B[1;33m.\u001B[0m\u001B[0m_promote_lowest_energy\u001B[0m\u001B[1;33m(\u001B[0m\u001B[1;33m)\u001B[0m\u001B[1;33m\u001B[0m\u001B[1;33m\u001B[0m\u001B[0m\n",
      "\u001B[1;32mC:\\ProgramData\\Anaconda3\\lib\\site-packages\\scipy\\optimize\\_differentialevolution.py\u001B[0m in \u001B[0;36m_calculate_population_energies\u001B[1;34m(self, population)\u001B[0m\n\u001B[0;32m    973\u001B[0m                 \u001B[1;34m\"The map-like callable must be of the form f(func, iterable), \"\u001B[0m\u001B[1;33m\u001B[0m\u001B[1;33m\u001B[0m\u001B[0m\n\u001B[0;32m    974\u001B[0m                 \u001B[1;34m\"returning a sequence of numbers the same length as 'iterable'\"\u001B[0m\u001B[1;33m\u001B[0m\u001B[1;33m\u001B[0m\u001B[0m\n\u001B[1;32m--> 975\u001B[1;33m             ) from e\n\u001B[0m\u001B[0;32m    976\u001B[0m \u001B[1;33m\u001B[0m\u001B[0m\n\u001B[0;32m    977\u001B[0m         \u001B[0mself\u001B[0m\u001B[1;33m.\u001B[0m\u001B[0m_nfev\u001B[0m \u001B[1;33m+=\u001B[0m \u001B[0mnfevs\u001B[0m\u001B[1;33m\u001B[0m\u001B[1;33m\u001B[0m\u001B[0m\n",
      "\u001B[1;31mRuntimeError\u001B[0m: The map-like callable must be of the form f(func, iterable), returning a sequence of numbers the same length as 'iterable'"
     ]
    }
   ],
   "source": [
    "model = model_definitions.ModelDynamicDriftCollapsingBounds()\n",
    "fitted_model = helper.fit_model(model.model, training_data, loss_function=model_definitions.LossWLS)"
   ]
  },
  {
   "cell_type": "code",
   "execution_count": 6,
   "metadata": {
    "scrolled": true
   },
   "outputs": [
    {
     "name": "stdout",
     "output_type": "stream",
     "text": [
      "differential_evolution step 1: f(x)= 1.44158\n",
      "differential_evolution step 2: f(x)= 1.44158\n",
      "differential_evolution step 3: f(x)= 0.618542\n",
      "differential_evolution step 4: f(x)= 0.618542\n",
      "differential_evolution step 5: f(x)= 0.618542\n",
      "differential_evolution step 6: f(x)= 0.495709\n",
      "differential_evolution step 7: f(x)= 0.425926\n",
      "differential_evolution step 8: f(x)= 0.425926\n",
      "differential_evolution step 9: f(x)= 0.425926\n",
      "differential_evolution step 10: f(x)= 0.425926\n",
      "differential_evolution step 11: f(x)= 0.366954\n",
      "differential_evolution step 12: f(x)= 0.366954\n",
      "differential_evolution step 13: f(x)= 0.366954\n",
      "differential_evolution step 14: f(x)= 0.366954\n",
      "differential_evolution step 15: f(x)= 0.34407\n",
      "differential_evolution step 16: f(x)= 0.34407\n",
      "differential_evolution step 17: f(x)= 0.34407\n",
      "differential_evolution step 18: f(x)= 0.34407\n",
      "differential_evolution step 19: f(x)= 0.34407\n",
      "differential_evolution step 20: f(x)= 0.295863\n",
      "differential_evolution step 21: f(x)= 0.295863\n",
      "differential_evolution step 22: f(x)= 0.295863\n",
      "differential_evolution step 23: f(x)= 0.295863\n",
      "differential_evolution step 24: f(x)= 0.295863\n",
      "differential_evolution step 25: f(x)= 0.295863\n",
      "differential_evolution step 26: f(x)= 0.295863\n",
      "differential_evolution step 27: f(x)= 0.295863\n",
      "differential_evolution step 28: f(x)= 0.295863\n",
      "differential_evolution step 29: f(x)= 0.295863\n",
      "differential_evolution step 30: f(x)= 0.295863\n",
      "differential_evolution step 31: f(x)= 0.293276\n",
      "differential_evolution step 32: f(x)= 0.293276\n",
      "differential_evolution step 33: f(x)= 0.293276\n",
      "differential_evolution step 34: f(x)= 0.293276\n",
      "differential_evolution step 35: f(x)= 0.293276\n",
      "differential_evolution step 36: f(x)= 0.292943\n",
      "differential_evolution step 37: f(x)= 0.292943\n",
      "differential_evolution step 38: f(x)= 0.292943\n",
      "differential_evolution step 39: f(x)= 0.292943\n",
      "differential_evolution step 40: f(x)= 0.292943\n",
      "differential_evolution step 41: f(x)= 0.292544\n",
      "differential_evolution step 42: f(x)= 0.292544\n",
      "differential_evolution step 43: f(x)= 0.292062\n",
      "differential_evolution step 44: f(x)= 0.291284\n",
      "differential_evolution step 45: f(x)= 0.291284\n",
      "differential_evolution step 46: f(x)= 0.291225\n",
      "differential_evolution step 47: f(x)= 0.29043\n",
      "differential_evolution step 48: f(x)= 0.29043\n",
      "differential_evolution step 49: f(x)= 0.29043\n",
      "differential_evolution step 50: f(x)= 0.29043\n",
      "differential_evolution step 51: f(x)= 0.289298\n",
      "differential_evolution step 52: f(x)= 0.289298\n",
      "differential_evolution step 53: f(x)= 0.289209\n",
      "differential_evolution step 54: f(x)= 0.289209\n",
      "differential_evolution step 55: f(x)= 0.289209\n",
      "differential_evolution step 56: f(x)= 0.289209\n",
      "Params [ 1.82199981  0.28714511 38.34475865  0.30994072  0.48696629  0.10555174] gave 0.2885561030035307\n"
     ]
    }
   ],
   "source": [
    "model = model_definitions.ModelDynamicDriftFixedBounds()\n",
    "fitted_model = helper.fit_model(model.model, training_data, loss_function=model_definitions.LossWLS)"
   ]
  },
  {
   "cell_type": "code",
   "execution_count": 7,
   "metadata": {},
   "outputs": [
    {
     "data": {
      "text/plain": [
       "[Fitted(1.8219998090799499, minval=0.1, maxval=5),\n",
       " Fitted(0.28714510729955744, minval=0, maxval=0.5),\n",
       " Fitted(38.34475865459486, minval=4, maxval=40),\n",
       " 1,\n",
       " Fitted(0.3099407157290437, minval=0.1, maxval=5),\n",
       " Fitted(0.4869662928455276, minval=0, maxval=0.6),\n",
       " Fitted(0.1055517384274866, minval=0.001, maxval=0.3)]"
      ]
     },
     "execution_count": 7,
     "metadata": {},
     "output_type": "execute_result"
    }
   ],
   "source": [
    "fitted_model.get_model_parameters()"
   ]
  },
  {
   "cell_type": "markdown",
   "metadata": {},
   "source": [
    "Now let's try a different model"
   ]
  },
  {
   "cell_type": "code",
   "execution_count": 5,
   "metadata": {
    "scrolled": true
   },
   "outputs": [
    {
     "name": "stdout",
     "output_type": "stream",
     "text": [
      "differential_evolution step 1: f(x)= 2.53255\n",
      "differential_evolution step 2: f(x)= 2.53255\n",
      "differential_evolution step 3: f(x)= 2.32635\n",
      "differential_evolution step 4: f(x)= 1.77817\n",
      "differential_evolution step 5: f(x)= 1.77817\n",
      "differential_evolution step 6: f(x)= 1.70907\n",
      "differential_evolution step 7: f(x)= 1.08172\n",
      "differential_evolution step 8: f(x)= 0.75721\n",
      "differential_evolution step 9: f(x)= 0.75721\n",
      "differential_evolution step 10: f(x)= 0.638955\n",
      "differential_evolution step 11: f(x)= 0.638955\n",
      "differential_evolution step 12: f(x)= 0.638955\n",
      "differential_evolution step 13: f(x)= 0.638955\n",
      "differential_evolution step 14: f(x)= 0.638955\n",
      "differential_evolution step 15: f(x)= 0.638955\n",
      "differential_evolution step 16: f(x)= 0.638955\n",
      "differential_evolution step 17: f(x)= 0.638955\n",
      "differential_evolution step 18: f(x)= 0.638955\n",
      "differential_evolution step 19: f(x)= 0.638955\n",
      "differential_evolution step 20: f(x)= 0.638955\n",
      "differential_evolution step 21: f(x)= 0.578292\n",
      "differential_evolution step 22: f(x)= 0.578292\n",
      "differential_evolution step 23: f(x)= 0.48486\n",
      "differential_evolution step 24: f(x)= 0.48486\n",
      "differential_evolution step 25: f(x)= 0.48486\n",
      "differential_evolution step 26: f(x)= 0.48486\n",
      "differential_evolution step 27: f(x)= 0.469284\n",
      "differential_evolution step 28: f(x)= 0.469284\n",
      "differential_evolution step 29: f(x)= 0.449601\n",
      "differential_evolution step 30: f(x)= 0.449601\n",
      "differential_evolution step 31: f(x)= 0.449601\n",
      "differential_evolution step 32: f(x)= 0.440136\n",
      "differential_evolution step 33: f(x)= 0.422244\n",
      "differential_evolution step 34: f(x)= 0.422244\n",
      "differential_evolution step 35: f(x)= 0.418269\n",
      "differential_evolution step 36: f(x)= 0.405811\n",
      "differential_evolution step 37: f(x)= 0.405811\n",
      "differential_evolution step 38: f(x)= 0.405811\n",
      "differential_evolution step 39: f(x)= 0.405811\n",
      "differential_evolution step 40: f(x)= 0.405811\n",
      "differential_evolution step 41: f(x)= 0.405811\n",
      "differential_evolution step 42: f(x)= 0.405413\n",
      "differential_evolution step 43: f(x)= 0.405413\n",
      "differential_evolution step 44: f(x)= 0.405413\n",
      "differential_evolution step 45: f(x)= 0.405413\n",
      "differential_evolution step 46: f(x)= 0.399351\n",
      "differential_evolution step 47: f(x)= 0.399351\n",
      "differential_evolution step 48: f(x)= 0.399351\n",
      "differential_evolution step 49: f(x)= 0.398296\n",
      "differential_evolution step 50: f(x)= 0.398296\n",
      "differential_evolution step 51: f(x)= 0.398296\n",
      "differential_evolution step 52: f(x)= 0.398286\n",
      "differential_evolution step 53: f(x)= 0.398286\n",
      "Params [ 1.12394472  0.13375333 20.5449583   0.50344695  0.38160058  0.06702318] gave 0.39799316232958587\n"
     ]
    }
   ],
   "source": [
    "model = model_definitions.ModelStaticDriftFixedBounds()\n",
    "fitted_model = helper.fit_model(model.model, training_data, loss_function=model_definitions.LossWLS)"
   ]
  },
  {
   "cell_type": "code",
   "execution_count": 6,
   "metadata": {},
   "outputs": [
    {
     "data": {
      "text/plain": [
       "[Fitted(1.1239447204950503, minval=0.1, maxval=3),\n",
       " Fitted(0.1337533262576112, minval=0, maxval=0.5),\n",
       " Fitted(20.544958301180813, minval=4, maxval=40),\n",
       " 1,\n",
       " Fitted(0.5034469482099349, minval=0.5, maxval=5),\n",
       " Fitted(0.3816005757578229, minval=0, maxval=0.6),\n",
       " Fitted(0.06702318229244071, minval=0.001, maxval=0.3)]"
      ]
     },
     "execution_count": 6,
     "metadata": {},
     "output_type": "execute_result"
    }
   ],
   "source": [
    "fitted_model.get_model_parameters()"
   ]
  },
  {
   "cell_type": "markdown",
   "metadata": {},
   "source": [
    "# Trying to recover old results"
   ]
  },
  {
   "cell_type": "code",
   "execution_count": null,
   "metadata": {},
   "outputs": [],
   "source": [
    "import loss_functions\n",
    "import models\n",
    "import pandas as pd\n",
    "import helper\n",
    "\n",
    "exp_data = pd.read_csv('../data/measures.csv', usecols=['subj_id', 'RT', 'is_turn_decision', \n",
    "                                                        'tta_condition', 'd_condition'])\n",
    "training_data = exp_data[(exp_data.subj_id == 389)]\n",
    "\n",
    "model = models.ModelDynamicDriftCollapsingBounds()\n",
    "fitted_model = helper.fit_model(model.model, training_data, loss_function=loss_functions.LossWLS)"
   ]
  },
  {
   "cell_type": "code",
   "execution_count": 2,
   "metadata": {},
   "outputs": [
    {
     "data": {
      "text/plain": [
       "[Fitted(1.5012844270022296, minval=0.1, maxval=3),\n",
       " Fitted(0.053105809617862654, minval=0, maxval=1.0),\n",
       " Fitted(11.707134529473688, minval=4, maxval=40),\n",
       " 1,\n",
       " Fitted(0.8633102862560065, minval=0.5, maxval=5),\n",
       " Fitted(0.10749408733412236, minval=0.1, maxval=2),\n",
       " Fitted(4.445156371464247, minval=3, maxval=6),\n",
       " Fitted(0.4796318844292868, minval=0, maxval=1.0),\n",
       " Fitted(0.10247517277120909, minval=0.001, maxval=0.3)]"
      ]
     },
     "execution_count": 2,
     "metadata": {},
     "output_type": "execute_result"
    }
   ],
   "source": [
    "fitted_model.get_model_parameters()"
   ]
  }
 ],
 "metadata": {
  "kernelspec": {
   "display_name": "Python 3",
   "language": "python",
   "name": "python3"
  },
  "language_info": {
   "codemirror_mode": {
    "name": "ipython",
    "version": 3
   },
   "file_extension": ".py",
   "mimetype": "text/x-python",
   "name": "python",
   "nbconvert_exporter": "python",
   "pygments_lexer": "ipython3",
   "version": "3.7.4"
  }
 },
 "nbformat": 4,
 "nbformat_minor": 1
}